{
 "cells": [
  {
   "cell_type": "markdown",
   "metadata": {},
   "source": [
    "# Исследование рынка заведений общественного питания Москвы"
   ]
  },
  {
   "cell_type": "markdown",
   "metadata": {},
   "source": [
    "<hr style=\"border: 1px solid #000;\"> "
   ]
  },
  {
   "cell_type": "markdown",
   "metadata": {},
   "source": [
    "## Описание проекта <br>\n",
    "\n",
    "Планируется открыть небольшое кафе в Москве, где гостей должны обслуживать роботы. Проект многообещающий, но дорогой. Инвесторов интересует текущее положение дел на рынке — сможет ли кафе снискать популярность на долгое время, когда все насмотрятся на роботов-официантов? Подготовим исследование рынка на основе открытых данных о заведениях общественного питания в Москве."
   ]
  },
  {
   "cell_type": "markdown",
   "metadata": {},
   "source": [
    "<b> Описание данных </b> Таблица df: <br>\n",
    "•\tid — идентификатор объекта; <br>\n",
    "•\tobject_name — название объекта общественного питания; <br>\n",
    "•\tchain — сетевой ресторан; <br>\n",
    "•\tobject_type — тип объекта общественного питания; <br>\n",
    "•\taddress — адрес; <br>\n",
    "•\tnumber — количество посадочных мест.\n"
   ]
  },
  {
   "cell_type": "markdown",
   "metadata": {},
   "source": [
    "<hr style=\"border: 1px solid #000;\"> "
   ]
  },
  {
   "cell_type": "markdown",
   "metadata": {},
   "source": [
    "## Обзор данных"
   ]
  },
  {
   "cell_type": "code",
   "execution_count": 1,
   "metadata": {},
   "outputs": [
    {
     "name": "stdout",
     "output_type": "stream",
     "text": [
      "Defaulting to user installation because normal site-packages is not writeable\n",
      "Requirement already satisfied: plotly in /opt/conda/lib/python3.7/site-packages (4.1.0)\n",
      "Requirement already satisfied: six in /opt/conda/lib/python3.7/site-packages (from plotly) (1.15.0)\n",
      "Requirement already satisfied: retrying>=1.3.3 in /opt/conda/lib/python3.7/site-packages (from plotly) (1.3.3)\n"
     ]
    }
   ],
   "source": [
    "import pandas as pd\n",
    "import numpy as np\n",
    "import scipy.stats as st\n",
    "import matplotlib.pyplot as plt\n",
    "import seaborn as sns\n",
    "import warnings\n",
    "warnings.filterwarnings('ignore')  \n",
    "\n",
    "!pip install plotly\n",
    "import plotly.express as px\n",
    "from plotly import graph_objects as go"
   ]
  },
  {
   "cell_type": "code",
   "execution_count": 2,
   "metadata": {},
   "outputs": [],
   "source": [
    "df = pd.read_csv('https://code.s3.yandex.net/datasets/rest_data.csv')  "
   ]
  },
  {
   "cell_type": "code",
   "execution_count": 3,
   "metadata": {},
   "outputs": [
    {
     "name": "stdout",
     "output_type": "stream",
     "text": [
      "<class 'pandas.core.frame.DataFrame'>\n",
      "RangeIndex: 15366 entries, 0 to 15365\n",
      "Data columns (total 6 columns):\n",
      "id             15366 non-null int64\n",
      "object_name    15366 non-null object\n",
      "chain          15366 non-null object\n",
      "object_type    15366 non-null object\n",
      "address        15366 non-null object\n",
      "number         15366 non-null int64\n",
      "dtypes: int64(2), object(4)\n",
      "memory usage: 720.4+ KB\n"
     ]
    },
    {
     "data": {
      "text/html": [
       "<div>\n",
       "<style scoped>\n",
       "    .dataframe tbody tr th:only-of-type {\n",
       "        vertical-align: middle;\n",
       "    }\n",
       "\n",
       "    .dataframe tbody tr th {\n",
       "        vertical-align: top;\n",
       "    }\n",
       "\n",
       "    .dataframe thead th {\n",
       "        text-align: right;\n",
       "    }\n",
       "</style>\n",
       "<table border=\"1\" class=\"dataframe\">\n",
       "  <thead>\n",
       "    <tr style=\"text-align: right;\">\n",
       "      <th></th>\n",
       "      <th>id</th>\n",
       "      <th>object_name</th>\n",
       "      <th>chain</th>\n",
       "      <th>object_type</th>\n",
       "      <th>address</th>\n",
       "      <th>number</th>\n",
       "    </tr>\n",
       "  </thead>\n",
       "  <tbody>\n",
       "    <tr>\n",
       "      <td>0</td>\n",
       "      <td>151635</td>\n",
       "      <td>СМЕТАНА</td>\n",
       "      <td>нет</td>\n",
       "      <td>кафе</td>\n",
       "      <td>город Москва, улица Егора Абакумова, дом 9</td>\n",
       "      <td>48</td>\n",
       "    </tr>\n",
       "    <tr>\n",
       "      <td>1</td>\n",
       "      <td>77874</td>\n",
       "      <td>Родник</td>\n",
       "      <td>нет</td>\n",
       "      <td>кафе</td>\n",
       "      <td>город Москва, улица Талалихина, дом 2/1, корпус 1</td>\n",
       "      <td>35</td>\n",
       "    </tr>\n",
       "    <tr>\n",
       "      <td>2</td>\n",
       "      <td>24309</td>\n",
       "      <td>Кафе «Академия»</td>\n",
       "      <td>нет</td>\n",
       "      <td>кафе</td>\n",
       "      <td>город Москва, Абельмановская улица, дом 6</td>\n",
       "      <td>95</td>\n",
       "    </tr>\n",
       "    <tr>\n",
       "      <td>12062</td>\n",
       "      <td>182973</td>\n",
       "      <td>БУРГЕР КИНГ</td>\n",
       "      <td>да</td>\n",
       "      <td>кафе</td>\n",
       "      <td>город Москва, Ярославское шоссе, дом 69</td>\n",
       "      <td>60</td>\n",
       "    </tr>\n",
       "    <tr>\n",
       "      <td>8819</td>\n",
       "      <td>156321</td>\n",
       "      <td>Кафе «Тетя Мотя»</td>\n",
       "      <td>нет</td>\n",
       "      <td>кафе</td>\n",
       "      <td>город Москва, проезд Сокольнического Круга, дом 7</td>\n",
       "      <td>100</td>\n",
       "    </tr>\n",
       "    <tr>\n",
       "      <td>14197</td>\n",
       "      <td>206042</td>\n",
       "      <td>Чебуречная</td>\n",
       "      <td>нет</td>\n",
       "      <td>магазин (отдел кулинарии)</td>\n",
       "      <td>город Москва, Открытое шоссе, дом 9, строение 9</td>\n",
       "      <td>0</td>\n",
       "    </tr>\n",
       "    <tr>\n",
       "      <td>15363</td>\n",
       "      <td>209186</td>\n",
       "      <td>Шоколадница</td>\n",
       "      <td>да</td>\n",
       "      <td>кафе</td>\n",
       "      <td>город Москва, улица Земляной Вал, дом 33</td>\n",
       "      <td>20</td>\n",
       "    </tr>\n",
       "    <tr>\n",
       "      <td>15364</td>\n",
       "      <td>221900</td>\n",
       "      <td>Шоколадница</td>\n",
       "      <td>да</td>\n",
       "      <td>кафе</td>\n",
       "      <td>город Москва, поселение Московский, Киевское ш...</td>\n",
       "      <td>36</td>\n",
       "    </tr>\n",
       "    <tr>\n",
       "      <td>15365</td>\n",
       "      <td>222535</td>\n",
       "      <td>Шоколадница</td>\n",
       "      <td>да</td>\n",
       "      <td>кафе</td>\n",
       "      <td>город Москва, Ходынский бульвар, дом 4</td>\n",
       "      <td>10</td>\n",
       "    </tr>\n",
       "  </tbody>\n",
       "</table>\n",
       "</div>"
      ],
      "text/plain": [
       "           id       object_name chain                object_type  \\\n",
       "0      151635           СМЕТАНА   нет                       кафе   \n",
       "1       77874            Родник   нет                       кафе   \n",
       "2       24309   Кафе «Академия»   нет                       кафе   \n",
       "12062  182973       БУРГЕР КИНГ    да                       кафе   \n",
       "8819   156321  Кафе «Тетя Мотя»   нет                       кафе   \n",
       "14197  206042        Чебуречная   нет  магазин (отдел кулинарии)   \n",
       "15363  209186       Шоколадница    да                       кафе   \n",
       "15364  221900       Шоколадница    да                       кафе   \n",
       "15365  222535       Шоколадница    да                       кафе   \n",
       "\n",
       "                                                 address  number  \n",
       "0             город Москва, улица Егора Абакумова, дом 9      48  \n",
       "1      город Москва, улица Талалихина, дом 2/1, корпус 1      35  \n",
       "2              город Москва, Абельмановская улица, дом 6      95  \n",
       "12062            город Москва, Ярославское шоссе, дом 69      60  \n",
       "8819   город Москва, проезд Сокольнического Круга, дом 7     100  \n",
       "14197    город Москва, Открытое шоссе, дом 9, строение 9       0  \n",
       "15363           город Москва, улица Земляной Вал, дом 33      20  \n",
       "15364  город Москва, поселение Московский, Киевское ш...      36  \n",
       "15365             город Москва, Ходынский бульвар, дом 4      10  "
      ]
     },
     "execution_count": 3,
     "metadata": {},
     "output_type": "execute_result"
    }
   ],
   "source": [
    "df.info()\n",
    "def obzor (d, n):\n",
    "    return pd.concat([d.head(n), d.sample(n, random_state=42), d.tail(n)], axis=0)\n",
    "obzor(df, 3)"
   ]
  },
  {
   "cell_type": "code",
   "execution_count": 4,
   "metadata": {},
   "outputs": [
    {
     "data": {
      "text/plain": [
       "id             0.0\n",
       "object_name    0.0\n",
       "chain          0.0\n",
       "object_type    0.0\n",
       "address        0.0\n",
       "number         0.0\n",
       "dtype: float64"
      ]
     },
     "execution_count": 4,
     "metadata": {},
     "output_type": "execute_result"
    }
   ],
   "source": [
    "df.isna().mean()"
   ]
  },
  {
   "cell_type": "code",
   "execution_count": 5,
   "metadata": {},
   "outputs": [
    {
     "data": {
      "text/plain": [
       "0"
      ]
     },
     "execution_count": 5,
     "metadata": {},
     "output_type": "execute_result"
    }
   ],
   "source": [
    "df.duplicated().sum()"
   ]
  },
  {
   "cell_type": "markdown",
   "metadata": {},
   "source": [
    "Загрузили датафрейм . Просмотрели инфо и по 3 строк начальных, конечных и рандомных. Видим разные написания названий кафе,  может нужно будет привести данные к единообразию. 15366  строк, пропусков и дублей нет.  Типы данных в порядке "
   ]
  },
  {
   "cell_type": "code",
   "execution_count": 6,
   "metadata": {},
   "outputs": [
    {
     "data": {
      "text/plain": [
       "array(['кафе', 'столовая', 'закусочная',\n",
       "       'предприятие быстрого обслуживания', 'ресторан', 'кафетерий',\n",
       "       'буфет', 'бар', 'магазин (отдел кулинарии)'], dtype=object)"
      ]
     },
     "execution_count": 6,
     "metadata": {},
     "output_type": "execute_result"
    }
   ],
   "source": [
    "df['object_type'].unique()"
   ]
  },
  {
   "cell_type": "code",
   "execution_count": 7,
   "metadata": {},
   "outputs": [
    {
     "data": {
      "text/html": [
       "<div>\n",
       "<style scoped>\n",
       "    .dataframe tbody tr th:only-of-type {\n",
       "        vertical-align: middle;\n",
       "    }\n",
       "\n",
       "    .dataframe tbody tr th {\n",
       "        vertical-align: top;\n",
       "    }\n",
       "\n",
       "    .dataframe thead th {\n",
       "        text-align: right;\n",
       "    }\n",
       "</style>\n",
       "<table border=\"1\" class=\"dataframe\">\n",
       "  <thead>\n",
       "    <tr style=\"text-align: right;\">\n",
       "      <th></th>\n",
       "      <th>id</th>\n",
       "      <th>object_name</th>\n",
       "      <th>chain</th>\n",
       "      <th>object_type</th>\n",
       "      <th>address</th>\n",
       "      <th>number</th>\n",
       "    </tr>\n",
       "  </thead>\n",
       "  <tbody>\n",
       "    <tr>\n",
       "      <td>0</td>\n",
       "      <td>151635</td>\n",
       "      <td>сметана</td>\n",
       "      <td>нет</td>\n",
       "      <td>кафе</td>\n",
       "      <td>город москва, улица егора абакумова, дом 9</td>\n",
       "      <td>48</td>\n",
       "    </tr>\n",
       "    <tr>\n",
       "      <td>1</td>\n",
       "      <td>77874</td>\n",
       "      <td>родник</td>\n",
       "      <td>нет</td>\n",
       "      <td>кафе</td>\n",
       "      <td>город москва, улица талалихина, дом 2/1, корпус 1</td>\n",
       "      <td>35</td>\n",
       "    </tr>\n",
       "    <tr>\n",
       "      <td>2</td>\n",
       "      <td>24309</td>\n",
       "      <td>кафе «академия»</td>\n",
       "      <td>нет</td>\n",
       "      <td>кафе</td>\n",
       "      <td>город москва, абельмановская улица, дом 6</td>\n",
       "      <td>95</td>\n",
       "    </tr>\n",
       "    <tr>\n",
       "      <td>3</td>\n",
       "      <td>21894</td>\n",
       "      <td>пиццетория</td>\n",
       "      <td>да</td>\n",
       "      <td>кафе</td>\n",
       "      <td>город москва, абрамцевская улица, дом 1</td>\n",
       "      <td>40</td>\n",
       "    </tr>\n",
       "    <tr>\n",
       "      <td>4</td>\n",
       "      <td>119365</td>\n",
       "      <td>кафе «вишневая метель»</td>\n",
       "      <td>нет</td>\n",
       "      <td>кафе</td>\n",
       "      <td>город москва, абрамцевская улица, дом 9, корпус 1</td>\n",
       "      <td>50</td>\n",
       "    </tr>\n",
       "  </tbody>\n",
       "</table>\n",
       "</div>"
      ],
      "text/plain": [
       "       id             object_name chain object_type  \\\n",
       "0  151635                 сметана   нет        кафе   \n",
       "1   77874                  родник   нет        кафе   \n",
       "2   24309         кафе «академия»   нет        кафе   \n",
       "3   21894              пиццетория    да        кафе   \n",
       "4  119365  кафе «вишневая метель»   нет        кафе   \n",
       "\n",
       "                                             address  number  \n",
       "0         город москва, улица егора абакумова, дом 9      48  \n",
       "1  город москва, улица талалихина, дом 2/1, корпус 1      35  \n",
       "2          город москва, абельмановская улица, дом 6      95  \n",
       "3            город москва, абрамцевская улица, дом 1      40  \n",
       "4  город москва, абрамцевская улица, дом 9, корпус 1      50  "
      ]
     },
     "execution_count": 7,
     "metadata": {},
     "output_type": "execute_result"
    }
   ],
   "source": [
    "df['address'] = df['address'].str.lower()\n",
    "df['object_name'] = df['object_name'].str.lower() \n",
    "df.head()"
   ]
  },
  {
   "cell_type": "markdown",
   "metadata": {},
   "source": [
    "Привели адреса и названия обьектов к нижнему регистру."
   ]
  },
  {
   "cell_type": "markdown",
   "metadata": {},
   "source": [
    "<div class=\"alert alert-danger\">\n",
    "<b>Комментарий ревьюера:</b>\n",
    "\n",
    "Отлично, что ты проверяешь дубликаты, но есть несколько комментариев по их проверке:\n",
    "    \n",
    "1. Обрати внимание, ты сначала проверяешь дубликаты, а потом стала приводить столбец к нижнему регистру. Возможно, именно приведение к нижнему регистру добавит количество дубликатов, которые могут определиться? Попробуй сначала посчитать количество дубликатов перед какими-либо манипуляциями со столбцами, затем приводи столбцы к нижнему регистру, оцени - изменилось количество дубликатов или нет. После такой проверки будет наглядно видна разница и ты поймешь все ли ты дубликаты нашла.<br><br>\n",
    "2. По общей проверке дубликатов с помощью `df.duplicated().sum()`, действительно, дубликаты отсутствуют. При беглом взгляде на датасет стоит обратить на колонку `id`. Чаще всего такой столбец бывает уникальным в любой выгрузке данных, чтобы одназначно идентифицировать каждую строку (иногда бывают исключения, но очень редко). Таким образом, если проверять датасет методом `duplicated` без указания интересующих нас колонок для проверки, то метод проверит все колонки, а одна из них может быть уникальной - очевидно что дубликатов не будет найдено. Попробуй проверить уникальность поля `id` и сделай соответствующий вывод о дальнейшей проверке дубликатов.\n",
    "\n",
    "</div>"
   ]
  },
  {
   "cell_type": "code",
   "execution_count": 8,
   "metadata": {},
   "outputs": [
    {
     "data": {
      "text/plain": [
       "5442"
      ]
     },
     "execution_count": 8,
     "metadata": {},
     "output_type": "execute_result"
    }
   ],
   "source": [
    "df['object_name'].duplicated().sum()"
   ]
  },
  {
   "cell_type": "code",
   "execution_count": 9,
   "metadata": {},
   "outputs": [
    {
     "data": {
      "text/plain": [
       "225"
      ]
     },
     "execution_count": 9,
     "metadata": {},
     "output_type": "execute_result"
    }
   ],
   "source": [
    "df.duplicated(subset=[\"object_name\", \"address\"]).sum()"
   ]
  },
  {
   "cell_type": "code",
   "execution_count": 10,
   "metadata": {},
   "outputs": [
    {
     "data": {
      "text/plain": [
       "array(['кафе', 'столовая', 'закусочная', 'фастфуд', 'ресторан',\n",
       "       'кафетерий', 'буфет', 'бар', 'кулинария'], dtype=object)"
      ]
     },
     "execution_count": 10,
     "metadata": {},
     "output_type": "execute_result"
    }
   ],
   "source": [
    "df['object_type'] = df['object_type'].replace('магазин (отдел кулинарии)', 'кулинария')\n",
    "df['object_type'] = df['object_type'].replace('предприятие быстрого обслуживания', 'фастфуд') \n",
    "\n",
    "df['object_type'].unique()"
   ]
  },
  {
   "cell_type": "code",
   "execution_count": 11,
   "metadata": {},
   "outputs": [
    {
     "data": {
      "text/plain": [
       "array(['несетевое', 'сетевое'], dtype=object)"
      ]
     },
     "execution_count": 11,
     "metadata": {},
     "output_type": "execute_result"
    }
   ],
   "source": [
    "df['chain'] = df['chain'].replace('нет', 'несетевое')\n",
    "df['chain'] = df['chain'].replace('да', 'сетевое')\n",
    "\n",
    "df['chain'].unique()"
   ]
  },
  {
   "cell_type": "markdown",
   "metadata": {},
   "source": [
    "Для удобства изменили названия \"магазин (отдел кулинарии)\" - просто \"кулинария\" и \"предприятие быстрого обслуживания\" - \"фастфуд\". Переименовали сетевые и несетевые заведения."
   ]
  },
  {
   "cell_type": "code",
   "execution_count": 12,
   "metadata": {},
   "outputs": [],
   "source": [
    "symbol = [',', '\"', '  ','«', '»', '(', ')']\n",
    "\n",
    "for s in symbol:\n",
    "    df['object_name'] = df['object_name'].str.replace(s, ' ')\n",
    "    df['address'] = df['address'].str.replace(s, ' ')\n",
    "\n",
    "df['address'] = df['address'].str.replace('ё','е')"
   ]
  },
  {
   "cell_type": "markdown",
   "metadata": {},
   "source": [
    "Убрали лишние символы"
   ]
  },
  {
   "cell_type": "code",
   "execution_count": 13,
   "metadata": {},
   "outputs": [
    {
     "data": {
      "text/plain": [
       "столовая           321\n",
       "кафе               278\n",
       "шаурма             250\n",
       "шоколадница        158\n",
       "kfc                155\n",
       "макдоналдс         151\n",
       "бургер кинг        137\n",
       "теремок             94\n",
       "домино'с пицца      90\n",
       "крошка картошка     90\n",
       "Name: object_name, dtype: int64"
      ]
     },
     "execution_count": 13,
     "metadata": {},
     "output_type": "execute_result"
    }
   ],
   "source": [
    "df['object_name'].value_counts().head(10)\n",
    "#df.query('chain == \"да\"').object_name.unique()"
   ]
  },
  {
   "cell_type": "markdown",
   "metadata": {},
   "source": [
    "Здесь можно отметить, что больше всего простых заведений с обычными названиями \"столовая\", \"кафе\", \"шаурма\". У сетевых заведений в названиях много дубликатов типа: starbucks - старбакс - кофейня старбакс, subway - сабвей, чайхона №1 - чайхона №1 бутово и др. Скорее всего, лемматизацию применять не нужно."
   ]
  },
  {
   "cell_type": "code",
   "execution_count": 14,
   "metadata": {},
   "outputs": [
    {
     "data": {
      "text/html": [
       "<div>\n",
       "<style scoped>\n",
       "    .dataframe tbody tr th:only-of-type {\n",
       "        vertical-align: middle;\n",
       "    }\n",
       "\n",
       "    .dataframe tbody tr th {\n",
       "        vertical-align: top;\n",
       "    }\n",
       "\n",
       "    .dataframe thead th {\n",
       "        text-align: right;\n",
       "    }\n",
       "</style>\n",
       "<table border=\"1\" class=\"dataframe\">\n",
       "  <thead>\n",
       "    <tr style=\"text-align: right;\">\n",
       "      <th></th>\n",
       "      <th>id</th>\n",
       "      <th>object_name</th>\n",
       "      <th>chain</th>\n",
       "      <th>object_type</th>\n",
       "      <th>address</th>\n",
       "      <th>number</th>\n",
       "    </tr>\n",
       "  </thead>\n",
       "  <tbody>\n",
       "    <tr>\n",
       "      <td>0</td>\n",
       "      <td>151635</td>\n",
       "      <td>сметана</td>\n",
       "      <td>несетевое</td>\n",
       "      <td>кафе</td>\n",
       "      <td>город москва улица егора абакумова дом 9</td>\n",
       "      <td>48</td>\n",
       "    </tr>\n",
       "    <tr>\n",
       "      <td>1</td>\n",
       "      <td>77874</td>\n",
       "      <td>родник</td>\n",
       "      <td>несетевое</td>\n",
       "      <td>кафе</td>\n",
       "      <td>город москва улица талалихина дом 2/1 корпус 1</td>\n",
       "      <td>35</td>\n",
       "    </tr>\n",
       "    <tr>\n",
       "      <td>2</td>\n",
       "      <td>24309</td>\n",
       "      <td>кафе  академия</td>\n",
       "      <td>несетевое</td>\n",
       "      <td>кафе</td>\n",
       "      <td>город москва абельмановская улица дом 6</td>\n",
       "      <td>95</td>\n",
       "    </tr>\n",
       "    <tr>\n",
       "      <td>12062</td>\n",
       "      <td>182973</td>\n",
       "      <td>бургер кинг</td>\n",
       "      <td>сетевое</td>\n",
       "      <td>кафе</td>\n",
       "      <td>город москва ярославское шоссе дом 69</td>\n",
       "      <td>60</td>\n",
       "    </tr>\n",
       "    <tr>\n",
       "      <td>8819</td>\n",
       "      <td>156321</td>\n",
       "      <td>кафе  тетя мотя</td>\n",
       "      <td>несетевое</td>\n",
       "      <td>кафе</td>\n",
       "      <td>город москва проезд сокольнического круга дом 7</td>\n",
       "      <td>100</td>\n",
       "    </tr>\n",
       "    <tr>\n",
       "      <td>14197</td>\n",
       "      <td>206042</td>\n",
       "      <td>чебуречная</td>\n",
       "      <td>несетевое</td>\n",
       "      <td>кулинария</td>\n",
       "      <td>город москва открытое шоссе дом 9 строение 9</td>\n",
       "      <td>0</td>\n",
       "    </tr>\n",
       "    <tr>\n",
       "      <td>15363</td>\n",
       "      <td>209186</td>\n",
       "      <td>шоколадница</td>\n",
       "      <td>сетевое</td>\n",
       "      <td>кафе</td>\n",
       "      <td>город москва улица земляной вал дом 33</td>\n",
       "      <td>20</td>\n",
       "    </tr>\n",
       "    <tr>\n",
       "      <td>15364</td>\n",
       "      <td>221900</td>\n",
       "      <td>шоколадница</td>\n",
       "      <td>сетевое</td>\n",
       "      <td>кафе</td>\n",
       "      <td>город москва поселение московский киевское шос...</td>\n",
       "      <td>36</td>\n",
       "    </tr>\n",
       "    <tr>\n",
       "      <td>15365</td>\n",
       "      <td>222535</td>\n",
       "      <td>шоколадница</td>\n",
       "      <td>сетевое</td>\n",
       "      <td>кафе</td>\n",
       "      <td>город москва ходынский бульвар дом 4</td>\n",
       "      <td>10</td>\n",
       "    </tr>\n",
       "  </tbody>\n",
       "</table>\n",
       "</div>"
      ],
      "text/plain": [
       "           id       object_name      chain object_type  \\\n",
       "0      151635           сметана  несетевое        кафе   \n",
       "1       77874            родник  несетевое        кафе   \n",
       "2       24309   кафе  академия   несетевое        кафе   \n",
       "12062  182973       бургер кинг    сетевое        кафе   \n",
       "8819   156321  кафе  тетя мотя   несетевое        кафе   \n",
       "14197  206042        чебуречная  несетевое   кулинария   \n",
       "15363  209186       шоколадница    сетевое        кафе   \n",
       "15364  221900       шоколадница    сетевое        кафе   \n",
       "15365  222535       шоколадница    сетевое        кафе   \n",
       "\n",
       "                                                 address  number  \n",
       "0               город москва улица егора абакумова дом 9      48  \n",
       "1         город москва улица талалихина дом 2/1 корпус 1      35  \n",
       "2                город москва абельмановская улица дом 6      95  \n",
       "12062              город москва ярославское шоссе дом 69      60  \n",
       "8819     город москва проезд сокольнического круга дом 7     100  \n",
       "14197       город москва открытое шоссе дом 9 строение 9       0  \n",
       "15363             город москва улица земляной вал дом 33      20  \n",
       "15364  город москва поселение московский киевское шос...      36  \n",
       "15365               город москва ходынский бульвар дом 4      10  "
      ]
     },
     "execution_count": 14,
     "metadata": {},
     "output_type": "execute_result"
    }
   ],
   "source": [
    "obzor(df, 3)"
   ]
  },
  {
   "cell_type": "markdown",
   "metadata": {},
   "source": [
    "<hr style=\"border: 1px solid #000;\"> "
   ]
  },
  {
   "cell_type": "markdown",
   "metadata": {},
   "source": [
    "## Анализ данных"
   ]
  },
  {
   "cell_type": "markdown",
   "metadata": {},
   "source": [
    "### Типы объектов общепита "
   ]
  },
  {
   "cell_type": "code",
   "execution_count": 15,
   "metadata": {},
   "outputs": [
    {
     "data": {
      "text/plain": [
       "кафе          0.396915\n",
       "столовая      0.168359\n",
       "ресторан      0.148705\n",
       "фастфуд       0.125146\n",
       "бар           0.055707\n",
       "буфет         0.038071\n",
       "кафетерий     0.025901\n",
       "закусочная    0.023428\n",
       "кулинария     0.017766\n",
       "Name: object_type, dtype: float64"
      ]
     },
     "execution_count": 15,
     "metadata": {},
     "output_type": "execute_result"
    }
   ],
   "source": [
    "df['object_type'].value_counts(normalize=True) "
   ]
  },
  {
   "cell_type": "code",
   "execution_count": 65,
   "metadata": {},
   "outputs": [
    {
     "data": {
      "image/png": "[encoded data removed]",
      "text/plain": [
       "<Figure size 864x360 with 1 Axes>"
      ]
     },
     "metadata": {
      "needs_background": "light"
     },
     "output_type": "display_data"
    }
   ],
   "source": [
    "plt.figure(figsize = (12, 5))\n",
    "ax = sns.countplot(y = 'object_type', data = df, order = df['object_type'].value_counts().index, palette = 'rocket') \n",
    "plt.xlabel('количество')\n",
    "plt.ylabel('тип заведения')\n",
    "plt.title('Количество объектов разных типов общепита')\n",
    "plt.show()"
   ]
  },
  {
   "cell_type": "markdown",
   "metadata": {},
   "source": [
    "Наиболее распространенным обьектом общепита в Москве являются: кафе 40%, столовая 17%, ресторан 15%, фастфуд 12,5%. Далее бары 5,5% и буфеты 3,8%. Меньше всего в городе представлены кафетерии, закусочные и кулинарии (2,5-1,7%)."
   ]
  },
  {
   "cell_type": "markdown",
   "metadata": {},
   "source": [
    "### Сетевые и несетевые заведения"
   ]
  },
  {
   "cell_type": "code",
   "execution_count": 18,
   "metadata": {},
   "outputs": [
    {
     "data": {
      "text/plain": [
       "chain\n",
       "сетевое       2968\n",
       "несетевое    12398\n",
       "Name: object_name, dtype: int64"
      ]
     },
     "execution_count": 18,
     "metadata": {},
     "output_type": "execute_result"
    }
   ],
   "source": [
    "chain = df.groupby('chain')['object_name'].count().sort_values()\n",
    "#chain1 = df['chain'].value_counts(normalize=True)\n",
    "  \n",
    "chain"
   ]
  },
  {
   "cell_type": "code",
   "execution_count": 19,
   "metadata": {},
   "outputs": [
    {
     "data": {
      "image/png": "[encoded data removed]",
      "text/plain": [
       "<Figure size 720x216 with 1 Axes>"
      ]
     },
     "metadata": {
      "needs_background": "light"
     },
     "output_type": "display_data"
    }
   ],
   "source": [
    "plt.figure(figsize = (10, 3))\n",
    "ax = sns.countplot(y = 'chain', data = df, palette = 'rocket') \n",
    "plt.title('Количество сетевых и несетевых заведений')\n",
    "plt.xlabel('количество')\n",
    "plt.ylabel('')\n",
    "#plt.grid()\n",
    "plt.show() "
   ]
  },
  {
   "cell_type": "markdown",
   "metadata": {},
   "source": [
    "Сетевые заведения занимают пятую часть рынка, несетевых - в 4 раза больше."
   ]
  },
  {
   "cell_type": "code",
   "execution_count": 20,
   "metadata": {},
   "outputs": [
    {
     "data": {
      "image/png": "[encoded data removed]",
      "text/plain": [
       "<Figure size 720x432 with 1 Axes>"
      ]
     },
     "metadata": {},
     "output_type": "display_data"
    }
   ],
   "source": [
    "pie, ax = plt.subplots(figsize=[10,6])\n",
    "labels = chain.keys()\n",
    "sns.set_palette('rocket')\n",
    "plt.pie(x = chain, autopct = \"%.1f%%\", labels = labels, pctdistance=0.5)\n",
    "plt.title('Cоотношение сетевых и несетевых заведений, %')\n",
    "plt.show()"
   ]
  },
  {
   "cell_type": "markdown",
   "metadata": {},
   "source": [
    "### Сетевые и несетевые заведения по типу объекта"
   ]
  },
  {
   "cell_type": "code",
   "execution_count": 21,
   "metadata": {},
   "outputs": [
    {
     "data": {
      "image/png": "[encoded data removed]",
      "text/plain": [
       "<Figure size 864x432 with 1 Axes>"
      ]
     },
     "metadata": {
      "needs_background": "light"
     },
     "output_type": "display_data"
    }
   ],
   "source": [
    "plt.figure(figsize=(12, 6)) \n",
    "sns.countplot(x  ='object_type', data = df, hue = 'chain', palette = 'rocket') \n",
    "plt.xticks(rotation = 70)\n",
    "plt.xlabel('тип заведения')\n",
    "plt.ylabel('количество')\n",
    "plt.title('Количество сетевых и несетевых заведений общественного питания по типу')\n",
    "plt.show()\n",
    " "
   ]
  },
  {
   "cell_type": "markdown",
   "metadata": {},
   "source": [
    "Сетевое распространение характерно для кафе, фастфуда и ресторанов. В гораздо меньшей доле для закусочных, кафетериев, баров, кулинарий.  "
   ]
  },
  {
   "cell_type": "markdown",
   "metadata": {},
   "source": [
    "Рассмотрим доли."
   ]
  },
  {
   "cell_type": "code",
   "execution_count": 22,
   "metadata": {},
   "outputs": [
    {
     "data": {
      "text/html": [
       "<div>\n",
       "<style scoped>\n",
       "    .dataframe tbody tr th:only-of-type {\n",
       "        vertical-align: middle;\n",
       "    }\n",
       "\n",
       "    .dataframe tbody tr th {\n",
       "        vertical-align: top;\n",
       "    }\n",
       "\n",
       "    .dataframe thead th {\n",
       "        text-align: right;\n",
       "    }\n",
       "</style>\n",
       "<table border=\"1\" class=\"dataframe\">\n",
       "  <thead>\n",
       "    <tr style=\"text-align: right;\">\n",
       "      <th>chain</th>\n",
       "      <th>несетевое</th>\n",
       "      <th>сетевое</th>\n",
       "    </tr>\n",
       "    <tr>\n",
       "      <th>object_type</th>\n",
       "      <th></th>\n",
       "      <th></th>\n",
       "    </tr>\n",
       "  </thead>\n",
       "  <tbody>\n",
       "    <tr>\n",
       "      <td>бар</td>\n",
       "      <td>819</td>\n",
       "      <td>37</td>\n",
       "    </tr>\n",
       "    <tr>\n",
       "      <td>буфет</td>\n",
       "      <td>574</td>\n",
       "      <td>11</td>\n",
       "    </tr>\n",
       "    <tr>\n",
       "      <td>закусочная</td>\n",
       "      <td>304</td>\n",
       "      <td>56</td>\n",
       "    </tr>\n",
       "    <tr>\n",
       "      <td>кафе</td>\n",
       "      <td>4703</td>\n",
       "      <td>1396</td>\n",
       "    </tr>\n",
       "    <tr>\n",
       "      <td>кафетерий</td>\n",
       "      <td>346</td>\n",
       "      <td>52</td>\n",
       "    </tr>\n",
       "    <tr>\n",
       "      <td>кулинария</td>\n",
       "      <td>195</td>\n",
       "      <td>78</td>\n",
       "    </tr>\n",
       "    <tr>\n",
       "      <td>ресторан</td>\n",
       "      <td>1741</td>\n",
       "      <td>544</td>\n",
       "    </tr>\n",
       "    <tr>\n",
       "      <td>столовая</td>\n",
       "      <td>2584</td>\n",
       "      <td>3</td>\n",
       "    </tr>\n",
       "    <tr>\n",
       "      <td>фастфуд</td>\n",
       "      <td>1132</td>\n",
       "      <td>791</td>\n",
       "    </tr>\n",
       "  </tbody>\n",
       "</table>\n",
       "</div>"
      ],
      "text/plain": [
       "chain        несетевое  сетевое\n",
       "object_type                    \n",
       "бар                819       37\n",
       "буфет              574       11\n",
       "закусочная         304       56\n",
       "кафе              4703     1396\n",
       "кафетерий          346       52\n",
       "кулинария          195       78\n",
       "ресторан          1741      544\n",
       "столовая          2584        3\n",
       "фастфуд           1132      791"
      ]
     },
     "execution_count": 22,
     "metadata": {},
     "output_type": "execute_result"
    }
   ],
   "source": [
    "object_chain = df.pivot_table(index = 'object_type', values = 'id',\n",
    "                                     columns = 'chain', aggfunc = 'count')\n",
    "object_chain "
   ]
  },
  {
   "cell_type": "code",
   "execution_count": 23,
   "metadata": {},
   "outputs": [],
   "source": [
    "object_chain_part = (((object_chain['сетевое'] / (object_chain['сетевое'] + object_chain['несетевое'])) * 100).reset_index())\n",
    "#object_chain_part "
   ]
  },
  {
   "cell_type": "code",
   "execution_count": 24,
   "metadata": {},
   "outputs": [
    {
     "data": {
      "text/html": [
       "<div>\n",
       "<style scoped>\n",
       "    .dataframe tbody tr th:only-of-type {\n",
       "        vertical-align: middle;\n",
       "    }\n",
       "\n",
       "    .dataframe tbody tr th {\n",
       "        vertical-align: top;\n",
       "    }\n",
       "\n",
       "    .dataframe thead th {\n",
       "        text-align: right;\n",
       "    }\n",
       "</style>\n",
       "<table border=\"1\" class=\"dataframe\">\n",
       "  <thead>\n",
       "    <tr style=\"text-align: right;\">\n",
       "      <th></th>\n",
       "      <th>object_type</th>\n",
       "      <th>part</th>\n",
       "    </tr>\n",
       "  </thead>\n",
       "  <tbody>\n",
       "    <tr>\n",
       "      <td>8</td>\n",
       "      <td>фастфуд</td>\n",
       "      <td>41.133645</td>\n",
       "    </tr>\n",
       "    <tr>\n",
       "      <td>5</td>\n",
       "      <td>кулинария</td>\n",
       "      <td>28.571429</td>\n",
       "    </tr>\n",
       "    <tr>\n",
       "      <td>6</td>\n",
       "      <td>ресторан</td>\n",
       "      <td>23.807440</td>\n",
       "    </tr>\n",
       "    <tr>\n",
       "      <td>3</td>\n",
       "      <td>кафе</td>\n",
       "      <td>22.888998</td>\n",
       "    </tr>\n",
       "    <tr>\n",
       "      <td>2</td>\n",
       "      <td>закусочная</td>\n",
       "      <td>15.555556</td>\n",
       "    </tr>\n",
       "    <tr>\n",
       "      <td>4</td>\n",
       "      <td>кафетерий</td>\n",
       "      <td>13.065327</td>\n",
       "    </tr>\n",
       "    <tr>\n",
       "      <td>0</td>\n",
       "      <td>бар</td>\n",
       "      <td>4.322430</td>\n",
       "    </tr>\n",
       "    <tr>\n",
       "      <td>1</td>\n",
       "      <td>буфет</td>\n",
       "      <td>1.880342</td>\n",
       "    </tr>\n",
       "    <tr>\n",
       "      <td>7</td>\n",
       "      <td>столовая</td>\n",
       "      <td>0.115964</td>\n",
       "    </tr>\n",
       "  </tbody>\n",
       "</table>\n",
       "</div>"
      ],
      "text/plain": [
       "  object_type       part\n",
       "8     фастфуд  41.133645\n",
       "5   кулинария  28.571429\n",
       "6    ресторан  23.807440\n",
       "3        кафе  22.888998\n",
       "2  закусочная  15.555556\n",
       "4   кафетерий  13.065327\n",
       "0         бар   4.322430\n",
       "1       буфет   1.880342\n",
       "7    столовая   0.115964"
      ]
     },
     "execution_count": 24,
     "metadata": {},
     "output_type": "execute_result"
    }
   ],
   "source": [
    "object_chain_part.columns = ['object_type','part']\n",
    "object_chain_part.sort_values(by = 'part', ascending = False) "
   ]
  },
  {
   "cell_type": "markdown",
   "metadata": {},
   "source": [
    "Если оценить доли, то сетевое распространение наиболее характерно для фастфуда, что весьма предсказуемо. Далее идут кулинарии (!) и рестораны.  "
   ]
  },
  {
   "cell_type": "markdown",
   "metadata": {},
   "source": [
    "### Сетевые заведения по количеству посадочных мест"
   ]
  },
  {
   "cell_type": "code",
   "execution_count": 25,
   "metadata": {},
   "outputs": [
    {
     "data": {
      "image/png": "[encoded data removed]",
      "text/plain": [
       "<Figure size 864x432 with 1 Axes>"
      ]
     },
     "metadata": {
      "needs_background": "light"
     },
     "output_type": "display_data"
    }
   ],
   "source": [
    "df_chains = df.loc[df['chain'] == 'сетевое']\n",
    "sns.set_palette('rocket')\n",
    "plt.figure(figsize = (12, 6))\n",
    "sns.scatterplot(y = 'object_type', x = 'number', data = df_chains, alpha = 0.2, palette = 'rocket') \n",
    "plt.title('Разброс количества посадочных мест в сетевых заведениях')\n",
    "plt.xlabel('количество посадочных мест')\n",
    "plt.ylabel('тип заведения')\n",
    "plt.show()\n",
    " "
   ]
  },
  {
   "cell_type": "markdown",
   "metadata": {},
   "source": [
    "Для сетевых заведений характерно много заведений с небольшим числом посадочных мест. Для кафе, фастфуда и ресторанов  характерно большое количество заведений с числом посадочных мест до 100, свыше 200 мест - уже редкое явление. Также большое количество ресторанов имеют до 200 посадочных. Кулинарии, кафетерии и закусочные в основном имеют до 30 мест. В барах от 1 до 150.  "
   ]
  },
  {
   "cell_type": "code",
   "execution_count": 26,
   "metadata": {},
   "outputs": [
    {
     "data": {
      "image/png": "[encoded data removed]",
      "text/plain": [
       "<Figure size 864x432 with 1 Axes>"
      ]
     },
     "metadata": {
      "needs_background": "light"
     },
     "output_type": "display_data"
    }
   ],
   "source": [
    "df_chains = df.loc[df['chain'] == 'сетевое']\n",
    "sns.set_palette('rocket')\n",
    "plt.figure(figsize = (12, 6))\n",
    "sns.scatterplot(y = 'object_type', x = 'number', data = df_chains, alpha = 0.2, palette = 'rocket') \n",
    "plt.xlim(-1, 100)\n",
    "plt.title('Разброс количества посадочных мест в сетевых заведениях')\n",
    "plt.xlabel('количество посадочных мест')\n",
    "plt.ylabel('тип заведения')\n",
    "plt.show()\n",
    " "
   ]
  },
  {
   "cell_type": "markdown",
   "metadata": {},
   "source": [
    "### Среднее количество посадочных мест по типу объекта"
   ]
  },
  {
   "cell_type": "code",
   "execution_count": 27,
   "metadata": {},
   "outputs": [
    {
     "data": {
      "text/plain": [
       "(1621, 6)"
      ]
     },
     "execution_count": 27,
     "metadata": {},
     "output_type": "execute_result"
    }
   ],
   "source": [
    "df[df['number'] == 0].shape"
   ]
  },
  {
   "cell_type": "markdown",
   "metadata": {},
   "source": [
    "Для расчета среднего количества посадочных мест нужно было посмотреть много ли объектов с показателем 0. Оказалось их 1621, не берем их в расчет."
   ]
  },
  {
   "cell_type": "code",
   "execution_count": 28,
   "metadata": {},
   "outputs": [],
   "source": [
    "df1 = df[df['number'] != 0]"
   ]
  },
  {
   "cell_type": "code",
   "execution_count": 29,
   "metadata": {},
   "outputs": [],
   "source": [
    "# number_mean = df1.groupby('object_type').agg(\n",
    "#     {'number':'mean'}).reset_index().sort_values(by = 'number', ascending = False).round(1)"
   ]
  },
  {
   "cell_type": "code",
   "execution_count": 30,
   "metadata": {},
   "outputs": [],
   "source": [
    "number_median = df.groupby('object_type').agg(\n",
    "    {'number':'median'}).reset_index().sort_values(by = 'number', ascending = False)"
   ]
  },
  {
   "cell_type": "code",
   "execution_count": 31,
   "metadata": {},
   "outputs": [
    {
     "data": {
      "image/png": "[encoded data removed]",
      "text/plain": [
       "<Figure size 864x432 with 1 Axes>"
      ]
     },
     "metadata": {
      "needs_background": "light"
     },
     "output_type": "display_data"
    }
   ],
   "source": [
    "plt.figure(figsize = (12, 6)) \n",
    "sns.barplot(data = number_median, y = 'object_type', x = 'number', palette = 'rocket')\n",
    "plt.title('Среднее количество посадочных мест по типу объекта')\n",
    "plt.xlabel('количество посадочных мест')\n",
    "plt.ylabel('тип заведения')\n",
    "plt.show()"
   ]
  },
  {
   "cell_type": "markdown",
   "metadata": {},
   "source": [
    "В среднем наибольшее количество посадочных мест в категориях столовая (104) и ресторан (80). <br>\n",
    "Далее посмотрим боксплот."
   ]
  },
  {
   "cell_type": "code",
   "execution_count": 32,
   "metadata": {},
   "outputs": [
    {
     "data": {
      "text/html": [
       "<div>\n",
       "<style scoped>\n",
       "    .dataframe tbody tr th:only-of-type {\n",
       "        vertical-align: middle;\n",
       "    }\n",
       "\n",
       "    .dataframe tbody tr th {\n",
       "        vertical-align: top;\n",
       "    }\n",
       "\n",
       "    .dataframe thead th {\n",
       "        text-align: right;\n",
       "    }\n",
       "</style>\n",
       "<table border=\"1\" class=\"dataframe\">\n",
       "  <thead>\n",
       "    <tr style=\"text-align: right;\">\n",
       "      <th></th>\n",
       "      <th>count</th>\n",
       "      <th>mean</th>\n",
       "      <th>std</th>\n",
       "      <th>min</th>\n",
       "      <th>25%</th>\n",
       "      <th>50%</th>\n",
       "      <th>75%</th>\n",
       "      <th>max</th>\n",
       "    </tr>\n",
       "    <tr>\n",
       "      <th>object_type</th>\n",
       "      <th></th>\n",
       "      <th></th>\n",
       "      <th></th>\n",
       "      <th></th>\n",
       "      <th></th>\n",
       "      <th></th>\n",
       "      <th></th>\n",
       "      <th></th>\n",
       "    </tr>\n",
       "  </thead>\n",
       "  <tbody>\n",
       "    <tr>\n",
       "      <td>столовая</td>\n",
       "      <td>2568.0</td>\n",
       "      <td>131.210280</td>\n",
       "      <td>94.866549</td>\n",
       "      <td>1.0</td>\n",
       "      <td>55.0</td>\n",
       "      <td>104.5</td>\n",
       "      <td>200.0</td>\n",
       "      <td>1400.0</td>\n",
       "    </tr>\n",
       "    <tr>\n",
       "      <td>ресторан</td>\n",
       "      <td>2240.0</td>\n",
       "      <td>98.779464</td>\n",
       "      <td>94.694330</td>\n",
       "      <td>2.0</td>\n",
       "      <td>48.0</td>\n",
       "      <td>80.0</td>\n",
       "      <td>120.0</td>\n",
       "      <td>1500.0</td>\n",
       "    </tr>\n",
       "    <tr>\n",
       "      <td>буфет</td>\n",
       "      <td>517.0</td>\n",
       "      <td>57.854932</td>\n",
       "      <td>56.583103</td>\n",
       "      <td>1.0</td>\n",
       "      <td>20.0</td>\n",
       "      <td>40.0</td>\n",
       "      <td>80.0</td>\n",
       "      <td>320.0</td>\n",
       "    </tr>\n",
       "    <tr>\n",
       "      <td>бар</td>\n",
       "      <td>828.0</td>\n",
       "      <td>44.964976</td>\n",
       "      <td>67.721922</td>\n",
       "      <td>1.0</td>\n",
       "      <td>20.0</td>\n",
       "      <td>35.0</td>\n",
       "      <td>50.0</td>\n",
       "      <td>1700.0</td>\n",
       "    </tr>\n",
       "    <tr>\n",
       "      <td>кафе</td>\n",
       "      <td>5789.0</td>\n",
       "      <td>41.842805</td>\n",
       "      <td>37.550917</td>\n",
       "      <td>1.0</td>\n",
       "      <td>18.0</td>\n",
       "      <td>35.0</td>\n",
       "      <td>50.0</td>\n",
       "      <td>533.0</td>\n",
       "    </tr>\n",
       "    <tr>\n",
       "      <td>фастфуд</td>\n",
       "      <td>1219.0</td>\n",
       "      <td>32.421657</td>\n",
       "      <td>44.019413</td>\n",
       "      <td>1.0</td>\n",
       "      <td>6.0</td>\n",
       "      <td>20.0</td>\n",
       "      <td>42.5</td>\n",
       "      <td>580.0</td>\n",
       "    </tr>\n",
       "    <tr>\n",
       "      <td>закусочная</td>\n",
       "      <td>171.0</td>\n",
       "      <td>16.017544</td>\n",
       "      <td>21.213335</td>\n",
       "      <td>1.0</td>\n",
       "      <td>4.0</td>\n",
       "      <td>10.0</td>\n",
       "      <td>20.0</td>\n",
       "      <td>216.0</td>\n",
       "    </tr>\n",
       "    <tr>\n",
       "      <td>кафетерий</td>\n",
       "      <td>285.0</td>\n",
       "      <td>12.740351</td>\n",
       "      <td>15.916240</td>\n",
       "      <td>1.0</td>\n",
       "      <td>5.0</td>\n",
       "      <td>9.0</td>\n",
       "      <td>15.0</td>\n",
       "      <td>200.0</td>\n",
       "    </tr>\n",
       "    <tr>\n",
       "      <td>кулинария</td>\n",
       "      <td>128.0</td>\n",
       "      <td>11.921875</td>\n",
       "      <td>11.518290</td>\n",
       "      <td>1.0</td>\n",
       "      <td>4.0</td>\n",
       "      <td>8.5</td>\n",
       "      <td>15.0</td>\n",
       "      <td>50.0</td>\n",
       "    </tr>\n",
       "  </tbody>\n",
       "</table>\n",
       "</div>"
      ],
      "text/plain": [
       "              count        mean        std  min   25%    50%    75%     max\n",
       "object_type                                                                \n",
       "столовая     2568.0  131.210280  94.866549  1.0  55.0  104.5  200.0  1400.0\n",
       "ресторан     2240.0   98.779464  94.694330  2.0  48.0   80.0  120.0  1500.0\n",
       "буфет         517.0   57.854932  56.583103  1.0  20.0   40.0   80.0   320.0\n",
       "бар           828.0   44.964976  67.721922  1.0  20.0   35.0   50.0  1700.0\n",
       "кафе         5789.0   41.842805  37.550917  1.0  18.0   35.0   50.0   533.0\n",
       "фастфуд      1219.0   32.421657  44.019413  1.0   6.0   20.0   42.5   580.0\n",
       "закусочная    171.0   16.017544  21.213335  1.0   4.0   10.0   20.0   216.0\n",
       "кафетерий     285.0   12.740351  15.916240  1.0   5.0    9.0   15.0   200.0\n",
       "кулинария     128.0   11.921875  11.518290  1.0   4.0    8.5   15.0    50.0"
      ]
     },
     "execution_count": 32,
     "metadata": {},
     "output_type": "execute_result"
    }
   ],
   "source": [
    "df1.groupby('object_type')['number'].describe().sort_values(by='50%', ascending = False) \n",
    "# сорт по медиане"
   ]
  },
  {
   "cell_type": "markdown",
   "metadata": {},
   "source": [
    "Рейтинг по медиане и среднему совпадает."
   ]
  },
  {
   "cell_type": "code",
   "execution_count": 33,
   "metadata": {},
   "outputs": [
    {
     "data": {
      "image/png": "[encoded data removed]",
      "text/plain": [
       "<Figure size 864x576 with 1 Axes>"
      ]
     },
     "metadata": {
      "needs_background": "light"
     },
     "output_type": "display_data"
    }
   ],
   "source": [
    "plt.figure(figsize = (12, 8)) \n",
    "ax = sns.boxplot(x = 'number', y = 'object_type', data = df1, palette = 'rocket')\n",
    "plt.xlim(-10, 300)\n",
    "plt.show()"
   ]
  },
  {
   "cell_type": "markdown",
   "metadata": {},
   "source": [
    "Рестораны и столовые в основном имеют свыше 50 мест. Столовые от 60 до 200, рестораны от 50 до 130.\n",
    "Закусочные, кафетерии и кулинарии располагают минимальным количеством мест. Кафе, фастфуды и бары - до 50 мест буфеты - до 80."
   ]
  },
  {
   "cell_type": "markdown",
   "metadata": {},
   "source": [
    "### Топ-10 улиц по количеству объектов общественного питания "
   ]
  },
  {
   "cell_type": "markdown",
   "metadata": {},
   "source": [
    "Выделим в отдельный столбец информацию об улице из столбца address"
   ]
  },
  {
   "cell_type": "code",
   "execution_count": 34,
   "metadata": {},
   "outputs": [],
   "source": [
    "streets = df['address'].to_list()"
   ]
  },
  {
   "cell_type": "code",
   "execution_count": 35,
   "metadata": {},
   "outputs": [],
   "source": [
    "street_col = []\n",
    "for street in streets:  \n",
    "    start = street.find('город москва')\n",
    "    end = street.find('дом')\n",
    "    street_col.append(street[start+12:end-1])"
   ]
  },
  {
   "cell_type": "code",
   "execution_count": 36,
   "metadata": {},
   "outputs": [],
   "source": [
    "df['streetname'] = street_col"
   ]
  },
  {
   "cell_type": "code",
   "execution_count": 37,
   "metadata": {},
   "outputs": [
    {
     "data": {
      "text/html": [
       "<div>\n",
       "<style scoped>\n",
       "    .dataframe tbody tr th:only-of-type {\n",
       "        vertical-align: middle;\n",
       "    }\n",
       "\n",
       "    .dataframe tbody tr th {\n",
       "        vertical-align: top;\n",
       "    }\n",
       "\n",
       "    .dataframe thead th {\n",
       "        text-align: right;\n",
       "    }\n",
       "</style>\n",
       "<table border=\"1\" class=\"dataframe\">\n",
       "  <thead>\n",
       "    <tr style=\"text-align: right;\">\n",
       "      <th></th>\n",
       "      <th>id</th>\n",
       "      <th>object_name</th>\n",
       "      <th>chain</th>\n",
       "      <th>object_type</th>\n",
       "      <th>address</th>\n",
       "      <th>number</th>\n",
       "      <th>streetname</th>\n",
       "    </tr>\n",
       "  </thead>\n",
       "  <tbody>\n",
       "    <tr>\n",
       "      <td>0</td>\n",
       "      <td>151635</td>\n",
       "      <td>сметана</td>\n",
       "      <td>несетевое</td>\n",
       "      <td>кафе</td>\n",
       "      <td>город москва улица егора абакумова дом 9</td>\n",
       "      <td>48</td>\n",
       "      <td>улица егора абакумова</td>\n",
       "    </tr>\n",
       "    <tr>\n",
       "      <td>1</td>\n",
       "      <td>77874</td>\n",
       "      <td>родник</td>\n",
       "      <td>несетевое</td>\n",
       "      <td>кафе</td>\n",
       "      <td>город москва улица талалихина дом 2/1 корпус 1</td>\n",
       "      <td>35</td>\n",
       "      <td>улица талалихина</td>\n",
       "    </tr>\n",
       "    <tr>\n",
       "      <td>2</td>\n",
       "      <td>24309</td>\n",
       "      <td>кафе  академия</td>\n",
       "      <td>несетевое</td>\n",
       "      <td>кафе</td>\n",
       "      <td>город москва абельмановская улица дом 6</td>\n",
       "      <td>95</td>\n",
       "      <td>абельмановская улица</td>\n",
       "    </tr>\n",
       "    <tr>\n",
       "      <td>12062</td>\n",
       "      <td>182973</td>\n",
       "      <td>бургер кинг</td>\n",
       "      <td>сетевое</td>\n",
       "      <td>кафе</td>\n",
       "      <td>город москва ярославское шоссе дом 69</td>\n",
       "      <td>60</td>\n",
       "      <td>ярославское шоссе</td>\n",
       "    </tr>\n",
       "    <tr>\n",
       "      <td>8819</td>\n",
       "      <td>156321</td>\n",
       "      <td>кафе  тетя мотя</td>\n",
       "      <td>несетевое</td>\n",
       "      <td>кафе</td>\n",
       "      <td>город москва проезд сокольнического круга дом 7</td>\n",
       "      <td>100</td>\n",
       "      <td>проезд сокольнического круга</td>\n",
       "    </tr>\n",
       "    <tr>\n",
       "      <td>14197</td>\n",
       "      <td>206042</td>\n",
       "      <td>чебуречная</td>\n",
       "      <td>несетевое</td>\n",
       "      <td>кулинария</td>\n",
       "      <td>город москва открытое шоссе дом 9 строение 9</td>\n",
       "      <td>0</td>\n",
       "      <td>открытое шоссе</td>\n",
       "    </tr>\n",
       "    <tr>\n",
       "      <td>15363</td>\n",
       "      <td>209186</td>\n",
       "      <td>шоколадница</td>\n",
       "      <td>сетевое</td>\n",
       "      <td>кафе</td>\n",
       "      <td>город москва улица земляной вал дом 33</td>\n",
       "      <td>20</td>\n",
       "      <td>улица земляной вал</td>\n",
       "    </tr>\n",
       "    <tr>\n",
       "      <td>15364</td>\n",
       "      <td>221900</td>\n",
       "      <td>шоколадница</td>\n",
       "      <td>сетевое</td>\n",
       "      <td>кафе</td>\n",
       "      <td>город москва поселение московский киевское шос...</td>\n",
       "      <td>36</td>\n",
       "      <td>поселение московский киевское шоссе 22-й кило...</td>\n",
       "    </tr>\n",
       "    <tr>\n",
       "      <td>15365</td>\n",
       "      <td>222535</td>\n",
       "      <td>шоколадница</td>\n",
       "      <td>сетевое</td>\n",
       "      <td>кафе</td>\n",
       "      <td>город москва ходынский бульвар дом 4</td>\n",
       "      <td>10</td>\n",
       "      <td>ходынский бульвар</td>\n",
       "    </tr>\n",
       "  </tbody>\n",
       "</table>\n",
       "</div>"
      ],
      "text/plain": [
       "           id       object_name      chain object_type  \\\n",
       "0      151635           сметана  несетевое        кафе   \n",
       "1       77874            родник  несетевое        кафе   \n",
       "2       24309   кафе  академия   несетевое        кафе   \n",
       "12062  182973       бургер кинг    сетевое        кафе   \n",
       "8819   156321  кафе  тетя мотя   несетевое        кафе   \n",
       "14197  206042        чебуречная  несетевое   кулинария   \n",
       "15363  209186       шоколадница    сетевое        кафе   \n",
       "15364  221900       шоколадница    сетевое        кафе   \n",
       "15365  222535       шоколадница    сетевое        кафе   \n",
       "\n",
       "                                                 address  number  \\\n",
       "0               город москва улица егора абакумова дом 9      48   \n",
       "1         город москва улица талалихина дом 2/1 корпус 1      35   \n",
       "2                город москва абельмановская улица дом 6      95   \n",
       "12062              город москва ярославское шоссе дом 69      60   \n",
       "8819     город москва проезд сокольнического круга дом 7     100   \n",
       "14197       город москва открытое шоссе дом 9 строение 9       0   \n",
       "15363             город москва улица земляной вал дом 33      20   \n",
       "15364  город москва поселение московский киевское шос...      36   \n",
       "15365               город москва ходынский бульвар дом 4      10   \n",
       "\n",
       "                                              streetname  \n",
       "0                                  улица егора абакумова  \n",
       "1                                       улица талалихина  \n",
       "2                                   абельмановская улица  \n",
       "12062                                  ярославское шоссе  \n",
       "8819                        проезд сокольнического круга  \n",
       "14197                                     открытое шоссе  \n",
       "15363                                 улица земляной вал  \n",
       "15364   поселение московский киевское шоссе 22-й кило...  \n",
       "15365                                  ходынский бульвар  "
      ]
     },
     "execution_count": 37,
     "metadata": {},
     "output_type": "execute_result"
    }
   ],
   "source": [
    "obzor(df, 3)"
   ]
  },
  {
   "cell_type": "code",
   "execution_count": 38,
   "metadata": {},
   "outputs": [
    {
     "name": "stdout",
     "output_type": "stream",
     "text": [
      "<class 'pandas.core.frame.DataFrame'>\n",
      "RangeIndex: 15366 entries, 0 to 15365\n",
      "Data columns (total 7 columns):\n",
      "id             15366 non-null int64\n",
      "object_name    15366 non-null object\n",
      "chain          15366 non-null object\n",
      "object_type    15366 non-null object\n",
      "address        15366 non-null object\n",
      "number         15366 non-null int64\n",
      "streetname     15366 non-null object\n",
      "dtypes: int64(2), object(5)\n",
      "memory usage: 840.5+ KB\n"
     ]
    }
   ],
   "source": [
    "df.info()"
   ]
  },
  {
   "cell_type": "code",
   "execution_count": 39,
   "metadata": {},
   "outputs": [
    {
     "data": {
      "text/html": [
       "<div>\n",
       "<style scoped>\n",
       "    .dataframe tbody tr th:only-of-type {\n",
       "        vertical-align: middle;\n",
       "    }\n",
       "\n",
       "    .dataframe tbody tr th {\n",
       "        vertical-align: top;\n",
       "    }\n",
       "\n",
       "    .dataframe thead th {\n",
       "        text-align: right;\n",
       "    }\n",
       "</style>\n",
       "<table border=\"1\" class=\"dataframe\">\n",
       "  <thead>\n",
       "    <tr style=\"text-align: right;\">\n",
       "      <th></th>\n",
       "      <th>streetname</th>\n",
       "      <th>object_name</th>\n",
       "    </tr>\n",
       "  </thead>\n",
       "  <tbody>\n",
       "    <tr>\n",
       "      <td>1376</td>\n",
       "      <td>проспект мира</td>\n",
       "      <td>204</td>\n",
       "    </tr>\n",
       "    <tr>\n",
       "      <td>1380</td>\n",
       "      <td>профсоюзная улица</td>\n",
       "      <td>182</td>\n",
       "    </tr>\n",
       "    <tr>\n",
       "      <td>841</td>\n",
       "      <td>ленинградский проспект</td>\n",
       "      <td>170</td>\n",
       "    </tr>\n",
       "    <tr>\n",
       "      <td>1331</td>\n",
       "      <td>пресненская набережная</td>\n",
       "      <td>167</td>\n",
       "    </tr>\n",
       "    <tr>\n",
       "      <td>433</td>\n",
       "      <td>варшавское шоссе</td>\n",
       "      <td>155</td>\n",
       "    </tr>\n",
       "    <tr>\n",
       "      <td>845</td>\n",
       "      <td>ленинский проспект</td>\n",
       "      <td>147</td>\n",
       "    </tr>\n",
       "    <tr>\n",
       "      <td>1372</td>\n",
       "      <td>проспект вернадского</td>\n",
       "      <td>131</td>\n",
       "    </tr>\n",
       "    <tr>\n",
       "      <td>832</td>\n",
       "      <td>кутузовский проспект</td>\n",
       "      <td>114</td>\n",
       "    </tr>\n",
       "    <tr>\n",
       "      <td>749</td>\n",
       "      <td>каширское шоссе</td>\n",
       "      <td>103</td>\n",
       "    </tr>\n",
       "    <tr>\n",
       "      <td>2139</td>\n",
       "      <td>ходынский бульвар</td>\n",
       "      <td>102</td>\n",
       "    </tr>\n",
       "  </tbody>\n",
       "</table>\n",
       "</div>"
      ],
      "text/plain": [
       "                   streetname  object_name\n",
       "1376            проспект мира          204\n",
       "1380        профсоюзная улица          182\n",
       "841    ленинградский проспект          170\n",
       "1331   пресненская набережная          167\n",
       "433          варшавское шоссе          155\n",
       "845        ленинский проспект          147\n",
       "1372     проспект вернадского          131\n",
       "832      кутузовский проспект          114\n",
       "749           каширское шоссе          103\n",
       "2139        ходынский бульвар          102"
      ]
     },
     "execution_count": 39,
     "metadata": {},
     "output_type": "execute_result"
    }
   ],
   "source": [
    "df_top = df.groupby('streetname', as_index = False)['object_name'].count().sort_values(\n",
    "    by = 'object_name', ascending = False).head(10)\n",
    "top10_list = list(df_top['streetname'])\n",
    "df_top "
   ]
  },
  {
   "cell_type": "code",
   "execution_count": 40,
   "metadata": {},
   "outputs": [
    {
     "data": {
      "image/png": "[encoded data removed]",
      "text/plain": [
       "<Figure size 864x432 with 1 Axes>"
      ]
     },
     "metadata": {
      "needs_background": "light"
     },
     "output_type": "display_data"
    }
   ],
   "source": [
    "plt.figure(figsize = (12, 6)) \n",
    "ax = sns.barplot(x = 'object_name', y = 'streetname', data = df_top, palette = 'rocket')\n",
    "ax.set_xlabel('количество объектов')\n",
    "ax.set_ylabel('название улицы')\n",
    "ax.set_title('Топ-10 улиц по количеству объектов общественного питания')\n",
    "plt.show()"
   ]
  },
  {
   "cell_type": "markdown",
   "metadata": {},
   "source": [
    "Проспект Мира - лидер по количеству заведений. Далее с небольшим отрывом следую Профсоюзная улица, Ленинградский проспект и Пресненская набережная. Можно предположить, что количество заведений на данных улицах прямо связано с их протяженнностью.<br> Далее найдем в каких районах Москвы находятся эти улицы. Для этого мы нашли \"список всех улиц Москвы и их привязка к районам\".  "
   ]
  },
  {
   "cell_type": "code",
   "execution_count": null,
   "metadata": {},
   "outputs": [],
   "source": []
  },
  {
   "cell_type": "code",
   "execution_count": 41,
   "metadata": {},
   "outputs": [],
   "source": [
    "from io import BytesIO\n",
    "import requests \n",
    "spreadsheet_id = '1TH16cAmxOiTkDypUUKoP0ygOt_sc25bX8ptW2FjJpQs'\n",
    "file_name = 'https://docs.google.com/spreadsheets/d/{}/export?format=csv'.format(spreadsheet_id)\n",
    "r = requests.get(file_name)\n",
    "districts = pd.read_csv(BytesIO(r.content))\n",
    "#districts"
   ]
  },
  {
   "cell_type": "code",
   "execution_count": 42,
   "metadata": {},
   "outputs": [
    {
     "data": {
      "text/html": [
       "<div>\n",
       "<style scoped>\n",
       "    .dataframe tbody tr th:only-of-type {\n",
       "        vertical-align: middle;\n",
       "    }\n",
       "\n",
       "    .dataframe tbody tr th {\n",
       "        vertical-align: top;\n",
       "    }\n",
       "\n",
       "    .dataframe thead th {\n",
       "        text-align: right;\n",
       "    }\n",
       "</style>\n",
       "<table border=\"1\" class=\"dataframe\">\n",
       "  <thead>\n",
       "    <tr style=\"text-align: right;\">\n",
       "      <th></th>\n",
       "      <th>streetname</th>\n",
       "      <th>areaid</th>\n",
       "      <th>okrug</th>\n",
       "      <th>area</th>\n",
       "    </tr>\n",
       "  </thead>\n",
       "  <tbody>\n",
       "    <tr>\n",
       "      <td>1720</td>\n",
       "      <td>овражная улица</td>\n",
       "      <td>51</td>\n",
       "      <td>Зеленоград</td>\n",
       "      <td>Район Крюково</td>\n",
       "    </tr>\n",
       "    <tr>\n",
       "      <td>1108</td>\n",
       "      <td>1-я боевская улица</td>\n",
       "      <td>26</td>\n",
       "      <td>ВАО</td>\n",
       "      <td>Район Сокольники</td>\n",
       "    </tr>\n",
       "    <tr>\n",
       "      <td>2821</td>\n",
       "      <td>староспасская улица</td>\n",
       "      <td>88</td>\n",
       "      <td>СЗАО</td>\n",
       "      <td>Район Митино</td>\n",
       "    </tr>\n",
       "    <tr>\n",
       "      <td>3677</td>\n",
       "      <td>1-я фрезерная улица</td>\n",
       "      <td>117</td>\n",
       "      <td>ЮВАО</td>\n",
       "      <td>Нижегородский район</td>\n",
       "    </tr>\n",
       "    <tr>\n",
       "      <td>1862</td>\n",
       "      <td>улица нижняя масловка</td>\n",
       "      <td>54</td>\n",
       "      <td>САО</td>\n",
       "      <td>Район Аэропорт</td>\n",
       "    </tr>\n",
       "  </tbody>\n",
       "</table>\n",
       "</div>"
      ],
      "text/plain": [
       "                 streetname  areaid       okrug                 area\n",
       "1720         овражная улица      51  Зеленоград        Район Крюково\n",
       "1108     1-я боевская улица      26         ВАО     Район Сокольники\n",
       "2821    староспасская улица      88        СЗАО         Район Митино\n",
       "3677    1-я фрезерная улица     117        ЮВАО  Нижегородский район\n",
       "1862  улица нижняя масловка      54         САО       Район Аэропорт"
      ]
     },
     "execution_count": 42,
     "metadata": {},
     "output_type": "execute_result"
    }
   ],
   "source": [
    "districts['streetname'] = districts['streetname'].str.lower()\n",
    "districts.sample(5, random_state = 42)"
   ]
  },
  {
   "cell_type": "markdown",
   "metadata": {},
   "source": [
    "Далее объединяем таблицу с районами и список топ10 улиц."
   ]
  },
  {
   "cell_type": "code",
   "execution_count": 43,
   "metadata": {},
   "outputs": [],
   "source": [
    "# уберем лишниие пробелы\n",
    "df['streetname'] = df['streetname'].str.strip()\n",
    "df_top['streetname'] = df_top['streetname'].str.strip()\n"
   ]
  },
  {
   "cell_type": "code",
   "execution_count": 44,
   "metadata": {},
   "outputs": [
    {
     "data": {
      "text/html": [
       "<div>\n",
       "<style scoped>\n",
       "    .dataframe tbody tr th:only-of-type {\n",
       "        vertical-align: middle;\n",
       "    }\n",
       "\n",
       "    .dataframe tbody tr th {\n",
       "        vertical-align: top;\n",
       "    }\n",
       "\n",
       "    .dataframe thead th {\n",
       "        text-align: right;\n",
       "    }\n",
       "</style>\n",
       "<table border=\"1\" class=\"dataframe\">\n",
       "  <thead>\n",
       "    <tr style=\"text-align: right;\">\n",
       "      <th></th>\n",
       "      <th>streetname</th>\n",
       "      <th>object_name</th>\n",
       "      <th>areaid</th>\n",
       "      <th>okrug</th>\n",
       "      <th>area</th>\n",
       "    </tr>\n",
       "  </thead>\n",
       "  <tbody>\n",
       "    <tr>\n",
       "      <td>0</td>\n",
       "      <td>проспект мира</td>\n",
       "      <td>204</td>\n",
       "      <td>70</td>\n",
       "      <td>СВАО</td>\n",
       "      <td>Алексеевский район</td>\n",
       "    </tr>\n",
       "    <tr>\n",
       "      <td>1</td>\n",
       "      <td>проспект мира</td>\n",
       "      <td>204</td>\n",
       "      <td>86</td>\n",
       "      <td>СВАО</td>\n",
       "      <td>Ярославский Район</td>\n",
       "    </tr>\n",
       "    <tr>\n",
       "      <td>2</td>\n",
       "      <td>проспект мира</td>\n",
       "      <td>204</td>\n",
       "      <td>78</td>\n",
       "      <td>СВАО</td>\n",
       "      <td>Район Марьина роща</td>\n",
       "    </tr>\n",
       "    <tr>\n",
       "      <td>3</td>\n",
       "      <td>проспект мира</td>\n",
       "      <td>204</td>\n",
       "      <td>79</td>\n",
       "      <td>СВАО</td>\n",
       "      <td>Останкинский район</td>\n",
       "    </tr>\n",
       "    <tr>\n",
       "      <td>4</td>\n",
       "      <td>проспект мира</td>\n",
       "      <td>204</td>\n",
       "      <td>81</td>\n",
       "      <td>СВАО</td>\n",
       "      <td>Район Ростокино</td>\n",
       "    </tr>\n",
       "    <tr>\n",
       "      <td>5</td>\n",
       "      <td>проспект мира</td>\n",
       "      <td>204</td>\n",
       "      <td>82</td>\n",
       "      <td>СВАО</td>\n",
       "      <td>Район Свиблово</td>\n",
       "    </tr>\n",
       "    <tr>\n",
       "      <td>6</td>\n",
       "      <td>проспект мира</td>\n",
       "      <td>204</td>\n",
       "      <td>16</td>\n",
       "      <td>ЦАО</td>\n",
       "      <td>Мещанский район</td>\n",
       "    </tr>\n",
       "    <tr>\n",
       "      <td>7</td>\n",
       "      <td>профсоюзная улица</td>\n",
       "      <td>182</td>\n",
       "      <td>123</td>\n",
       "      <td>ЮЗАО</td>\n",
       "      <td>Академический район</td>\n",
       "    </tr>\n",
       "    <tr>\n",
       "      <td>8</td>\n",
       "      <td>профсоюзная улица</td>\n",
       "      <td>182</td>\n",
       "      <td>132</td>\n",
       "      <td>ЮЗАО</td>\n",
       "      <td>Район Черемушки</td>\n",
       "    </tr>\n",
       "    <tr>\n",
       "      <td>9</td>\n",
       "      <td>профсоюзная улица</td>\n",
       "      <td>182</td>\n",
       "      <td>134</td>\n",
       "      <td>ЮЗАО</td>\n",
       "      <td>Район Ясенево</td>\n",
       "    </tr>\n",
       "    <tr>\n",
       "      <td>10</td>\n",
       "      <td>профсоюзная улица</td>\n",
       "      <td>182</td>\n",
       "      <td>126</td>\n",
       "      <td>ЮЗАО</td>\n",
       "      <td>Район Коньково</td>\n",
       "    </tr>\n",
       "    <tr>\n",
       "      <td>11</td>\n",
       "      <td>профсоюзная улица</td>\n",
       "      <td>182</td>\n",
       "      <td>129</td>\n",
       "      <td>ЮЗАО</td>\n",
       "      <td>Обручевский район</td>\n",
       "    </tr>\n",
       "    <tr>\n",
       "      <td>12</td>\n",
       "      <td>профсоюзная улица</td>\n",
       "      <td>182</td>\n",
       "      <td>131</td>\n",
       "      <td>ЮЗАО</td>\n",
       "      <td>Район Теплый Стан</td>\n",
       "    </tr>\n",
       "    <tr>\n",
       "      <td>13</td>\n",
       "      <td>ленинградский проспект</td>\n",
       "      <td>170</td>\n",
       "      <td>54</td>\n",
       "      <td>САО</td>\n",
       "      <td>Район Аэропорт</td>\n",
       "    </tr>\n",
       "    <tr>\n",
       "      <td>14</td>\n",
       "      <td>ленинградский проспект</td>\n",
       "      <td>170</td>\n",
       "      <td>55</td>\n",
       "      <td>САО</td>\n",
       "      <td>Район Беговой</td>\n",
       "    </tr>\n",
       "    <tr>\n",
       "      <td>15</td>\n",
       "      <td>ленинградский проспект</td>\n",
       "      <td>170</td>\n",
       "      <td>69</td>\n",
       "      <td>САО</td>\n",
       "      <td>Хорошевский район</td>\n",
       "    </tr>\n",
       "    <tr>\n",
       "      <td>16</td>\n",
       "      <td>ленинградский проспект</td>\n",
       "      <td>170</td>\n",
       "      <td>66</td>\n",
       "      <td>САО</td>\n",
       "      <td>Район Сокол</td>\n",
       "    </tr>\n",
       "    <tr>\n",
       "      <td>17</td>\n",
       "      <td>пресненская набережная</td>\n",
       "      <td>167</td>\n",
       "      <td>17</td>\n",
       "      <td>ЦАО</td>\n",
       "      <td>Пресненский район</td>\n",
       "    </tr>\n",
       "    <tr>\n",
       "      <td>18</td>\n",
       "      <td>варшавское шоссе</td>\n",
       "      <td>155</td>\n",
       "      <td>109</td>\n",
       "      <td>ЮАО</td>\n",
       "      <td>Район Чертаново Центральное</td>\n",
       "    </tr>\n",
       "    <tr>\n",
       "      <td>19</td>\n",
       "      <td>варшавское шоссе</td>\n",
       "      <td>155</td>\n",
       "      <td>108</td>\n",
       "      <td>ЮАО</td>\n",
       "      <td>Район Чертаново Северное</td>\n",
       "    </tr>\n",
       "    <tr>\n",
       "      <td>20</td>\n",
       "      <td>варшавское шоссе</td>\n",
       "      <td>155</td>\n",
       "      <td>110</td>\n",
       "      <td>ЮАО</td>\n",
       "      <td>Район Чертаново Южное</td>\n",
       "    </tr>\n",
       "    <tr>\n",
       "      <td>21</td>\n",
       "      <td>варшавское шоссе</td>\n",
       "      <td>155</td>\n",
       "      <td>99</td>\n",
       "      <td>ЮАО</td>\n",
       "      <td>Донской район</td>\n",
       "    </tr>\n",
       "    <tr>\n",
       "      <td>22</td>\n",
       "      <td>варшавское шоссе</td>\n",
       "      <td>155</td>\n",
       "      <td>102</td>\n",
       "      <td>ЮАО</td>\n",
       "      <td>Район Нагатино-Садовники</td>\n",
       "    </tr>\n",
       "    <tr>\n",
       "      <td>23</td>\n",
       "      <td>варшавское шоссе</td>\n",
       "      <td>155</td>\n",
       "      <td>104</td>\n",
       "      <td>ЮАО</td>\n",
       "      <td>Нагорный район</td>\n",
       "    </tr>\n",
       "    <tr>\n",
       "      <td>24</td>\n",
       "      <td>варшавское шоссе</td>\n",
       "      <td>155</td>\n",
       "      <td>130</td>\n",
       "      <td>ЮЗАО</td>\n",
       "      <td>Район Северное Бутово</td>\n",
       "    </tr>\n",
       "    <tr>\n",
       "      <td>25</td>\n",
       "      <td>варшавское шоссе</td>\n",
       "      <td>155</td>\n",
       "      <td>133</td>\n",
       "      <td>ЮЗАО</td>\n",
       "      <td>Район Южное Бутово</td>\n",
       "    </tr>\n",
       "    <tr>\n",
       "      <td>26</td>\n",
       "      <td>ленинский проспект</td>\n",
       "      <td>147</td>\n",
       "      <td>44</td>\n",
       "      <td>ЗАО</td>\n",
       "      <td>Район Проспект Вернадского</td>\n",
       "    </tr>\n",
       "    <tr>\n",
       "      <td>27</td>\n",
       "      <td>ленинский проспект</td>\n",
       "      <td>147</td>\n",
       "      <td>47</td>\n",
       "      <td>ЗАО</td>\n",
       "      <td>Район Тропарево-Никулино</td>\n",
       "    </tr>\n",
       "    <tr>\n",
       "      <td>28</td>\n",
       "      <td>ленинский проспект</td>\n",
       "      <td>147</td>\n",
       "      <td>99</td>\n",
       "      <td>ЮАО</td>\n",
       "      <td>Донской район</td>\n",
       "    </tr>\n",
       "    <tr>\n",
       "      <td>29</td>\n",
       "      <td>ленинский проспект</td>\n",
       "      <td>147</td>\n",
       "      <td>124</td>\n",
       "      <td>ЮЗАО</td>\n",
       "      <td>Район Гагаринский</td>\n",
       "    </tr>\n",
       "    <tr>\n",
       "      <td>30</td>\n",
       "      <td>ленинский проспект</td>\n",
       "      <td>147</td>\n",
       "      <td>128</td>\n",
       "      <td>ЮЗАО</td>\n",
       "      <td>Ломоносовский район</td>\n",
       "    </tr>\n",
       "    <tr>\n",
       "      <td>31</td>\n",
       "      <td>ленинский проспект</td>\n",
       "      <td>147</td>\n",
       "      <td>129</td>\n",
       "      <td>ЮЗАО</td>\n",
       "      <td>Обручевский район</td>\n",
       "    </tr>\n",
       "    <tr>\n",
       "      <td>32</td>\n",
       "      <td>ленинский проспект</td>\n",
       "      <td>147</td>\n",
       "      <td>131</td>\n",
       "      <td>ЮЗАО</td>\n",
       "      <td>Район Теплый Стан</td>\n",
       "    </tr>\n",
       "    <tr>\n",
       "      <td>33</td>\n",
       "      <td>ленинский проспект</td>\n",
       "      <td>147</td>\n",
       "      <td>21</td>\n",
       "      <td>ЦАО</td>\n",
       "      <td>Район Якиманка</td>\n",
       "    </tr>\n",
       "    <tr>\n",
       "      <td>34</td>\n",
       "      <td>проспект вернадского</td>\n",
       "      <td>131</td>\n",
       "      <td>44</td>\n",
       "      <td>ЗАО</td>\n",
       "      <td>Район Проспект Вернадского</td>\n",
       "    </tr>\n",
       "    <tr>\n",
       "      <td>35</td>\n",
       "      <td>проспект вернадского</td>\n",
       "      <td>131</td>\n",
       "      <td>45</td>\n",
       "      <td>ЗАО</td>\n",
       "      <td>Район Раменки</td>\n",
       "    </tr>\n",
       "    <tr>\n",
       "      <td>36</td>\n",
       "      <td>проспект вернадского</td>\n",
       "      <td>131</td>\n",
       "      <td>47</td>\n",
       "      <td>ЗАО</td>\n",
       "      <td>Район Тропарево-Никулино</td>\n",
       "    </tr>\n",
       "    <tr>\n",
       "      <td>37</td>\n",
       "      <td>проспект вернадского</td>\n",
       "      <td>131</td>\n",
       "      <td>124</td>\n",
       "      <td>ЮЗАО</td>\n",
       "      <td>Район Гагаринский</td>\n",
       "    </tr>\n",
       "    <tr>\n",
       "      <td>38</td>\n",
       "      <td>проспект вернадского</td>\n",
       "      <td>131</td>\n",
       "      <td>128</td>\n",
       "      <td>ЮЗАО</td>\n",
       "      <td>Ломоносовский район</td>\n",
       "    </tr>\n",
       "    <tr>\n",
       "      <td>39</td>\n",
       "      <td>кутузовский проспект</td>\n",
       "      <td>114</td>\n",
       "      <td>38</td>\n",
       "      <td>ЗАО</td>\n",
       "      <td>Район Дорогомилово</td>\n",
       "    </tr>\n",
       "    <tr>\n",
       "      <td>40</td>\n",
       "      <td>кутузовский проспект</td>\n",
       "      <td>114</td>\n",
       "      <td>49</td>\n",
       "      <td>ЗАО</td>\n",
       "      <td>Район Фили-Давыдково</td>\n",
       "    </tr>\n",
       "    <tr>\n",
       "      <td>41</td>\n",
       "      <td>каширское шоссе</td>\n",
       "      <td>103</td>\n",
       "      <td>101</td>\n",
       "      <td>ЮАО</td>\n",
       "      <td>Район Москворечье-Сабурово</td>\n",
       "    </tr>\n",
       "    <tr>\n",
       "      <td>42</td>\n",
       "      <td>каширское шоссе</td>\n",
       "      <td>103</td>\n",
       "      <td>102</td>\n",
       "      <td>ЮАО</td>\n",
       "      <td>Район Нагатино-Садовники</td>\n",
       "    </tr>\n",
       "    <tr>\n",
       "      <td>43</td>\n",
       "      <td>каширское шоссе</td>\n",
       "      <td>103</td>\n",
       "      <td>106</td>\n",
       "      <td>ЮАО</td>\n",
       "      <td>Район Орехово-Борисово Южное</td>\n",
       "    </tr>\n",
       "    <tr>\n",
       "      <td>44</td>\n",
       "      <td>каширское шоссе</td>\n",
       "      <td>103</td>\n",
       "      <td>105</td>\n",
       "      <td>ЮАО</td>\n",
       "      <td>Район Орехово-Борисово Северное</td>\n",
       "    </tr>\n",
       "    <tr>\n",
       "      <td>45</td>\n",
       "      <td>ходынский бульвар</td>\n",
       "      <td>102</td>\n",
       "      <td>69</td>\n",
       "      <td>САО</td>\n",
       "      <td>Хорошевский район</td>\n",
       "    </tr>\n",
       "  </tbody>\n",
       "</table>\n",
       "</div>"
      ],
      "text/plain": [
       "                streetname  object_name  areaid okrug  \\\n",
       "0            проспект мира          204      70  СВАО   \n",
       "1            проспект мира          204      86  СВАО   \n",
       "2            проспект мира          204      78  СВАО   \n",
       "3            проспект мира          204      79  СВАО   \n",
       "4            проспект мира          204      81  СВАО   \n",
       "5            проспект мира          204      82  СВАО   \n",
       "6            проспект мира          204      16   ЦАО   \n",
       "7        профсоюзная улица          182     123  ЮЗАО   \n",
       "8        профсоюзная улица          182     132  ЮЗАО   \n",
       "9        профсоюзная улица          182     134  ЮЗАО   \n",
       "10       профсоюзная улица          182     126  ЮЗАО   \n",
       "11       профсоюзная улица          182     129  ЮЗАО   \n",
       "12       профсоюзная улица          182     131  ЮЗАО   \n",
       "13  ленинградский проспект          170      54   САО   \n",
       "14  ленинградский проспект          170      55   САО   \n",
       "15  ленинградский проспект          170      69   САО   \n",
       "16  ленинградский проспект          170      66   САО   \n",
       "17  пресненская набережная          167      17   ЦАО   \n",
       "18        варшавское шоссе          155     109   ЮАО   \n",
       "19        варшавское шоссе          155     108   ЮАО   \n",
       "20        варшавское шоссе          155     110   ЮАО   \n",
       "21        варшавское шоссе          155      99   ЮАО   \n",
       "22        варшавское шоссе          155     102   ЮАО   \n",
       "23        варшавское шоссе          155     104   ЮАО   \n",
       "24        варшавское шоссе          155     130  ЮЗАО   \n",
       "25        варшавское шоссе          155     133  ЮЗАО   \n",
       "26      ленинский проспект          147      44   ЗАО   \n",
       "27      ленинский проспект          147      47   ЗАО   \n",
       "28      ленинский проспект          147      99   ЮАО   \n",
       "29      ленинский проспект          147     124  ЮЗАО   \n",
       "30      ленинский проспект          147     128  ЮЗАО   \n",
       "31      ленинский проспект          147     129  ЮЗАО   \n",
       "32      ленинский проспект          147     131  ЮЗАО   \n",
       "33      ленинский проспект          147      21   ЦАО   \n",
       "34    проспект вернадского          131      44   ЗАО   \n",
       "35    проспект вернадского          131      45   ЗАО   \n",
       "36    проспект вернадского          131      47   ЗАО   \n",
       "37    проспект вернадского          131     124  ЮЗАО   \n",
       "38    проспект вернадского          131     128  ЮЗАО   \n",
       "39    кутузовский проспект          114      38   ЗАО   \n",
       "40    кутузовский проспект          114      49   ЗАО   \n",
       "41         каширское шоссе          103     101   ЮАО   \n",
       "42         каширское шоссе          103     102   ЮАО   \n",
       "43         каширское шоссе          103     106   ЮАО   \n",
       "44         каширское шоссе          103     105   ЮАО   \n",
       "45       ходынский бульвар          102      69   САО   \n",
       "\n",
       "                               area  \n",
       "0                Алексеевский район  \n",
       "1                 Ярославский Район  \n",
       "2                Район Марьина роща  \n",
       "3                Останкинский район  \n",
       "4                   Район Ростокино  \n",
       "5                    Район Свиблово  \n",
       "6                   Мещанский район  \n",
       "7               Академический район  \n",
       "8                   Район Черемушки  \n",
       "9                     Район Ясенево  \n",
       "10                   Район Коньково  \n",
       "11                Обручевский район  \n",
       "12                Район Теплый Стан  \n",
       "13                   Район Аэропорт  \n",
       "14                    Район Беговой  \n",
       "15                Хорошевский район  \n",
       "16                      Район Сокол  \n",
       "17                Пресненский район  \n",
       "18      Район Чертаново Центральное  \n",
       "19         Район Чертаново Северное  \n",
       "20            Район Чертаново Южное  \n",
       "21                    Донской район  \n",
       "22         Район Нагатино-Садовники  \n",
       "23                   Нагорный район  \n",
       "24            Район Северное Бутово  \n",
       "25               Район Южное Бутово  \n",
       "26       Район Проспект Вернадского  \n",
       "27         Район Тропарево-Никулино  \n",
       "28                    Донской район  \n",
       "29                Район Гагаринский  \n",
       "30              Ломоносовский район  \n",
       "31                Обручевский район  \n",
       "32                Район Теплый Стан  \n",
       "33                   Район Якиманка  \n",
       "34       Район Проспект Вернадского  \n",
       "35                    Район Раменки  \n",
       "36         Район Тропарево-Никулино  \n",
       "37                Район Гагаринский  \n",
       "38              Ломоносовский район  \n",
       "39               Район Дорогомилово  \n",
       "40             Район Фили-Давыдково  \n",
       "41       Район Москворечье-Сабурово  \n",
       "42         Район Нагатино-Садовники  \n",
       "43     Район Орехово-Борисово Южное  \n",
       "44  Район Орехово-Борисово Северное  \n",
       "45                Хорошевский район  "
      ]
     },
     "execution_count": 44,
     "metadata": {},
     "output_type": "execute_result"
    }
   ],
   "source": [
    "df_top_dstr_new = df_top.merge(districts, on = 'streetname')\n",
    "df_top_dstr_new"
   ]
  },
  {
   "cell_type": "code",
   "execution_count": 45,
   "metadata": {},
   "outputs": [
    {
     "data": {
      "text/html": [
       "<div>\n",
       "<style scoped>\n",
       "    .dataframe tbody tr th:only-of-type {\n",
       "        vertical-align: middle;\n",
       "    }\n",
       "\n",
       "    .dataframe tbody tr th {\n",
       "        vertical-align: top;\n",
       "    }\n",
       "\n",
       "    .dataframe thead th {\n",
       "        text-align: right;\n",
       "    }\n",
       "</style>\n",
       "<table border=\"1\" class=\"dataframe\">\n",
       "  <thead>\n",
       "    <tr style=\"text-align: right;\">\n",
       "      <th></th>\n",
       "      <th>id</th>\n",
       "      <th>object_name</th>\n",
       "      <th>chain</th>\n",
       "      <th>object_type</th>\n",
       "      <th>address</th>\n",
       "      <th>number</th>\n",
       "      <th>streetname</th>\n",
       "      <th>areaid</th>\n",
       "      <th>okrug</th>\n",
       "      <th>area</th>\n",
       "    </tr>\n",
       "  </thead>\n",
       "  <tbody>\n",
       "    <tr>\n",
       "      <td>0</td>\n",
       "      <td>151635</td>\n",
       "      <td>сметана</td>\n",
       "      <td>несетевое</td>\n",
       "      <td>кафе</td>\n",
       "      <td>город москва улица егора абакумова дом 9</td>\n",
       "      <td>48</td>\n",
       "      <td>улица егора абакумова</td>\n",
       "      <td>86</td>\n",
       "      <td>СВАО</td>\n",
       "      <td>Ярославский Район</td>\n",
       "    </tr>\n",
       "    <tr>\n",
       "      <td>1</td>\n",
       "      <td>193477</td>\n",
       "      <td>grill-house</td>\n",
       "      <td>несетевое</td>\n",
       "      <td>закусочная</td>\n",
       "      <td>город москва улица егора абакумова дом 14а</td>\n",
       "      <td>0</td>\n",
       "      <td>улица егора абакумова</td>\n",
       "      <td>86</td>\n",
       "      <td>СВАО</td>\n",
       "      <td>Ярославский Район</td>\n",
       "    </tr>\n",
       "    <tr>\n",
       "      <td>2</td>\n",
       "      <td>196756</td>\n",
       "      <td>пекарня</td>\n",
       "      <td>несетевое</td>\n",
       "      <td>кафетерий</td>\n",
       "      <td>город москва улица егора абакумова дом 14а</td>\n",
       "      <td>12</td>\n",
       "      <td>улица егора абакумова</td>\n",
       "      <td>86</td>\n",
       "      <td>СВАО</td>\n",
       "      <td>Ярославский Район</td>\n",
       "    </tr>\n",
       "    <tr>\n",
       "      <td>3</td>\n",
       "      <td>77874</td>\n",
       "      <td>родник</td>\n",
       "      <td>несетевое</td>\n",
       "      <td>кафе</td>\n",
       "      <td>город москва улица талалихина дом 2/1 корпус 1</td>\n",
       "      <td>35</td>\n",
       "      <td>улица талалихина</td>\n",
       "      <td>18</td>\n",
       "      <td>ЦАО</td>\n",
       "      <td>Таганский район</td>\n",
       "    </tr>\n",
       "    <tr>\n",
       "      <td>4</td>\n",
       "      <td>77874</td>\n",
       "      <td>родник</td>\n",
       "      <td>несетевое</td>\n",
       "      <td>кафе</td>\n",
       "      <td>город москва улица талалихина дом 2/1 корпус 1</td>\n",
       "      <td>35</td>\n",
       "      <td>улица талалихина</td>\n",
       "      <td>117</td>\n",
       "      <td>ЮВАО</td>\n",
       "      <td>Нижегородский район</td>\n",
       "    </tr>\n",
       "    <tr>\n",
       "      <td>...</td>\n",
       "      <td>...</td>\n",
       "      <td>...</td>\n",
       "      <td>...</td>\n",
       "      <td>...</td>\n",
       "      <td>...</td>\n",
       "      <td>...</td>\n",
       "      <td>...</td>\n",
       "      <td>...</td>\n",
       "      <td>...</td>\n",
       "      <td>...</td>\n",
       "    </tr>\n",
       "    <tr>\n",
       "      <td>27008</td>\n",
       "      <td>217710</td>\n",
       "      <td>кофе пью</td>\n",
       "      <td>несетевое</td>\n",
       "      <td>кафе</td>\n",
       "      <td>город москва гамсоновский переулок дом 2 строе...</td>\n",
       "      <td>38</td>\n",
       "      <td>гамсоновский переулок</td>\n",
       "      <td>98</td>\n",
       "      <td>ЮАО</td>\n",
       "      <td>Даниловский район</td>\n",
       "    </tr>\n",
       "    <tr>\n",
       "      <td>27009</td>\n",
       "      <td>213369</td>\n",
       "      <td>великолепный век</td>\n",
       "      <td>несетевое</td>\n",
       "      <td>ресторан</td>\n",
       "      <td>город москва улица кожевнический вражек дом 3а</td>\n",
       "      <td>38</td>\n",
       "      <td>улица кожевнический вражек</td>\n",
       "      <td>98</td>\n",
       "      <td>ЮАО</td>\n",
       "      <td>Даниловский район</td>\n",
       "    </tr>\n",
       "    <tr>\n",
       "      <td>27010</td>\n",
       "      <td>206426</td>\n",
       "      <td>чайхана  мантыбар</td>\n",
       "      <td>несетевое</td>\n",
       "      <td>ресторан</td>\n",
       "      <td>город москва улица кожевнический вражек дом 3а</td>\n",
       "      <td>30</td>\n",
       "      <td>улица кожевнический вражек</td>\n",
       "      <td>98</td>\n",
       "      <td>ЮАО</td>\n",
       "      <td>Даниловский район</td>\n",
       "    </tr>\n",
       "    <tr>\n",
       "      <td>27011</td>\n",
       "      <td>213851</td>\n",
       "      <td>ресторан  атмосфера</td>\n",
       "      <td>несетевое</td>\n",
       "      <td>ресторан</td>\n",
       "      <td>город москва улица василисы кожиной дом 1 корп...</td>\n",
       "      <td>49</td>\n",
       "      <td>улица василисы кожиной</td>\n",
       "      <td>48</td>\n",
       "      <td>ЗАО</td>\n",
       "      <td>Район Филевский Парк</td>\n",
       "    </tr>\n",
       "    <tr>\n",
       "      <td>27012</td>\n",
       "      <td>213864</td>\n",
       "      <td>столовая</td>\n",
       "      <td>несетевое</td>\n",
       "      <td>столовая</td>\n",
       "      <td>город москва улица василисы кожиной дом 1 корп...</td>\n",
       "      <td>49</td>\n",
       "      <td>улица василисы кожиной</td>\n",
       "      <td>48</td>\n",
       "      <td>ЗАО</td>\n",
       "      <td>Район Филевский Парк</td>\n",
       "    </tr>\n",
       "  </tbody>\n",
       "</table>\n",
       "<p>27013 rows × 10 columns</p>\n",
       "</div>"
      ],
      "text/plain": [
       "           id           object_name      chain object_type  \\\n",
       "0      151635               сметана  несетевое        кафе   \n",
       "1      193477           grill-house  несетевое  закусочная   \n",
       "2      196756               пекарня  несетевое   кафетерий   \n",
       "3       77874                родник  несетевое        кафе   \n",
       "4       77874                родник  несетевое        кафе   \n",
       "...       ...                   ...        ...         ...   \n",
       "27008  217710              кофе пью  несетевое        кафе   \n",
       "27009  213369      великолепный век  несетевое    ресторан   \n",
       "27010  206426    чайхана  мантыбар   несетевое    ресторан   \n",
       "27011  213851  ресторан  атмосфера   несетевое    ресторан   \n",
       "27012  213864              столовая  несетевое    столовая   \n",
       "\n",
       "                                                 address  number  \\\n",
       "0               город москва улица егора абакумова дом 9      48   \n",
       "1             город москва улица егора абакумова дом 14а       0   \n",
       "2             город москва улица егора абакумова дом 14а      12   \n",
       "3         город москва улица талалихина дом 2/1 корпус 1      35   \n",
       "4         город москва улица талалихина дом 2/1 корпус 1      35   \n",
       "...                                                  ...     ...   \n",
       "27008  город москва гамсоновский переулок дом 2 строе...      38   \n",
       "27009     город москва улица кожевнический вражек дом 3а      38   \n",
       "27010     город москва улица кожевнический вражек дом 3а      30   \n",
       "27011  город москва улица василисы кожиной дом 1 корп...      49   \n",
       "27012  город москва улица василисы кожиной дом 1 корп...      49   \n",
       "\n",
       "                       streetname  areaid okrug                  area  \n",
       "0           улица егора абакумова      86  СВАО     Ярославский Район  \n",
       "1           улица егора абакумова      86  СВАО     Ярославский Район  \n",
       "2           улица егора абакумова      86  СВАО     Ярославский Район  \n",
       "3                улица талалихина      18   ЦАО       Таганский район  \n",
       "4                улица талалихина     117  ЮВАО   Нижегородский район  \n",
       "...                           ...     ...   ...                   ...  \n",
       "27008       гамсоновский переулок      98   ЮАО     Даниловский район  \n",
       "27009  улица кожевнический вражек      98   ЮАО     Даниловский район  \n",
       "27010  улица кожевнический вражек      98   ЮАО     Даниловский район  \n",
       "27011      улица василисы кожиной      48   ЗАО  Район Филевский Парк  \n",
       "27012      улица василисы кожиной      48   ЗАО  Район Филевский Парк  \n",
       "\n",
       "[27013 rows x 10 columns]"
      ]
     },
     "execution_count": 45,
     "metadata": {},
     "output_type": "execute_result"
    }
   ],
   "source": [
    "# объединим районы с основной таблицей.\n",
    "df_new = df.merge(districts, on = 'streetname') \n",
    "df_new"
   ]
  },
  {
   "cell_type": "code",
   "execution_count": 46,
   "metadata": {},
   "outputs": [
    {
     "data": {
      "text/plain": [
       "id             0\n",
       "object_name    0\n",
       "chain          0\n",
       "object_type    0\n",
       "address        0\n",
       "number         0\n",
       "streetname     0\n",
       "areaid         0\n",
       "okrug          0\n",
       "area           0\n",
       "dtype: int64"
      ]
     },
     "execution_count": 46,
     "metadata": {},
     "output_type": "execute_result"
    }
   ],
   "source": [
    "df_new.isnull().sum()"
   ]
  },
  {
   "cell_type": "code",
   "execution_count": 47,
   "metadata": {},
   "outputs": [
    {
     "data": {
      "text/plain": [
       "False"
      ]
     },
     "execution_count": 47,
     "metadata": {},
     "output_type": "execute_result"
    }
   ],
   "source": [
    "df_new.isnull().values.any()"
   ]
  },
  {
   "cell_type": "markdown",
   "metadata": {},
   "source": [
    "### Число улиц с одним объектом общественного питания"
   ]
  },
  {
   "cell_type": "code",
   "execution_count": 48,
   "metadata": {},
   "outputs": [
    {
     "data": {
      "text/plain": [
       "810"
      ]
     },
     "execution_count": 48,
     "metadata": {},
     "output_type": "execute_result"
    }
   ],
   "source": [
    "# найдем число улиц с одним объектом общественного питания через срез\n",
    "\n",
    "one_object_st = df.groupby('streetname').count().query('id == 1')\n",
    "len(one_object_st)"
   ]
  },
  {
   "cell_type": "markdown",
   "metadata": {},
   "source": [
    "810 улиц с одним объектом общественного питания."
   ]
  },
  {
   "cell_type": "code",
   "execution_count": 49,
   "metadata": {},
   "outputs": [],
   "source": [
    "one_object_st_dstr = one_object_st.merge(districts, on = 'streetname')\n",
    "# one_object_st_dstr"
   ]
  },
  {
   "cell_type": "code",
   "execution_count": 50,
   "metadata": {},
   "outputs": [],
   "source": [
    "# one_object_st_dstr = one_object_st.merge(districts, left_on = 'streetname', right_on = 'streetname')"
   ]
  },
  {
   "cell_type": "code",
   "execution_count": 51,
   "metadata": {},
   "outputs": [
    {
     "data": {
      "text/plain": [
       "array(['Район Аэропорт', 'Басманный район', 'Красносельский район',\n",
       "       'Район Свиблово', 'Рязанский район', 'Район Якиманка',\n",
       "       'Район Хамовники', 'Район Соколиная Гора', 'Даниловский район',\n",
       "       'Мещанский район', 'Таганский район', 'Район Лефортово',\n",
       "       'Район Печатники', 'Район Сокольники', 'Район Замоскворечье',\n",
       "       'Хорошевский район', 'Район Арбат', 'Район Марьина роща',\n",
       "       'Алексеевский район', 'Район Текстильщики', 'Район Ростокино',\n",
       "       'Район Раменки', 'Район Хорошево-Мневники',\n",
       "       'Район Покровское-Стрешнево', 'Район Богородское',\n",
       "       'Нижегородский район', 'Тверской район', 'Лосиноостровский район',\n",
       "       'Район Ново-Переделкино', 'Район Измайлово',\n",
       "       'Район Северное Измайлово', 'Район Восточное Измайлово',\n",
       "       'Район Беговой', 'Донской район', 'Район Гольяново',\n",
       "       'Войковский Район', 'Савеловский район', 'Район Преображенское',\n",
       "       'Район Перово', 'Район Чертаново Южное', 'Южнопортовый Район',\n",
       "       'Район Южное Бутово', 'Останкинский район', 'Район Сокол',\n",
       "       'Район Северный', 'Район Кунцево', 'Район Люблино',\n",
       "       'Тимирязевский Район', 'Район Внуково', 'Бескудниковский Район',\n",
       "       'Район Зюзино', 'Пресненский район', 'Район Солнцево',\n",
       "       'Дмитровский район', 'Район Метрогородок', 'Район Митино',\n",
       "       'Район Нагатино-Садовники', 'Можайский Район', 'Район Кузьминки',\n",
       "       'Район Черемушки', 'Район Косино-Ухтомский', 'Головинский район',\n",
       "       'Район Коптево', 'Район Выхино-Жулебино', 'Район Куркино',\n",
       "       'Район Лианозово', 'Ярославский Район', 'Район Бирюлево Восточное',\n",
       "       'Район Котловка', 'Район Южное Тушино', 'Район Строгино',\n",
       "       'Район Отрадное', 'Бабушкинский район', 'Район Дорогомилово',\n",
       "       'Район Марьино', 'Район Левобережный', 'Молжаниновский район',\n",
       "       'Бутырский район', 'Район Очаково-Матвеевское', 'Район Ивановское',\n",
       "       'Район Западное Дегунино', 'Район Северное Медведково',\n",
       "       'Нагорный район', 'Район Матушкино-Савелки', 'Район Новогиреево',\n",
       "       'Алтуфьевский район', 'Район Северное Бутово',\n",
       "       'Район Чертаново Северное', 'Район Ясенево', 'Район Восточный',\n",
       "       'Район Коньково', 'Район Марфино', 'Обручевский район',\n",
       "       'Район Щукино', 'Район Фили-Давыдково',\n",
       "       'Район Москворечье-Сабурово', 'Район Царицыно',\n",
       "       'Район Южное Медведково'], dtype=object)"
      ]
     },
     "execution_count": 51,
     "metadata": {},
     "output_type": "execute_result"
    }
   ],
   "source": [
    "one_object_st_dstr['area'].unique()"
   ]
  },
  {
   "cell_type": "markdown",
   "metadata": {},
   "source": [
    "Вывели весь список районов Москвы, где находятся улицы с одним объектом общественного питания. Далее найдем топ-10."
   ]
  },
  {
   "cell_type": "code",
   "execution_count": 52,
   "metadata": {},
   "outputs": [
    {
     "data": {
      "text/html": [
       "<div>\n",
       "<style scoped>\n",
       "    .dataframe tbody tr th:only-of-type {\n",
       "        vertical-align: middle;\n",
       "    }\n",
       "\n",
       "    .dataframe tbody tr th {\n",
       "        vertical-align: top;\n",
       "    }\n",
       "\n",
       "    .dataframe thead th {\n",
       "        text-align: right;\n",
       "    }\n",
       "</style>\n",
       "<table border=\"1\" class=\"dataframe\">\n",
       "  <thead>\n",
       "    <tr style=\"text-align: right;\">\n",
       "      <th></th>\n",
       "      <th>area</th>\n",
       "      <th>object_type</th>\n",
       "    </tr>\n",
       "  </thead>\n",
       "  <tbody>\n",
       "    <tr>\n",
       "      <td>0</td>\n",
       "      <td>Таганский район</td>\n",
       "      <td>27</td>\n",
       "    </tr>\n",
       "    <tr>\n",
       "      <td>1</td>\n",
       "      <td>Район Хамовники</td>\n",
       "      <td>24</td>\n",
       "    </tr>\n",
       "    <tr>\n",
       "      <td>2</td>\n",
       "      <td>Басманный район</td>\n",
       "      <td>21</td>\n",
       "    </tr>\n",
       "    <tr>\n",
       "      <td>3</td>\n",
       "      <td>Тверской район</td>\n",
       "      <td>20</td>\n",
       "    </tr>\n",
       "    <tr>\n",
       "      <td>4</td>\n",
       "      <td>Пресненский район</td>\n",
       "      <td>19</td>\n",
       "    </tr>\n",
       "    <tr>\n",
       "      <td>5</td>\n",
       "      <td>Район Марьина роща</td>\n",
       "      <td>17</td>\n",
       "    </tr>\n",
       "    <tr>\n",
       "      <td>6</td>\n",
       "      <td>Район Арбат</td>\n",
       "      <td>17</td>\n",
       "    </tr>\n",
       "    <tr>\n",
       "      <td>7</td>\n",
       "      <td>Мещанский район</td>\n",
       "      <td>16</td>\n",
       "    </tr>\n",
       "    <tr>\n",
       "      <td>8</td>\n",
       "      <td>Район Сокольники</td>\n",
       "      <td>15</td>\n",
       "    </tr>\n",
       "    <tr>\n",
       "      <td>9</td>\n",
       "      <td>Район Замоскворечье</td>\n",
       "      <td>14</td>\n",
       "    </tr>\n",
       "  </tbody>\n",
       "</table>\n",
       "</div>"
      ],
      "text/plain": [
       "                  area  object_type\n",
       "0      Таганский район           27\n",
       "1      Район Хамовники           24\n",
       "2      Басманный район           21\n",
       "3       Тверской район           20\n",
       "4    Пресненский район           19\n",
       "5   Район Марьина роща           17\n",
       "6          Район Арбат           17\n",
       "7      Мещанский район           16\n",
       "8     Район Сокольники           15\n",
       "9  Район Замоскворечье           14"
      ]
     },
     "execution_count": 52,
     "metadata": {},
     "output_type": "execute_result"
    }
   ],
   "source": [
    "areas = one_object_st_dstr.groupby('area')['object_type'].count().sort_values(ascending = False).reset_index().head(10)\n",
    "areas"
   ]
  },
  {
   "cell_type": "code",
   "execution_count": 53,
   "metadata": {},
   "outputs": [
    {
     "data": {
      "image/png": "[encoded data removed]",
      "text/plain": [
       "<Figure size 864x432 with 1 Axes>"
      ]
     },
     "metadata": {
      "needs_background": "light"
     },
     "output_type": "display_data"
    }
   ],
   "source": [
    "plt.figure(figsize = (12, 6)) \n",
    "sns.barplot(y = 'area', x = 'object_type', data = areas, palette = 'rocket')\n",
    "plt.title('Топ-10 районов с одним объектом общественного питания')\n",
    "plt.ylabel('район')\n",
    "plt.xlabel('количество обьектов общественного питания')\n",
    "plt.show()\n"
   ]
  },
  {
   "cell_type": "markdown",
   "metadata": {},
   "source": [
    "Больше всего улиц с одним заведением в Таганском районе, Хамовниках и Басманном районе."
   ]
  },
  {
   "cell_type": "markdown",
   "metadata": {},
   "source": [
    "### Количество мест для улиц с большим количеством заведений"
   ]
  },
  {
   "cell_type": "code",
   "execution_count": 54,
   "metadata": {},
   "outputs": [
    {
     "data": {
      "text/plain": [
       "count    15366.000000\n",
       "mean        59.547182\n",
       "std         74.736833\n",
       "min          0.000000\n",
       "25%         12.000000\n",
       "50%         40.000000\n",
       "75%         80.000000\n",
       "max       1700.000000\n",
       "Name: number, dtype: float64"
      ]
     },
     "execution_count": 54,
     "metadata": {},
     "output_type": "execute_result"
    }
   ],
   "source": [
    "df['number'].describe()"
   ]
  },
  {
   "cell_type": "markdown",
   "metadata": {},
   "source": [
    "Среднее количество посадочных мест для всех улиц - 59, медианное - 40."
   ]
  },
  {
   "cell_type": "markdown",
   "metadata": {},
   "source": [
    "Теперь посмотрим на распределение количества посадочных мест для топ-10 улиц с большим количеством объектов общественного питания."
   ]
  },
  {
   "cell_type": "code",
   "execution_count": 55,
   "metadata": {},
   "outputs": [],
   "source": [
    "tt = df_top.merge(df, on = 'streetname', how = 'left')"
   ]
  },
  {
   "cell_type": "code",
   "execution_count": 56,
   "metadata": {},
   "outputs": [
    {
     "data": {
      "text/plain": [
       "count    1475.000000\n",
       "mean       55.561356\n",
       "std        88.962401\n",
       "min         0.000000\n",
       "25%        12.000000\n",
       "50%        35.000000\n",
       "75%        70.000000\n",
       "max      1700.000000\n",
       "Name: number, dtype: float64"
      ]
     },
     "execution_count": 56,
     "metadata": {},
     "output_type": "execute_result"
    }
   ],
   "source": [
    "tt['number'].describe()"
   ]
  },
  {
   "cell_type": "code",
   "execution_count": 57,
   "metadata": {},
   "outputs": [
    {
     "data": {
      "image/png": "[encoded data removed]",
      "text/plain": [
       "<Figure size 720x288 with 1 Axes>"
      ]
     },
     "metadata": {
      "needs_background": "light"
     },
     "output_type": "display_data"
    }
   ],
   "source": [
    "plt.figure(figsize = (10, 4)) \n",
    "ax = sns.boxplot(x = tt['number'], palette = 'rocket')\n",
    "plt.title('Диаграмма размаха количества посадочных мест в заведениях на топ-10 улиц Москвы') \n",
    "plt.xlabel('количество посадочных мест')\n",
    "plt.show()"
   ]
  },
  {
   "cell_type": "code",
   "execution_count": 58,
   "metadata": {},
   "outputs": [
    {
     "data": {
      "image/png": "[encoded data removed]",
      "text/plain": [
       "<Figure size 720x288 with 1 Axes>"
      ]
     },
     "metadata": {
      "needs_background": "light"
     },
     "output_type": "display_data"
    }
   ],
   "source": [
    "# приближаем график\n",
    "\n",
    "plt.figure(figsize = (10, 4)) \n",
    "ax = sns.boxplot(x = tt['number'], palette = 'rocket')\n",
    "plt.xlim(-10, 160)\n",
    "plt.title('Диаграмма размаха количества посадочных мест в заведениях на топ-10 улиц Москвы') \n",
    "plt.xlabel('количество посадочных мест')\n",
    "plt.show()"
   ]
  },
  {
   "cell_type": "markdown",
   "metadata": {},
   "source": [
    "В среднем количество посадочных мест составляет от 12 до 70. Медиана 35, среднее 55. Выбросы свыше 155."
   ]
  },
  {
   "cell_type": "code",
   "execution_count": 59,
   "metadata": {},
   "outputs": [
    {
     "data": {
      "image/png": "[encoded data removed]",
      "text/plain": [
       "<Figure size 720x360 with 1 Axes>"
      ]
     },
     "metadata": {
      "needs_background": "light"
     },
     "output_type": "display_data"
    }
   ],
   "source": [
    "plt.figure(figsize = (10, 5))\n",
    "tt['number'].hist(bins = 100, alpha = .7)\n",
    "plt.title('Количество посадочных мест в заведениях на топ-10 улиц Москвы') \n",
    "plt.xlabel('количество посадочных мест')\n",
    "plt.show()"
   ]
  },
  {
   "cell_type": "markdown",
   "metadata": {},
   "source": [
    "Подавляющее большинство заведений небольшого формата. Малая часть заведений имеет больше 100 посадочных мест, а больше 250 - вообще редкое явление."
   ]
  },
  {
   "cell_type": "code",
   "execution_count": 60,
   "metadata": {},
   "outputs": [
    {
     "data": {
      "image/png": "[encoded data removed]",
      "text/plain": [
       "<Figure size 720x360 with 1 Axes>"
      ]
     },
     "metadata": {
      "needs_background": "light"
     },
     "output_type": "display_data"
    }
   ],
   "source": [
    "plt.figure(figsize = (10, 5))\n",
    "sns.distplot(tt['number'], bins = 100) \n",
    "plt.title('Количество посадочных мест в заведениях на топ-10 улиц Москвы') \n",
    "plt.xlabel('количество посадочных мест')\n",
    "plt.show()"
   ]
  },
  {
   "cell_type": "code",
   "execution_count": 61,
   "metadata": {},
   "outputs": [
    {
     "data": {
      "image/png": "[encoded data removed]",
      "text/plain": [
       "<Figure size 864x432 with 1 Axes>"
      ]
     },
     "metadata": {
      "needs_background": "light"
     },
     "output_type": "display_data"
    }
   ],
   "source": [
    "plt.figure(figsize = (12, 6)) \n",
    "sns.boxplot(y = \"streetname\", x = \"number\",  data = tt, palette = 'rocket') \n",
    " \n",
    "plt.title('Диаграмма размаха количества посадочных мест в заведениях на топ-10 улиц Москвы') \n",
    "plt.xlabel('количество посадочных мест')\n",
    "plt.show()"
   ]
  },
  {
   "cell_type": "code",
   "execution_count": 62,
   "metadata": {},
   "outputs": [
    {
     "data": {
      "image/png": "[encoded data removed]",
      "text/plain": [
       "<Figure size 1080x576 with 1 Axes>"
      ]
     },
     "metadata": {
      "needs_background": "light"
     },
     "output_type": "display_data"
    }
   ],
   "source": [
    "plt.figure(figsize = (15, 8)) \n",
    "sns.boxplot(y = \"streetname\", x = \"number\",  data = tt, palette = 'rocket') \n",
    "plt.xlim(-5, 200)\n",
    "plt.title('Диаграмма размаха количества посадочных мест в заведениях на топ-10 улиц Москвы') \n",
    "plt.xlabel('количество посадочных мест')\n",
    "plt.show()"
   ]
  },
  {
   "cell_type": "markdown",
   "metadata": {},
   "source": [
    "На боксплоте видно, что большинство заведений на топ-10 улицах имеют небольшое количество мест: от 10 до 70. В основном их не больше сотни. Медиана 35. <br> Больше всего мест наблюдается на Кутузовском и проспекте Мира. Минимальный показатель у Ходынского бульвара."
   ]
  },
  {
   "cell_type": "code",
   "execution_count": 63,
   "metadata": {},
   "outputs": [
    {
     "data": {
      "image/png": "[encoded data removed]",
      "text/plain": [
       "<Figure size 1080x720 with 1 Axes>"
      ]
     },
     "metadata": {
      "needs_background": "light"
     },
     "output_type": "display_data"
    }
   ],
   "source": [
    "plt.figure(figsize = (15, 10)) \n",
    "sns.boxplot(y = 'streetname', x = 'number',  data = tt, hue = 'chain', palette = 'rocket') \n",
    "plt.xlim(-5, 200)\n",
    "plt.title('Диаграмма размаха количества посадочных мест в заведениях на топ-10 улиц Москвы, сеть/несеть') \n",
    "plt.xlabel('количество посадочных мест')\n",
    "plt.show()"
   ]
  },
  {
   "cell_type": "markdown",
   "metadata": {},
   "source": [
    "Количество мест в сетевых заведениях намного больше чем в сетевых на следующих улицах: пр-т Мира, ул. Профсоюзная, Ленинский пр-т, Каширское шоссе. Обратная ситуация наблюдается на Ленинградском и Кутузовском."
   ]
  },
  {
   "cell_type": "markdown",
   "metadata": {},
   "source": [
    "<hr style=\"border: 1px solid #000;\"> "
   ]
  },
  {
   "cell_type": "markdown",
   "metadata": {},
   "source": [
    "## Вывод"
   ]
  },
  {
   "cell_type": "markdown",
   "metadata": {},
   "source": [
    "Мы обработали датафрейм о предприятиях общественного питания г. Москва и подготовили данные для анализа: привели адреса и названия обьектов к нижнему регистру, убрали лишние символы, переименовали сетевые и несетевые заведения. Для удобства изменили названия двух типов заведений. Добавили новый столбец с названием улиц, необходимый для дальнейших расчетов. "
   ]
  },
  {
   "cell_type": "markdown",
   "metadata": {},
   "source": [
    "Мы выяснили, что наиболее распространенным объектом общественного питания в Москве является кафе, затем идут столовые, рестораны и фастфуд. Сетевые заведения занимают пятую часть рынка, то есть несетевых - в четыре раза больше. Сетевое распространение характерно для кафе, фастфуда и ресторанов. В гораздо меньшей доле для закусочных, кафетериев, баров, кулинарий. <br> <br>\n",
    "Как правило для сетевых заведений Москвы характерно много заведений с небольшим числом посадочных мест. Для кафе, фастфуда и ресторанов характерно большое количество заведений с числом посадочных мест до 100, большое количество ресторанов имеют до 200 посадочных. Кулинарии, кафетерии и закусочные в основном имеют до 30 мест. <br> \n",
    "\n",
    "В среднем наибольшее количество посадочных мест - в категориях столовая (104) и ресторан (80). <br> Буфет, бар и кафе 35-40, фастфуд 20. Закусочная, кафетерий, кулинария - около 10."
   ]
  },
  {
   "cell_type": "markdown",
   "metadata": {},
   "source": [
    "Проспект Мира - лидер по количеству заведений. Далее с небольшим отрывом следую Профсоюзная улица, Ленинградский проспект и Пресненская набережная. Можно предположить, что количество заведений на данных улицах прямо связано с их протяженнностью. <br> \n",
    "Больше всего улиц с одним заведением в Таганском районе, Хамовниках и Басманном районе.\n",
    "<br> \n"
   ]
  },
  {
   "cell_type": "markdown",
   "metadata": {},
   "source": [
    "В среднем количество посадочных мест для топ-10 улиц составляет от 12 до 70, медианное количство - 35. Таким образом, подавляющее большинство заведений имеют небольшой формат. Малая часть заведений располагает сотней посадочных мест, а больше 250 - вообще редкое явление. \n",
    "Больше всего мест наблюдается у заведений, расположенных на Кутузовском и проспекте Мира. Минимальный показатель у Ходынского бульвара."
   ]
  },
  {
   "cell_type": "markdown",
   "metadata": {},
   "source": [
    "Исходя из описания задачи, можно рекомендовать, например, открытие флагманского заведения будущей сети кафе с роботами в районе Сити на Пресненской набережной, как на одной из улиц из топ-10. Количество посадочных мест не должно превышать 40-50, дабы подчеркнуть уникальность объекта.<br> Хотим отметить, что предоставленной информации очень мало и сложно делать адекватные рекомендации. Нет информации о целевой аудитории, о среднем чеке, о подробной концепции заведения. Может, инвесторы вообще хотят открыть сеть столовых с роботами на 100 посадочных у метро.  <br> Размещение на улицах с большим количеством объектов не всегда может дать синергетический эффект. Может быть, инвесторы захотят выбрать перспективный или знаковый туристический район. "
   ]
  },
  {
   "cell_type": "markdown",
   "metadata": {},
   "source": [
    "<hr style=\"border: 1px solid #000;\"> "
   ]
  },
  {
   "cell_type": "markdown",
   "metadata": {},
   "source": [
    "## Презентация"
   ]
  },
  {
   "cell_type": "markdown",
   "metadata": {},
   "source": [
    "Доступна по ссылке:  https://docs.google.com/presentation/d/1H8rFpk9NDLdwbR_YWRhXZHlEsC2sS_CJzauC0qzeklM"
   ]
  }
 ],
 "metadata": {
  "ExecuteTimeLog": [
   {
    "duration": 57,
    "start_time": "2021-07-20T16:51:10.700Z"
   },
   {
    "duration": 3424,
    "start_time": "2021-07-20T16:54:23.821Z"
   },
   {
    "duration": 682,
    "start_time": "2021-07-20T16:54:27.247Z"
   },
   {
    "duration": 21,
    "start_time": "2021-07-20T16:54:27.931Z"
   },
   {
    "duration": 8,
    "start_time": "2021-07-20T16:54:27.954Z"
   },
   {
    "duration": 30,
    "start_time": "2021-07-20T16:54:27.963Z"
   },
   {
    "duration": 4,
    "start_time": "2021-07-20T16:54:27.994Z"
   },
   {
    "duration": 25,
    "start_time": "2021-07-20T16:54:28.000Z"
   },
   {
    "duration": 5,
    "start_time": "2021-07-20T16:54:28.026Z"
   },
   {
    "duration": 15,
    "start_time": "2021-07-20T16:54:28.034Z"
   },
   {
    "duration": 35,
    "start_time": "2021-07-20T16:54:28.051Z"
   },
   {
    "duration": 7,
    "start_time": "2021-07-20T16:54:28.088Z"
   },
   {
    "duration": 118,
    "start_time": "2021-07-20T16:54:28.096Z"
   },
   {
    "duration": 9,
    "start_time": "2021-07-20T16:54:28.216Z"
   },
   {
    "duration": 11,
    "start_time": "2021-07-20T16:54:28.227Z"
   },
   {
    "duration": 12,
    "start_time": "2021-07-20T16:54:28.239Z"
   },
   {
    "duration": 235,
    "start_time": "2021-07-20T16:54:28.252Z"
   },
   {
    "duration": 220,
    "start_time": "2021-07-20T16:54:28.489Z"
   },
   {
    "duration": 8,
    "start_time": "2021-07-20T16:54:28.710Z"
   },
   {
    "duration": 152,
    "start_time": "2021-07-20T16:54:28.719Z"
   },
   {
    "duration": 97,
    "start_time": "2021-07-20T16:54:28.873Z"
   },
   {
    "duration": 281,
    "start_time": "2021-07-20T16:54:28.972Z"
   },
   {
    "duration": 18,
    "start_time": "2021-07-20T16:54:29.255Z"
   },
   {
    "duration": 13,
    "start_time": "2021-07-20T16:54:29.274Z"
   },
   {
    "duration": 9,
    "start_time": "2021-07-20T16:54:29.289Z"
   },
   {
    "duration": 395,
    "start_time": "2021-07-20T16:54:29.300Z"
   },
   {
    "duration": 457,
    "start_time": "2021-07-20T16:54:29.697Z"
   },
   {
    "duration": 5,
    "start_time": "2021-07-20T16:54:30.158Z"
   },
   {
    "duration": 14,
    "start_time": "2021-07-20T16:54:30.165Z"
   },
   {
    "duration": 2,
    "start_time": "2021-07-20T16:54:30.185Z"
   },
   {
    "duration": 18,
    "start_time": "2021-07-20T16:54:30.188Z"
   },
   {
    "duration": 239,
    "start_time": "2021-07-20T16:54:30.207Z"
   },
   {
    "duration": 40,
    "start_time": "2021-07-20T16:54:30.447Z"
   },
   {
    "duration": 358,
    "start_time": "2021-07-20T16:54:30.488Z"
   },
   {
    "duration": 3,
    "start_time": "2021-07-20T16:54:30.847Z"
   },
   {
    "duration": 19,
    "start_time": "2021-07-20T16:54:30.852Z"
   },
   {
    "duration": 11,
    "start_time": "2021-07-20T16:54:30.873Z"
   },
   {
    "duration": 17,
    "start_time": "2021-07-20T16:54:30.886Z"
   },
   {
    "duration": 9,
    "start_time": "2021-07-20T16:54:30.905Z"
   },
   {
    "duration": 24,
    "start_time": "2021-07-20T16:54:30.915Z"
   },
   {
    "duration": 291,
    "start_time": "2021-07-20T16:54:30.940Z"
   },
   {
    "duration": 1188,
    "start_time": "2021-07-20T16:54:31.232Z"
   },
   {
    "duration": 12,
    "start_time": "2021-07-20T16:54:32.422Z"
   },
   {
    "duration": 11,
    "start_time": "2021-07-20T16:54:32.435Z"
   },
   {
    "duration": 18,
    "start_time": "2021-07-20T16:54:32.448Z"
   },
   {
    "duration": 30,
    "start_time": "2021-07-20T16:54:32.468Z"
   },
   {
    "duration": 19,
    "start_time": "2021-07-20T16:54:32.500Z"
   },
   {
    "duration": 11,
    "start_time": "2021-07-20T16:54:32.521Z"
   },
   {
    "duration": 21,
    "start_time": "2021-07-20T16:54:32.533Z"
   },
   {
    "duration": 31,
    "start_time": "2021-07-20T16:54:32.556Z"
   },
   {
    "duration": 2,
    "start_time": "2021-07-20T16:54:32.588Z"
   },
   {
    "duration": 8,
    "start_time": "2021-07-20T16:54:32.592Z"
   },
   {
    "duration": 11,
    "start_time": "2021-07-20T16:54:32.602Z"
   },
   {
    "duration": 276,
    "start_time": "2021-07-20T16:54:32.615Z"
   },
   {
    "duration": 8,
    "start_time": "2021-07-20T16:54:32.893Z"
   },
   {
    "duration": 10,
    "start_time": "2021-07-20T16:54:32.902Z"
   },
   {
    "duration": 7,
    "start_time": "2021-07-20T16:54:32.914Z"
   },
   {
    "duration": 191,
    "start_time": "2021-07-20T16:54:32.923Z"
   },
   {
    "duration": 170,
    "start_time": "2021-07-20T16:54:33.116Z"
   },
   {
    "duration": 449,
    "start_time": "2021-07-20T16:54:33.288Z"
   },
   {
    "duration": 414,
    "start_time": "2021-07-20T16:54:33.739Z"
   },
   {
    "duration": 383,
    "start_time": "2021-07-20T16:54:34.155Z"
   },
   {
    "duration": 428,
    "start_time": "2021-07-20T16:54:34.540Z"
   },
   {
    "duration": 667,
    "start_time": "2021-07-20T16:54:34.969Z"
   },
   {
    "duration": 203,
    "start_time": "2021-07-20T16:55:38.905Z"
   },
   {
    "duration": 324,
    "start_time": "2021-07-20T16:56:05.946Z"
   }
  ],
  "kernelspec": {
   "display_name": "Python 3",
   "language": "python",
   "name": "python3"
  },
  "language_info": {
   "codemirror_mode": {
    "name": "ipython",
    "version": 3
   },
   "file_extension": ".py",
   "mimetype": "text/x-python",
   "name": "python",
   "nbconvert_exporter": "python",
   "pygments_lexer": "ipython3",
   "version": "3.7.8"
  },
  "toc": {
   "base_numbering": 1,
   "nav_menu": {},
   "number_sections": true,
   "sideBar": true,
   "skip_h1_title": true,
   "title_cell": "Table of Contents",
   "title_sidebar": "Contents",
   "toc_cell": false,
   "toc_position": {
    "height": "calc(100% - 180px)",
    "left": "10px",
    "top": "150px",
    "width": "249.95px"
   },
   "toc_section_display": true,
   "toc_window_display": true
  }
 },
 "nbformat": 4,
 "nbformat_minor": 2
}
