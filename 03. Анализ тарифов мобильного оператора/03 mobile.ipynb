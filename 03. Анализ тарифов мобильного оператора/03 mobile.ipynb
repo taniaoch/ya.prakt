{
 "cells": [
  {
   "cell_type": "markdown",
   "metadata": {},
   "source": [
    "# Определение перспективного тарифа для телеком компании"
   ]
  },
  {
   "cell_type": "markdown",
   "metadata": {},
   "source": [
    "<div class=\"alert alert-info\" style=\"border:solid blue 2px; padding: 20px\"> <b>Комментарий студента v. 1:</b> <br>\n",
    "30% Ультра, 69% Смарт и 1% - ноль. Я засомневалась, удалять их или нет. Потом хотела посмотреть, где именно они находятся, и не нашла. Посмотри, пожалуйста, начало пункта 4. И потом просто забила на них, ведь их мало."
   ]
  },
  {
   "cell_type": "markdown",
   "metadata": {},
   "source": [
    "<div class=\"alert alert-block alert-info\">\n",
    "Комментарий ревьюера v. 2:\n",
    "    \n",
    "Теперь поняла о чём речь. Скорее всего, это техническая ошибка или ошибка при заполнении данных. Лучше эти данные, так как их порядка 1 % удалить. Молодец, что обратила на это внимание.\n",
    "</div>"
   ]
  },
  {
   "cell_type": "markdown",
   "metadata": {},
   "source": [
    "\n",
    "## Описание проекта\n",
    "«Мегалайн» — федеральный оператор сотовой связи. Клиентам предлагают два тарифных плана: «Смарт» и «Ультра». Чтобы скорректировать рекламный бюджет, коммерческий департамент хочет понять, какой тариф приносит больше денег. <br>\n",
    "Нужно сделать предварительный анализ тарифов на небольшой выборке клиентов. В распоряжении данные 500 пользователей «Мегалайна»: кто они, откуда, каким тарифом пользуются, сколько звонков и сообщений каждый отправил за 2018 год. Нужно проанализировать поведение клиентов и сделать вывод — какой тариф лучше."
   ]
  },
  {
   "cell_type": "markdown",
   "metadata": {},
   "source": [
    "  <b>Описание тарифов</b>\n",
    "\n",
    "Тариф «Смарт» <br>\n",
    "1.\tЕжемесячная плата: 550 рублей <br>\n",
    "2.\tВключено 500 минут разговора, 50 сообщений и 15 Гб интернет-трафика <br>\n",
    "3.\tСтоимость услуг сверх тарифного пакета:<br>\n",
    "•\tминута разговора: 3 рубля<br>\n",
    "•\tсообщение: 3 рубля<br>\n",
    "•\t1 Гб интернет-трафика: 200 рублей<br>\n",
    "<br>\n",
    "\n",
    "Тариф «Ультра»<br>\n",
    "1.\tЕжемесячная плата: 1950 рублей<br>\n",
    "2.\tВключено 3000 минут разговора, 1000 сообщений и 30 Гб интернет-трафика<br>\n",
    "3.\tСтоимость услуг сверх тарифного пакета:<br> \n",
    "•\tминута разговора: 1 рубль<br>\n",
    "•\tсообщение: 1 рубль<br>\n",
    "•\t1 Гб интернет-трафика: 150 рублей"
   ]
  },
  {
   "cell_type": "markdown",
   "metadata": {},
   "source": [
    "## Обзор данных и их обработка"
   ]
  },
  {
   "cell_type": "code",
   "execution_count": 1,
   "metadata": {},
   "outputs": [],
   "source": [
    "import numpy as np\n",
    "import pandas as pd\n",
    "from scipy import stats as st\n",
    "from matplotlib import pyplot as plt\n",
    "import seaborn as sns\n",
    "import warnings\n",
    "warnings.filterwarnings('ignore') "
   ]
  },
  {
   "cell_type": "code",
   "execution_count": 2,
   "metadata": {},
   "outputs": [],
   "source": [
    "calls = pd.read_csv('/datasets/calls.csv')\n",
    "users = pd.read_csv('/datasets/users.csv')\n",
    "messages = pd.read_csv('/datasets/messages.csv')\n",
    "internet = pd.read_csv('/datasets/internet.csv')\n",
    "tariffs = pd.read_csv('/datasets/tariffs.csv')"
   ]
  },
  {
   "cell_type": "markdown",
   "metadata": {},
   "source": [
    "### О звонках"
   ]
  },
  {
   "cell_type": "code",
   "execution_count": 3,
   "metadata": {},
   "outputs": [
    {
     "name": "stdout",
     "output_type": "stream",
     "text": [
      "<class 'pandas.core.frame.DataFrame'>\n",
      "RangeIndex: 202607 entries, 0 to 202606\n",
      "Data columns (total 4 columns):\n",
      "id           202607 non-null object\n",
      "call_date    202607 non-null object\n",
      "duration     202607 non-null float64\n",
      "user_id      202607 non-null int64\n",
      "dtypes: float64(1), int64(1), object(2)\n",
      "memory usage: 6.2+ MB\n"
     ]
    },
    {
     "data": {
      "text/html": [
       "<div>\n",
       "<style scoped>\n",
       "    .dataframe tbody tr th:only-of-type {\n",
       "        vertical-align: middle;\n",
       "    }\n",
       "\n",
       "    .dataframe tbody tr th {\n",
       "        vertical-align: top;\n",
       "    }\n",
       "\n",
       "    .dataframe thead th {\n",
       "        text-align: right;\n",
       "    }\n",
       "</style>\n",
       "<table border=\"1\" class=\"dataframe\">\n",
       "  <thead>\n",
       "    <tr style=\"text-align: right;\">\n",
       "      <th></th>\n",
       "      <th>id</th>\n",
       "      <th>call_date</th>\n",
       "      <th>duration</th>\n",
       "      <th>user_id</th>\n",
       "    </tr>\n",
       "  </thead>\n",
       "  <tbody>\n",
       "    <tr>\n",
       "      <td>158741</td>\n",
       "      <td>1392_406</td>\n",
       "      <td>2018-07-09</td>\n",
       "      <td>4.94</td>\n",
       "      <td>1392</td>\n",
       "    </tr>\n",
       "    <tr>\n",
       "      <td>95947</td>\n",
       "      <td>1244_202</td>\n",
       "      <td>2018-11-09</td>\n",
       "      <td>0.00</td>\n",
       "      <td>1244</td>\n",
       "    </tr>\n",
       "    <tr>\n",
       "      <td>10624</td>\n",
       "      <td>1027_494</td>\n",
       "      <td>2018-10-07</td>\n",
       "      <td>3.10</td>\n",
       "      <td>1027</td>\n",
       "    </tr>\n",
       "    <tr>\n",
       "      <td>167423</td>\n",
       "      <td>1412_340</td>\n",
       "      <td>2018-09-25</td>\n",
       "      <td>5.91</td>\n",
       "      <td>1412</td>\n",
       "    </tr>\n",
       "    <tr>\n",
       "      <td>73194</td>\n",
       "      <td>1184_168</td>\n",
       "      <td>2018-09-03</td>\n",
       "      <td>9.86</td>\n",
       "      <td>1184</td>\n",
       "    </tr>\n",
       "    <tr>\n",
       "      <td>176140</td>\n",
       "      <td>1435_58</td>\n",
       "      <td>2018-12-21</td>\n",
       "      <td>2.31</td>\n",
       "      <td>1435</td>\n",
       "    </tr>\n",
       "    <tr>\n",
       "      <td>41601</td>\n",
       "      <td>1102_28</td>\n",
       "      <td>2018-09-21</td>\n",
       "      <td>2.44</td>\n",
       "      <td>1102</td>\n",
       "    </tr>\n",
       "  </tbody>\n",
       "</table>\n",
       "</div>"
      ],
      "text/plain": [
       "              id   call_date  duration  user_id\n",
       "158741  1392_406  2018-07-09      4.94     1392\n",
       "95947   1244_202  2018-11-09      0.00     1244\n",
       "10624   1027_494  2018-10-07      3.10     1027\n",
       "167423  1412_340  2018-09-25      5.91     1412\n",
       "73194   1184_168  2018-09-03      9.86     1184\n",
       "176140   1435_58  2018-12-21      2.31     1435\n",
       "41601    1102_28  2018-09-21      2.44     1102"
      ]
     },
     "execution_count": 3,
     "metadata": {},
     "output_type": "execute_result"
    }
   ],
   "source": [
    "calls.info()\n",
    "calls.sample(7, random_state=42)"
   ]
  },
  {
   "cell_type": "code",
   "execution_count": 4,
   "metadata": {},
   "outputs": [
    {
     "data": {
      "text/plain": [
       "0"
      ]
     },
     "execution_count": 4,
     "metadata": {},
     "output_type": "execute_result"
    }
   ],
   "source": [
    "calls.duplicated().sum()"
   ]
  },
  {
   "cell_type": "code",
   "execution_count": 5,
   "metadata": {},
   "outputs": [
    {
     "data": {
      "text/html": [
       "<div>\n",
       "<style scoped>\n",
       "    .dataframe tbody tr th:only-of-type {\n",
       "        vertical-align: middle;\n",
       "    }\n",
       "\n",
       "    .dataframe tbody tr th {\n",
       "        vertical-align: top;\n",
       "    }\n",
       "\n",
       "    .dataframe thead th {\n",
       "        text-align: right;\n",
       "    }\n",
       "</style>\n",
       "<table border=\"1\" class=\"dataframe\">\n",
       "  <thead>\n",
       "    <tr style=\"text-align: right;\">\n",
       "      <th></th>\n",
       "      <th>id</th>\n",
       "      <th>call_date</th>\n",
       "      <th>duration</th>\n",
       "      <th>user_id</th>\n",
       "    </tr>\n",
       "  </thead>\n",
       "  <tbody>\n",
       "    <tr>\n",
       "      <td>0</td>\n",
       "      <td>1000_0</td>\n",
       "      <td>2018-07-25</td>\n",
       "      <td>0.0</td>\n",
       "      <td>1000</td>\n",
       "    </tr>\n",
       "    <tr>\n",
       "      <td>1</td>\n",
       "      <td>1000_1</td>\n",
       "      <td>2018-08-17</td>\n",
       "      <td>0.0</td>\n",
       "      <td>1000</td>\n",
       "    </tr>\n",
       "    <tr>\n",
       "      <td>5</td>\n",
       "      <td>1000_5</td>\n",
       "      <td>2018-11-02</td>\n",
       "      <td>0.0</td>\n",
       "      <td>1000</td>\n",
       "    </tr>\n",
       "    <tr>\n",
       "      <td>6</td>\n",
       "      <td>1000_6</td>\n",
       "      <td>2018-10-18</td>\n",
       "      <td>0.0</td>\n",
       "      <td>1000</td>\n",
       "    </tr>\n",
       "    <tr>\n",
       "      <td>9</td>\n",
       "      <td>1000_9</td>\n",
       "      <td>2018-08-15</td>\n",
       "      <td>0.0</td>\n",
       "      <td>1000</td>\n",
       "    </tr>\n",
       "    <tr>\n",
       "      <td>...</td>\n",
       "      <td>...</td>\n",
       "      <td>...</td>\n",
       "      <td>...</td>\n",
       "      <td>...</td>\n",
       "    </tr>\n",
       "    <tr>\n",
       "      <td>202590</td>\n",
       "      <td>1499_203</td>\n",
       "      <td>2018-12-03</td>\n",
       "      <td>0.0</td>\n",
       "      <td>1499</td>\n",
       "    </tr>\n",
       "    <tr>\n",
       "      <td>202592</td>\n",
       "      <td>1499_205</td>\n",
       "      <td>2018-10-13</td>\n",
       "      <td>0.0</td>\n",
       "      <td>1499</td>\n",
       "    </tr>\n",
       "    <tr>\n",
       "      <td>202593</td>\n",
       "      <td>1499_206</td>\n",
       "      <td>2018-12-26</td>\n",
       "      <td>0.0</td>\n",
       "      <td>1499</td>\n",
       "    </tr>\n",
       "    <tr>\n",
       "      <td>202594</td>\n",
       "      <td>1499_207</td>\n",
       "      <td>2018-10-28</td>\n",
       "      <td>0.0</td>\n",
       "      <td>1499</td>\n",
       "    </tr>\n",
       "    <tr>\n",
       "      <td>202596</td>\n",
       "      <td>1499_209</td>\n",
       "      <td>2018-12-16</td>\n",
       "      <td>0.0</td>\n",
       "      <td>1499</td>\n",
       "    </tr>\n",
       "  </tbody>\n",
       "</table>\n",
       "<p>39613 rows × 4 columns</p>\n",
       "</div>"
      ],
      "text/plain": [
       "              id   call_date  duration  user_id\n",
       "0         1000_0  2018-07-25       0.0     1000\n",
       "1         1000_1  2018-08-17       0.0     1000\n",
       "5         1000_5  2018-11-02       0.0     1000\n",
       "6         1000_6  2018-10-18       0.0     1000\n",
       "9         1000_9  2018-08-15       0.0     1000\n",
       "...          ...         ...       ...      ...\n",
       "202590  1499_203  2018-12-03       0.0     1499\n",
       "202592  1499_205  2018-10-13       0.0     1499\n",
       "202593  1499_206  2018-12-26       0.0     1499\n",
       "202594  1499_207  2018-10-28       0.0     1499\n",
       "202596  1499_209  2018-12-16       0.0     1499\n",
       "\n",
       "[39613 rows x 4 columns]"
      ]
     },
     "execution_count": 5,
     "metadata": {},
     "output_type": "execute_result"
    }
   ],
   "source": [
    "calls.query('duration == 0.00')"
   ]
  },
  {
   "cell_type": "code",
   "execution_count": 6,
   "metadata": {},
   "outputs": [
    {
     "data": {
      "image/png": "[encoded data removed]",
      "text/plain": [
       "<Figure size 432x288 with 1 Axes>"
      ]
     },
     "metadata": {
      "needs_background": "light"
     },
     "output_type": "display_data"
    }
   ],
   "source": [
    "plt.title('длительность звонка в минутах')\n",
    "plt.xlabel('мин')\n",
    "calls['duration'].hist(bins=50, alpha=0.5)\n",
    "plt.show()"
   ]
  },
  {
   "cell_type": "markdown",
   "metadata": {},
   "source": [
    "На графике видно, что разговор обычно длится 1-15 мин, более 20 мин значения редки. Также увидели пик в 0 минут, решили удалить. "
   ]
  },
  {
   "cell_type": "markdown",
   "metadata": {},
   "source": [
    "Пропусков нет. Дубликатов нет. Тип данных call_date нужно заменить на datetime. <br> В задании сказано, что оператор очень жадный и округляет звонки в 1 секунду до 1 минуты. И 3 мин 1 сек = 4 мин. Значит, можно округлить все значения до минут. <br> И удалить почти 40 тысяч нолей - 20% всего дф? Ведь мы должны рассчитать выручку, а из ноликов её не получишь... Удаляем! Можно предположить, что сюда вошли потери связи со стороны оператора/устройства или же случился недозвон (занято, не берет трубку). Смотрим гисто"
   ]
  },
  {
   "cell_type": "code",
   "execution_count": 7,
   "metadata": {},
   "outputs": [
    {
     "data": {
      "text/html": [
       "<div>\n",
       "<style scoped>\n",
       "    .dataframe tbody tr th:only-of-type {\n",
       "        vertical-align: middle;\n",
       "    }\n",
       "\n",
       "    .dataframe tbody tr th {\n",
       "        vertical-align: top;\n",
       "    }\n",
       "\n",
       "    .dataframe thead th {\n",
       "        text-align: right;\n",
       "    }\n",
       "</style>\n",
       "<table border=\"1\" class=\"dataframe\">\n",
       "  <thead>\n",
       "    <tr style=\"text-align: right;\">\n",
       "      <th></th>\n",
       "      <th>id</th>\n",
       "      <th>call_date</th>\n",
       "      <th>duration</th>\n",
       "      <th>user_id</th>\n",
       "    </tr>\n",
       "  </thead>\n",
       "  <tbody>\n",
       "    <tr>\n",
       "      <td>158741</td>\n",
       "      <td>1392_406</td>\n",
       "      <td>2018-07-09</td>\n",
       "      <td>5</td>\n",
       "      <td>1392</td>\n",
       "    </tr>\n",
       "    <tr>\n",
       "      <td>95947</td>\n",
       "      <td>1244_202</td>\n",
       "      <td>2018-11-09</td>\n",
       "      <td>0</td>\n",
       "      <td>1244</td>\n",
       "    </tr>\n",
       "    <tr>\n",
       "      <td>10624</td>\n",
       "      <td>1027_494</td>\n",
       "      <td>2018-10-07</td>\n",
       "      <td>4</td>\n",
       "      <td>1027</td>\n",
       "    </tr>\n",
       "    <tr>\n",
       "      <td>167423</td>\n",
       "      <td>1412_340</td>\n",
       "      <td>2018-09-25</td>\n",
       "      <td>6</td>\n",
       "      <td>1412</td>\n",
       "    </tr>\n",
       "    <tr>\n",
       "      <td>73194</td>\n",
       "      <td>1184_168</td>\n",
       "      <td>2018-09-03</td>\n",
       "      <td>10</td>\n",
       "      <td>1184</td>\n",
       "    </tr>\n",
       "    <tr>\n",
       "      <td>176140</td>\n",
       "      <td>1435_58</td>\n",
       "      <td>2018-12-21</td>\n",
       "      <td>3</td>\n",
       "      <td>1435</td>\n",
       "    </tr>\n",
       "    <tr>\n",
       "      <td>41601</td>\n",
       "      <td>1102_28</td>\n",
       "      <td>2018-09-21</td>\n",
       "      <td>3</td>\n",
       "      <td>1102</td>\n",
       "    </tr>\n",
       "  </tbody>\n",
       "</table>\n",
       "</div>"
      ],
      "text/plain": [
       "              id   call_date  duration  user_id\n",
       "158741  1392_406  2018-07-09         5     1392\n",
       "95947   1244_202  2018-11-09         0     1244\n",
       "10624   1027_494  2018-10-07         4     1027\n",
       "167423  1412_340  2018-09-25         6     1412\n",
       "73194   1184_168  2018-09-03        10     1184\n",
       "176140   1435_58  2018-12-21         3     1435\n",
       "41601    1102_28  2018-09-21         3     1102"
      ]
     },
     "execution_count": 7,
     "metadata": {},
     "output_type": "execute_result"
    }
   ],
   "source": [
    "calls['duration'] = calls['duration'].apply(np.ceil).astype(int)\n",
    "calls.sample(7, random_state=42)"
   ]
  },
  {
   "cell_type": "code",
   "execution_count": 8,
   "metadata": {},
   "outputs": [
    {
     "data": {
      "image/png": "[encoded data removed]",
      "text/plain": [
       "<Figure size 576x288 with 1 Axes>"
      ]
     },
     "metadata": {
      "needs_background": "light"
     },
     "output_type": "display_data"
    }
   ],
   "source": [
    "calls['duration'] = calls['duration'].replace(0, np.nan)\n",
    "calls = calls.dropna()\n",
    "calls['duration'].hist(bins=70, alpha=0.5, figsize=(8,4))\n",
    "plt.title('длительность звонка в минутах')\n",
    "plt.axvline(calls['duration'].median(), c='orange')\n",
    "plt.axvline(calls['duration'].mean(), c='green')\n",
    "plt.xlabel('мин')\n",
    "plt.show()"
   ]
  },
  {
   "cell_type": "code",
   "execution_count": 9,
   "metadata": {},
   "outputs": [
    {
     "data": {
      "text/plain": [
       "Text(0.5, 0, 'мин')"
      ]
     },
     "execution_count": 9,
     "metadata": {},
     "output_type": "execute_result"
    },
    {
     "data": {
      "image/png": "[encoded data removed]",
      "text/plain": [
       "<Figure size 432x288 with 1 Axes>"
      ]
     },
     "metadata": {
      "needs_background": "light"
     },
     "output_type": "display_data"
    }
   ],
   "source": [
    "ax = sns.boxplot(x=calls['duration'])\n",
    "plt.title('длительность звонка в минутах')\n",
    "plt.xlabel('мин')"
   ]
  },
  {
   "cell_type": "markdown",
   "metadata": {},
   "source": [
    "Смотрим на гистограмму после удаления нолей. Показали медиану - 8 мин, это длительность разговора в среднем. <br>\n",
    "    \n",
    "Распределение скошено направо: медиана 8 меньше среднего 9. Значит, самая высокая повторяемость значений находится слева от среднего. Выбросы сверх 22 минут."
   ]
  },
  {
   "cell_type": "markdown",
   "metadata": {},
   "source": [
    "### О пользователях"
   ]
  },
  {
   "cell_type": "code",
   "execution_count": 10,
   "metadata": {},
   "outputs": [
    {
     "name": "stdout",
     "output_type": "stream",
     "text": [
      "<class 'pandas.core.frame.DataFrame'>\n",
      "RangeIndex: 500 entries, 0 to 499\n",
      "Data columns (total 8 columns):\n",
      "user_id       500 non-null int64\n",
      "age           500 non-null int64\n",
      "churn_date    38 non-null object\n",
      "city          500 non-null object\n",
      "first_name    500 non-null object\n",
      "last_name     500 non-null object\n",
      "reg_date      500 non-null object\n",
      "tariff        500 non-null object\n",
      "dtypes: int64(2), object(6)\n",
      "memory usage: 31.4+ KB\n"
     ]
    },
    {
     "data": {
      "text/html": [
       "<div>\n",
       "<style scoped>\n",
       "    .dataframe tbody tr th:only-of-type {\n",
       "        vertical-align: middle;\n",
       "    }\n",
       "\n",
       "    .dataframe tbody tr th {\n",
       "        vertical-align: top;\n",
       "    }\n",
       "\n",
       "    .dataframe thead th {\n",
       "        text-align: right;\n",
       "    }\n",
       "</style>\n",
       "<table border=\"1\" class=\"dataframe\">\n",
       "  <thead>\n",
       "    <tr style=\"text-align: right;\">\n",
       "      <th></th>\n",
       "      <th>user_id</th>\n",
       "      <th>age</th>\n",
       "      <th>churn_date</th>\n",
       "      <th>city</th>\n",
       "      <th>first_name</th>\n",
       "      <th>last_name</th>\n",
       "      <th>reg_date</th>\n",
       "      <th>tariff</th>\n",
       "    </tr>\n",
       "  </thead>\n",
       "  <tbody>\n",
       "    <tr>\n",
       "      <td>361</td>\n",
       "      <td>1361</td>\n",
       "      <td>38</td>\n",
       "      <td>NaN</td>\n",
       "      <td>Екатеринбург</td>\n",
       "      <td>Рената</td>\n",
       "      <td>Кошелева</td>\n",
       "      <td>2018-09-09</td>\n",
       "      <td>ultra</td>\n",
       "    </tr>\n",
       "    <tr>\n",
       "      <td>73</td>\n",
       "      <td>1073</td>\n",
       "      <td>63</td>\n",
       "      <td>NaN</td>\n",
       "      <td>Владикавказ</td>\n",
       "      <td>Гордей</td>\n",
       "      <td>Павловский</td>\n",
       "      <td>2018-10-04</td>\n",
       "      <td>smart</td>\n",
       "    </tr>\n",
       "    <tr>\n",
       "      <td>374</td>\n",
       "      <td>1374</td>\n",
       "      <td>67</td>\n",
       "      <td>NaN</td>\n",
       "      <td>Махачкала</td>\n",
       "      <td>Леонид</td>\n",
       "      <td>Аркадьев</td>\n",
       "      <td>2018-04-01</td>\n",
       "      <td>smart</td>\n",
       "    </tr>\n",
       "    <tr>\n",
       "      <td>155</td>\n",
       "      <td>1155</td>\n",
       "      <td>71</td>\n",
       "      <td>NaN</td>\n",
       "      <td>Ставрополь</td>\n",
       "      <td>Александр</td>\n",
       "      <td>Чернов</td>\n",
       "      <td>2018-01-02</td>\n",
       "      <td>smart</td>\n",
       "    </tr>\n",
       "    <tr>\n",
       "      <td>104</td>\n",
       "      <td>1104</td>\n",
       "      <td>60</td>\n",
       "      <td>NaN</td>\n",
       "      <td>Нижний Тагил</td>\n",
       "      <td>Габриэль</td>\n",
       "      <td>Поляков</td>\n",
       "      <td>2018-02-21</td>\n",
       "      <td>ultra</td>\n",
       "    </tr>\n",
       "    <tr>\n",
       "      <td>394</td>\n",
       "      <td>1394</td>\n",
       "      <td>47</td>\n",
       "      <td>NaN</td>\n",
       "      <td>Орёл</td>\n",
       "      <td>Ксения</td>\n",
       "      <td>Жукова</td>\n",
       "      <td>2018-01-12</td>\n",
       "      <td>smart</td>\n",
       "    </tr>\n",
       "    <tr>\n",
       "      <td>377</td>\n",
       "      <td>1377</td>\n",
       "      <td>59</td>\n",
       "      <td>NaN</td>\n",
       "      <td>Брянск</td>\n",
       "      <td>Альфред</td>\n",
       "      <td>Семин</td>\n",
       "      <td>2018-02-25</td>\n",
       "      <td>ultra</td>\n",
       "    </tr>\n",
       "  </tbody>\n",
       "</table>\n",
       "</div>"
      ],
      "text/plain": [
       "     user_id  age churn_date          city first_name   last_name    reg_date  \\\n",
       "361     1361   38        NaN  Екатеринбург     Рената    Кошелева  2018-09-09   \n",
       "73      1073   63        NaN   Владикавказ     Гордей  Павловский  2018-10-04   \n",
       "374     1374   67        NaN     Махачкала     Леонид    Аркадьев  2018-04-01   \n",
       "155     1155   71        NaN    Ставрополь  Александр      Чернов  2018-01-02   \n",
       "104     1104   60        NaN  Нижний Тагил   Габриэль     Поляков  2018-02-21   \n",
       "394     1394   47        NaN          Орёл     Ксения      Жукова  2018-01-12   \n",
       "377     1377   59        NaN        Брянск    Альфред       Семин  2018-02-25   \n",
       "\n",
       "    tariff  \n",
       "361  ultra  \n",
       "73   smart  \n",
       "374  smart  \n",
       "155  smart  \n",
       "104  ultra  \n",
       "394  smart  \n",
       "377  ultra  "
      ]
     },
     "execution_count": 10,
     "metadata": {},
     "output_type": "execute_result"
    }
   ],
   "source": [
    "users.info()\n",
    "users.sample(7, random_state=42)"
   ]
  },
  {
   "cell_type": "code",
   "execution_count": 11,
   "metadata": {},
   "outputs": [
    {
     "data": {
      "text/plain": [
       "0"
      ]
     },
     "execution_count": 11,
     "metadata": {},
     "output_type": "execute_result"
    }
   ],
   "source": [
    "users.duplicated().sum()"
   ]
  },
  {
   "cell_type": "code",
   "execution_count": 12,
   "metadata": {},
   "outputs": [
    {
     "data": {
      "text/plain": [
       "500"
      ]
     },
     "execution_count": 12,
     "metadata": {},
     "output_type": "execute_result"
    }
   ],
   "source": [
    "users['user_id'].count()"
   ]
  },
  {
   "cell_type": "markdown",
   "metadata": {},
   "source": [
    "Дублей нет. Много пропусков в churn_date. В задании сказано, что это \"дата прекращения пользования тарифом (если значение пропущено, то тариф ещё действовал на момент выгрузки данных)\". Поэтому не будем трогать. <br> Тип данных reg_date нужно заменить на datetime."
   ]
  },
  {
   "cell_type": "markdown",
   "metadata": {},
   "source": [
    "### О сообщениях"
   ]
  },
  {
   "cell_type": "code",
   "execution_count": 13,
   "metadata": {},
   "outputs": [
    {
     "name": "stdout",
     "output_type": "stream",
     "text": [
      "<class 'pandas.core.frame.DataFrame'>\n",
      "RangeIndex: 123036 entries, 0 to 123035\n",
      "Data columns (total 3 columns):\n",
      "id              123036 non-null object\n",
      "message_date    123036 non-null object\n",
      "user_id         123036 non-null int64\n",
      "dtypes: int64(1), object(2)\n",
      "memory usage: 2.8+ MB\n"
     ]
    },
    {
     "data": {
      "text/html": [
       "<div>\n",
       "<style scoped>\n",
       "    .dataframe tbody tr th:only-of-type {\n",
       "        vertical-align: middle;\n",
       "    }\n",
       "\n",
       "    .dataframe tbody tr th {\n",
       "        vertical-align: top;\n",
       "    }\n",
       "\n",
       "    .dataframe thead th {\n",
       "        text-align: right;\n",
       "    }\n",
       "</style>\n",
       "<table border=\"1\" class=\"dataframe\">\n",
       "  <thead>\n",
       "    <tr style=\"text-align: right;\">\n",
       "      <th></th>\n",
       "      <th>id</th>\n",
       "      <th>message_date</th>\n",
       "      <th>user_id</th>\n",
       "    </tr>\n",
       "  </thead>\n",
       "  <tbody>\n",
       "    <tr>\n",
       "      <td>8581</td>\n",
       "      <td>1033_332</td>\n",
       "      <td>2018-11-08</td>\n",
       "      <td>1033</td>\n",
       "    </tr>\n",
       "    <tr>\n",
       "      <td>12476</td>\n",
       "      <td>1054_32</td>\n",
       "      <td>2018-08-10</td>\n",
       "      <td>1054</td>\n",
       "    </tr>\n",
       "    <tr>\n",
       "      <td>14805</td>\n",
       "      <td>1065_141</td>\n",
       "      <td>2018-05-29</td>\n",
       "      <td>1065</td>\n",
       "    </tr>\n",
       "    <tr>\n",
       "      <td>118278</td>\n",
       "      <td>1481_49</td>\n",
       "      <td>2018-05-24</td>\n",
       "      <td>1481</td>\n",
       "    </tr>\n",
       "    <tr>\n",
       "      <td>23803</td>\n",
       "      <td>1099_10</td>\n",
       "      <td>2018-08-24</td>\n",
       "      <td>1099</td>\n",
       "    </tr>\n",
       "    <tr>\n",
       "      <td>93256</td>\n",
       "      <td>1383_7</td>\n",
       "      <td>2018-11-04</td>\n",
       "      <td>1383</td>\n",
       "    </tr>\n",
       "    <tr>\n",
       "      <td>81126</td>\n",
       "      <td>1340_100</td>\n",
       "      <td>2018-07-01</td>\n",
       "      <td>1340</td>\n",
       "    </tr>\n",
       "  </tbody>\n",
       "</table>\n",
       "</div>"
      ],
      "text/plain": [
       "              id message_date  user_id\n",
       "8581    1033_332   2018-11-08     1033\n",
       "12476    1054_32   2018-08-10     1054\n",
       "14805   1065_141   2018-05-29     1065\n",
       "118278   1481_49   2018-05-24     1481\n",
       "23803    1099_10   2018-08-24     1099\n",
       "93256     1383_7   2018-11-04     1383\n",
       "81126   1340_100   2018-07-01     1340"
      ]
     },
     "execution_count": 13,
     "metadata": {},
     "output_type": "execute_result"
    }
   ],
   "source": [
    "messages.info()\n",
    "messages.sample(7, random_state=42)"
   ]
  },
  {
   "cell_type": "code",
   "execution_count": 14,
   "metadata": {},
   "outputs": [
    {
     "data": {
      "text/plain": [
       "0"
      ]
     },
     "execution_count": 14,
     "metadata": {},
     "output_type": "execute_result"
    }
   ],
   "source": [
    "messages.duplicated().sum()"
   ]
  },
  {
   "cell_type": "markdown",
   "metadata": {},
   "source": [
    "Пропусков и дубликатов нет. Тип данных message_date нужно заменить на datetime."
   ]
  },
  {
   "cell_type": "markdown",
   "metadata": {},
   "source": [
    "### Об интернет-сессиях"
   ]
  },
  {
   "cell_type": "code",
   "execution_count": 15,
   "metadata": {},
   "outputs": [
    {
     "name": "stdout",
     "output_type": "stream",
     "text": [
      "<class 'pandas.core.frame.DataFrame'>\n",
      "RangeIndex: 149396 entries, 0 to 149395\n",
      "Data columns (total 5 columns):\n",
      "Unnamed: 0      149396 non-null int64\n",
      "id              149396 non-null object\n",
      "mb_used         149396 non-null float64\n",
      "session_date    149396 non-null object\n",
      "user_id         149396 non-null int64\n",
      "dtypes: float64(1), int64(2), object(2)\n",
      "memory usage: 5.7+ MB\n"
     ]
    },
    {
     "data": {
      "text/html": [
       "<div>\n",
       "<style scoped>\n",
       "    .dataframe tbody tr th:only-of-type {\n",
       "        vertical-align: middle;\n",
       "    }\n",
       "\n",
       "    .dataframe tbody tr th {\n",
       "        vertical-align: top;\n",
       "    }\n",
       "\n",
       "    .dataframe thead th {\n",
       "        text-align: right;\n",
       "    }\n",
       "</style>\n",
       "<table border=\"1\" class=\"dataframe\">\n",
       "  <thead>\n",
       "    <tr style=\"text-align: right;\">\n",
       "      <th></th>\n",
       "      <th>Unnamed: 0</th>\n",
       "      <th>id</th>\n",
       "      <th>mb_used</th>\n",
       "      <th>session_date</th>\n",
       "      <th>user_id</th>\n",
       "    </tr>\n",
       "  </thead>\n",
       "  <tbody>\n",
       "    <tr>\n",
       "      <td>0</td>\n",
       "      <td>0</td>\n",
       "      <td>1000_0</td>\n",
       "      <td>112.95</td>\n",
       "      <td>2018-11-25</td>\n",
       "      <td>1000</td>\n",
       "    </tr>\n",
       "    <tr>\n",
       "      <td>1</td>\n",
       "      <td>1</td>\n",
       "      <td>1000_1</td>\n",
       "      <td>1052.81</td>\n",
       "      <td>2018-09-07</td>\n",
       "      <td>1000</td>\n",
       "    </tr>\n",
       "    <tr>\n",
       "      <td>2</td>\n",
       "      <td>2</td>\n",
       "      <td>1000_2</td>\n",
       "      <td>1197.26</td>\n",
       "      <td>2018-06-25</td>\n",
       "      <td>1000</td>\n",
       "    </tr>\n",
       "    <tr>\n",
       "      <td>3</td>\n",
       "      <td>3</td>\n",
       "      <td>1000_3</td>\n",
       "      <td>550.27</td>\n",
       "      <td>2018-08-22</td>\n",
       "      <td>1000</td>\n",
       "    </tr>\n",
       "    <tr>\n",
       "      <td>4</td>\n",
       "      <td>4</td>\n",
       "      <td>1000_4</td>\n",
       "      <td>302.56</td>\n",
       "      <td>2018-09-24</td>\n",
       "      <td>1000</td>\n",
       "    </tr>\n",
       "  </tbody>\n",
       "</table>\n",
       "</div>"
      ],
      "text/plain": [
       "   Unnamed: 0      id  mb_used session_date  user_id\n",
       "0           0  1000_0   112.95   2018-11-25     1000\n",
       "1           1  1000_1  1052.81   2018-09-07     1000\n",
       "2           2  1000_2  1197.26   2018-06-25     1000\n",
       "3           3  1000_3   550.27   2018-08-22     1000\n",
       "4           4  1000_4   302.56   2018-09-24     1000"
      ]
     },
     "execution_count": 15,
     "metadata": {},
     "output_type": "execute_result"
    }
   ],
   "source": [
    "internet.info()\n",
    "internet.head()"
   ]
  },
  {
   "cell_type": "code",
   "execution_count": 16,
   "metadata": {},
   "outputs": [
    {
     "data": {
      "text/plain": [
       "0"
      ]
     },
     "execution_count": 16,
     "metadata": {},
     "output_type": "execute_result"
    }
   ],
   "source": [
    "internet.duplicated().sum()"
   ]
  },
  {
   "cell_type": "markdown",
   "metadata": {},
   "source": [
    "Пропусков и дубликатов нет. Тип данных session_date нужно заменить на datetime. <br> \n",
    "В задании сказано, что оператор также округляет вверх значения мегабайтов. Можно округлить и изменить тип данных. <br> \n",
    "Далее может быть нужен столбец трафика в гигабайтах, т.к. тариф указан за гб."
   ]
  },
  {
   "cell_type": "code",
   "execution_count": 17,
   "metadata": {},
   "outputs": [
    {
     "data": {
      "text/html": [
       "<div>\n",
       "<style scoped>\n",
       "    .dataframe tbody tr th:only-of-type {\n",
       "        vertical-align: middle;\n",
       "    }\n",
       "\n",
       "    .dataframe tbody tr th {\n",
       "        vertical-align: top;\n",
       "    }\n",
       "\n",
       "    .dataframe thead th {\n",
       "        text-align: right;\n",
       "    }\n",
       "</style>\n",
       "<table border=\"1\" class=\"dataframe\">\n",
       "  <thead>\n",
       "    <tr style=\"text-align: right;\">\n",
       "      <th></th>\n",
       "      <th>Unnamed: 0</th>\n",
       "      <th>id</th>\n",
       "      <th>mb_used</th>\n",
       "      <th>session_date</th>\n",
       "      <th>user_id</th>\n",
       "    </tr>\n",
       "  </thead>\n",
       "  <tbody>\n",
       "    <tr>\n",
       "      <td>0</td>\n",
       "      <td>0</td>\n",
       "      <td>1000_0</td>\n",
       "      <td>113</td>\n",
       "      <td>2018-11-25</td>\n",
       "      <td>1000</td>\n",
       "    </tr>\n",
       "    <tr>\n",
       "      <td>1</td>\n",
       "      <td>1</td>\n",
       "      <td>1000_1</td>\n",
       "      <td>1053</td>\n",
       "      <td>2018-09-07</td>\n",
       "      <td>1000</td>\n",
       "    </tr>\n",
       "    <tr>\n",
       "      <td>2</td>\n",
       "      <td>2</td>\n",
       "      <td>1000_2</td>\n",
       "      <td>1198</td>\n",
       "      <td>2018-06-25</td>\n",
       "      <td>1000</td>\n",
       "    </tr>\n",
       "    <tr>\n",
       "      <td>3</td>\n",
       "      <td>3</td>\n",
       "      <td>1000_3</td>\n",
       "      <td>551</td>\n",
       "      <td>2018-08-22</td>\n",
       "      <td>1000</td>\n",
       "    </tr>\n",
       "    <tr>\n",
       "      <td>4</td>\n",
       "      <td>4</td>\n",
       "      <td>1000_4</td>\n",
       "      <td>303</td>\n",
       "      <td>2018-09-24</td>\n",
       "      <td>1000</td>\n",
       "    </tr>\n",
       "  </tbody>\n",
       "</table>\n",
       "</div>"
      ],
      "text/plain": [
       "   Unnamed: 0      id  mb_used session_date  user_id\n",
       "0           0  1000_0      113   2018-11-25     1000\n",
       "1           1  1000_1     1053   2018-09-07     1000\n",
       "2           2  1000_2     1198   2018-06-25     1000\n",
       "3           3  1000_3      551   2018-08-22     1000\n",
       "4           4  1000_4      303   2018-09-24     1000"
      ]
     },
     "execution_count": 17,
     "metadata": {},
     "output_type": "execute_result"
    }
   ],
   "source": [
    "internet['mb_used'] = internet['mb_used'].apply(np.ceil).astype(int)\n",
    "internet.head()"
   ]
  },
  {
   "cell_type": "code",
   "execution_count": 18,
   "metadata": {},
   "outputs": [
    {
     "data": {
      "text/html": [
       "<div>\n",
       "<style scoped>\n",
       "    .dataframe tbody tr th:only-of-type {\n",
       "        vertical-align: middle;\n",
       "    }\n",
       "\n",
       "    .dataframe tbody tr th {\n",
       "        vertical-align: top;\n",
       "    }\n",
       "\n",
       "    .dataframe thead th {\n",
       "        text-align: right;\n",
       "    }\n",
       "</style>\n",
       "<table border=\"1\" class=\"dataframe\">\n",
       "  <thead>\n",
       "    <tr style=\"text-align: right;\">\n",
       "      <th></th>\n",
       "      <th>Unnamed: 0</th>\n",
       "      <th>id</th>\n",
       "      <th>mb_used</th>\n",
       "      <th>session_date</th>\n",
       "      <th>user_id</th>\n",
       "    </tr>\n",
       "  </thead>\n",
       "  <tbody>\n",
       "    <tr>\n",
       "      <td>11</td>\n",
       "      <td>11</td>\n",
       "      <td>1000_11</td>\n",
       "      <td>0</td>\n",
       "      <td>2018-08-28</td>\n",
       "      <td>1000</td>\n",
       "    </tr>\n",
       "    <tr>\n",
       "      <td>38</td>\n",
       "      <td>38</td>\n",
       "      <td>1000_38</td>\n",
       "      <td>0</td>\n",
       "      <td>2018-11-27</td>\n",
       "      <td>1000</td>\n",
       "    </tr>\n",
       "    <tr>\n",
       "      <td>46</td>\n",
       "      <td>46</td>\n",
       "      <td>1000_46</td>\n",
       "      <td>0</td>\n",
       "      <td>2018-06-30</td>\n",
       "      <td>1000</td>\n",
       "    </tr>\n",
       "    <tr>\n",
       "      <td>67</td>\n",
       "      <td>67</td>\n",
       "      <td>1000_67</td>\n",
       "      <td>0</td>\n",
       "      <td>2018-06-16</td>\n",
       "      <td>1000</td>\n",
       "    </tr>\n",
       "    <tr>\n",
       "      <td>72</td>\n",
       "      <td>72</td>\n",
       "      <td>1000_72</td>\n",
       "      <td>0</td>\n",
       "      <td>2018-06-15</td>\n",
       "      <td>1000</td>\n",
       "    </tr>\n",
       "    <tr>\n",
       "      <td>...</td>\n",
       "      <td>...</td>\n",
       "      <td>...</td>\n",
       "      <td>...</td>\n",
       "      <td>...</td>\n",
       "      <td>...</td>\n",
       "    </tr>\n",
       "    <tr>\n",
       "      <td>149380</td>\n",
       "      <td>149380</td>\n",
       "      <td>1499_141</td>\n",
       "      <td>0</td>\n",
       "      <td>2018-12-11</td>\n",
       "      <td>1499</td>\n",
       "    </tr>\n",
       "    <tr>\n",
       "      <td>149381</td>\n",
       "      <td>149381</td>\n",
       "      <td>1499_142</td>\n",
       "      <td>0</td>\n",
       "      <td>2018-11-01</td>\n",
       "      <td>1499</td>\n",
       "    </tr>\n",
       "    <tr>\n",
       "      <td>149383</td>\n",
       "      <td>149383</td>\n",
       "      <td>1499_144</td>\n",
       "      <td>0</td>\n",
       "      <td>2018-11-27</td>\n",
       "      <td>1499</td>\n",
       "    </tr>\n",
       "    <tr>\n",
       "      <td>149386</td>\n",
       "      <td>149386</td>\n",
       "      <td>1499_147</td>\n",
       "      <td>0</td>\n",
       "      <td>2018-10-21</td>\n",
       "      <td>1499</td>\n",
       "    </tr>\n",
       "    <tr>\n",
       "      <td>149393</td>\n",
       "      <td>149393</td>\n",
       "      <td>1499_154</td>\n",
       "      <td>0</td>\n",
       "      <td>2018-10-27</td>\n",
       "      <td>1499</td>\n",
       "    </tr>\n",
       "  </tbody>\n",
       "</table>\n",
       "<p>19598 rows × 5 columns</p>\n",
       "</div>"
      ],
      "text/plain": [
       "        Unnamed: 0        id  mb_used session_date  user_id\n",
       "11              11   1000_11        0   2018-08-28     1000\n",
       "38              38   1000_38        0   2018-11-27     1000\n",
       "46              46   1000_46        0   2018-06-30     1000\n",
       "67              67   1000_67        0   2018-06-16     1000\n",
       "72              72   1000_72        0   2018-06-15     1000\n",
       "...            ...       ...      ...          ...      ...\n",
       "149380      149380  1499_141        0   2018-12-11     1499\n",
       "149381      149381  1499_142        0   2018-11-01     1499\n",
       "149383      149383  1499_144        0   2018-11-27     1499\n",
       "149386      149386  1499_147        0   2018-10-21     1499\n",
       "149393      149393  1499_154        0   2018-10-27     1499\n",
       "\n",
       "[19598 rows x 5 columns]"
      ]
     },
     "execution_count": 18,
     "metadata": {},
     "output_type": "execute_result"
    }
   ],
   "source": [
    "internet.query('mb_used < 0.01')"
   ]
  },
  {
   "cell_type": "code",
   "execution_count": 19,
   "metadata": {
    "scrolled": true
   },
   "outputs": [
    {
     "data": {
      "image/png": "[encoded data removed]",
      "text/plain": [
       "<Figure size 432x288 with 1 Axes>"
      ]
     },
     "metadata": {
      "needs_background": "light"
     },
     "output_type": "display_data"
    }
   ],
   "source": [
    "internet['mb_used'].hist(bins=100, alpha=0.5)\n",
    "plt.title('объём трафика за сессию в мегабайтах')\n",
    "plt.xlabel('мб')\n",
    "plt.show()"
   ]
  },
  {
   "cell_type": "markdown",
   "metadata": {},
   "source": [
    "Видим, что 10% дф с нулевым значением мегабайтов. Удаляем, как и 0 минут."
   ]
  },
  {
   "cell_type": "markdown",
   "metadata": {},
   "source": [
    "Нулевые значения в использовании интернет трафика: Также как и с разговорами в 0 минут, можно предположить, что нулевой трафик связан с некачественным соединением со стороны оператора или устройства. Попытка входа регистрируется, а трафика нет?"
   ]
  },
  {
   "cell_type": "code",
   "execution_count": 20,
   "metadata": {},
   "outputs": [
    {
     "data": {
      "image/png": "[encoded data removed]",
      "text/plain": [
       "<Figure size 576x288 with 1 Axes>"
      ]
     },
     "metadata": {
      "needs_background": "light"
     },
     "output_type": "display_data"
    }
   ],
   "source": [
    "internet['mb_used'] = internet['mb_used'].replace(0, np.nan)\n",
    "internet = internet.dropna()\n",
    "internet['mb_used'].hist(bins=100, alpha=0.5, figsize=(8,4))\n",
    "plt.axvline(internet['mb_used'].median(), c='orange')\n",
    "plt.axvline(internet['mb_used'].mean(), c='green') \n",
    "plt.title('объём трафика за сессию в мегабайтах')\n",
    "plt.xlabel('мб')\n",
    "plt.show()"
   ]
  },
  {
   "cell_type": "code",
   "execution_count": 21,
   "metadata": {},
   "outputs": [
    {
     "data": {
      "image/png": "[encoded data removed]",
      "text/plain": [
       "<Figure size 432x288 with 1 Axes>"
      ]
     },
     "metadata": {
      "needs_background": "light"
     },
     "output_type": "display_data"
    }
   ],
   "source": [
    "ax = sns.boxplot(x=internet['mb_used']) "
   ]
  },
  {
   "cell_type": "markdown",
   "metadata": {},
   "source": [
    "Распределение асимметричное скошенное: медиана немного меньше среднего, график с хвостом справа. Значит, самая высокая повторяемость значений находится слева от среднего. Большинство выбросов присутствует в правой части, сверх 1100 мб."
   ]
  },
  {
   "cell_type": "markdown",
   "metadata": {},
   "source": [
    "### О тарифах"
   ]
  },
  {
   "cell_type": "code",
   "execution_count": 22,
   "metadata": {},
   "outputs": [
    {
     "name": "stdout",
     "output_type": "stream",
     "text": [
      "<class 'pandas.core.frame.DataFrame'>\n",
      "RangeIndex: 2 entries, 0 to 1\n",
      "Data columns (total 8 columns):\n",
      "messages_included        2 non-null int64\n",
      "mb_per_month_included    2 non-null int64\n",
      "minutes_included         2 non-null int64\n",
      "rub_monthly_fee          2 non-null int64\n",
      "rub_per_gb               2 non-null int64\n",
      "rub_per_message          2 non-null int64\n",
      "rub_per_minute           2 non-null int64\n",
      "tariff_name              2 non-null object\n",
      "dtypes: int64(7), object(1)\n",
      "memory usage: 256.0+ bytes\n"
     ]
    },
    {
     "data": {
      "text/html": [
       "<div>\n",
       "<style scoped>\n",
       "    .dataframe tbody tr th:only-of-type {\n",
       "        vertical-align: middle;\n",
       "    }\n",
       "\n",
       "    .dataframe tbody tr th {\n",
       "        vertical-align: top;\n",
       "    }\n",
       "\n",
       "    .dataframe thead th {\n",
       "        text-align: right;\n",
       "    }\n",
       "</style>\n",
       "<table border=\"1\" class=\"dataframe\">\n",
       "  <thead>\n",
       "    <tr style=\"text-align: right;\">\n",
       "      <th></th>\n",
       "      <th>messages_included</th>\n",
       "      <th>mb_per_month_included</th>\n",
       "      <th>minutes_included</th>\n",
       "      <th>rub_monthly_fee</th>\n",
       "      <th>rub_per_gb</th>\n",
       "      <th>rub_per_message</th>\n",
       "      <th>rub_per_minute</th>\n",
       "      <th>tariff_name</th>\n",
       "    </tr>\n",
       "  </thead>\n",
       "  <tbody>\n",
       "    <tr>\n",
       "      <td>0</td>\n",
       "      <td>50</td>\n",
       "      <td>15360</td>\n",
       "      <td>500</td>\n",
       "      <td>550</td>\n",
       "      <td>200</td>\n",
       "      <td>3</td>\n",
       "      <td>3</td>\n",
       "      <td>smart</td>\n",
       "    </tr>\n",
       "    <tr>\n",
       "      <td>1</td>\n",
       "      <td>1000</td>\n",
       "      <td>30720</td>\n",
       "      <td>3000</td>\n",
       "      <td>1950</td>\n",
       "      <td>150</td>\n",
       "      <td>1</td>\n",
       "      <td>1</td>\n",
       "      <td>ultra</td>\n",
       "    </tr>\n",
       "  </tbody>\n",
       "</table>\n",
       "</div>"
      ],
      "text/plain": [
       "   messages_included  mb_per_month_included  minutes_included  \\\n",
       "0                 50                  15360               500   \n",
       "1               1000                  30720              3000   \n",
       "\n",
       "   rub_monthly_fee  rub_per_gb  rub_per_message  rub_per_minute tariff_name  \n",
       "0              550         200                3               3       smart  \n",
       "1             1950         150                1               1       ultra  "
      ]
     },
     "execution_count": 22,
     "metadata": {},
     "output_type": "execute_result"
    }
   ],
   "source": [
    "tariffs.info()\n",
    "tariffs.head()"
   ]
  },
  {
   "cell_type": "markdown",
   "metadata": {},
   "source": [
    "Тут всё ок."
   ]
  },
  {
   "cell_type": "code",
   "execution_count": 23,
   "metadata": {},
   "outputs": [],
   "source": [
    "calls['call_date'] = pd.to_datetime(calls['call_date'], format='%Y-%m-%dT%H:%M:%S')\n",
    "messages['message_date'] = pd.to_datetime(messages['message_date'], format='%Y-%m-%dT%H:%M:%S')\n",
    "internet['session_date'] = pd.to_datetime(internet['session_date'], format='%Y-%m-%dT%H:%M:%S')"
   ]
  },
  {
   "cell_type": "code",
   "execution_count": 24,
   "metadata": {},
   "outputs": [
    {
     "data": {
      "text/html": [
       "<div>\n",
       "<style scoped>\n",
       "    .dataframe tbody tr th:only-of-type {\n",
       "        vertical-align: middle;\n",
       "    }\n",
       "\n",
       "    .dataframe tbody tr th {\n",
       "        vertical-align: top;\n",
       "    }\n",
       "\n",
       "    .dataframe thead th {\n",
       "        text-align: right;\n",
       "    }\n",
       "</style>\n",
       "<table border=\"1\" class=\"dataframe\">\n",
       "  <thead>\n",
       "    <tr style=\"text-align: right;\">\n",
       "      <th></th>\n",
       "      <th>id</th>\n",
       "      <th>call_date</th>\n",
       "      <th>duration</th>\n",
       "      <th>user_id</th>\n",
       "      <th>month</th>\n",
       "    </tr>\n",
       "  </thead>\n",
       "  <tbody>\n",
       "    <tr>\n",
       "      <td>2</td>\n",
       "      <td>1000_2</td>\n",
       "      <td>2018-06-11</td>\n",
       "      <td>3.0</td>\n",
       "      <td>1000</td>\n",
       "      <td>6</td>\n",
       "    </tr>\n",
       "    <tr>\n",
       "      <td>3</td>\n",
       "      <td>1000_3</td>\n",
       "      <td>2018-09-21</td>\n",
       "      <td>14.0</td>\n",
       "      <td>1000</td>\n",
       "      <td>9</td>\n",
       "    </tr>\n",
       "    <tr>\n",
       "      <td>4</td>\n",
       "      <td>1000_4</td>\n",
       "      <td>2018-12-15</td>\n",
       "      <td>6.0</td>\n",
       "      <td>1000</td>\n",
       "      <td>12</td>\n",
       "    </tr>\n",
       "    <tr>\n",
       "      <td>7</td>\n",
       "      <td>1000_7</td>\n",
       "      <td>2018-08-22</td>\n",
       "      <td>19.0</td>\n",
       "      <td>1000</td>\n",
       "      <td>8</td>\n",
       "    </tr>\n",
       "    <tr>\n",
       "      <td>8</td>\n",
       "      <td>1000_8</td>\n",
       "      <td>2018-09-15</td>\n",
       "      <td>19.0</td>\n",
       "      <td>1000</td>\n",
       "      <td>9</td>\n",
       "    </tr>\n",
       "  </tbody>\n",
       "</table>\n",
       "</div>"
      ],
      "text/plain": [
       "       id  call_date  duration  user_id  month\n",
       "2  1000_2 2018-06-11       3.0     1000      6\n",
       "3  1000_3 2018-09-21      14.0     1000      9\n",
       "4  1000_4 2018-12-15       6.0     1000     12\n",
       "7  1000_7 2018-08-22      19.0     1000      8\n",
       "8  1000_8 2018-09-15      19.0     1000      9"
      ]
     },
     "execution_count": 24,
     "metadata": {},
     "output_type": "execute_result"
    }
   ],
   "source": [
    "calls['month'] = pd.to_datetime(calls['call_date']).dt.month \n",
    "messages['month'] = pd.to_datetime(messages['message_date']).dt.month\n",
    "internet['month'] = pd.to_datetime(internet['session_date']).dt.month\n",
    "calls.head()"
   ]
  },
  {
   "cell_type": "markdown",
   "metadata": {},
   "source": [
    "Поменяли тип данных у нужных столбцов и ввели новый - \"месяц\"."
   ]
  },
  {
   "cell_type": "markdown",
   "metadata": {},
   "source": [
    "Проанализировали каждый из пяти датафреймов, можно перейти к дальнейшей обработке и созданию объединенного дф."
   ]
  },
  {
   "cell_type": "markdown",
   "metadata": {},
   "source": [
    "## Обработка пользовательских данных"
   ]
  },
  {
   "cell_type": "markdown",
   "metadata": {},
   "source": [
    "### Звонки, смс, трафик по месяцам"
   ]
  },
  {
   "cell_type": "code",
   "execution_count": 25,
   "metadata": {},
   "outputs": [],
   "source": [
    "#calls_month = calls.groupby(['user_id', 'month'])['duration'].agg(['sum']).reset_index()\n",
    "#messages_month = messages.groupby(['user_id', 'month'])['id'].agg(['count']).reset_index()\n",
    "#internet_month = internet.pivot_table(index=['user_id', 'month'], values='mb_used', aggfunc=['sum']).reset_index()"
   ]
  },
  {
   "cell_type": "code",
   "execution_count": 26,
   "metadata": {},
   "outputs": [],
   "source": [
    "calls_month = calls.groupby(['user_id', 'month']).agg({'duration': 'sum'}).reset_index()\n",
    "messages_month = messages.groupby(['user_id', 'month']).agg({'id': 'count'}).reset_index() \n",
    "internet_month = internet.groupby(['user_id', 'month']).agg({'mb_used': 'sum'}).reset_index()"
   ]
  },
  {
   "cell_type": "markdown",
   "metadata": {},
   "source": [
    "Посчитали для каждого пользователя по месяцам: количество сделанных звонков и израсходованных минут разговора, количество отправленных сообщений, объем израсходованного трафика. Далее склеили новый дф."
   ]
  },
  {
   "cell_type": "code",
   "execution_count": 27,
   "metadata": {},
   "outputs": [
    {
     "data": {
      "image/png": "[encoded data removed]",
      "text/plain": [
       "<Figure size 432x288 with 1 Axes>"
      ]
     },
     "metadata": {
      "needs_background": "light"
     },
     "output_type": "display_data"
    }
   ],
   "source": [
    "calls1 = calls.groupby('month')['id'].count().reset_index()\n",
    "messages1 = messages.groupby('month')['id'].count().reset_index()\n",
    "internet1 = internet.groupby('month')['id'].count().reset_index()\n",
    "\n",
    "def troika():\n",
    "    plt.plot(calls1, color='red')\n",
    "    plt.plot(messages1, color='green')\n",
    "    plt.plot(internet1, color='blue')\n",
    "    plt.grid(True)\n",
    "    plt.show()\n",
    "\n",
    "troika()"
   ]
  },
  {
   "cell_type": "markdown",
   "metadata": {},
   "source": [
    "Смотрим каким типом связи пользуются чаще всего (по месяцам). Чаще всего совершают звонки. Но выглядит график так, как будто оператор появился только в начале года. Или тарифы появились в начале года?"
   ]
  },
  {
   "cell_type": "markdown",
   "metadata": {},
   "source": [
    "### Создание нового датафрейма"
   ]
  },
  {
   "cell_type": "code",
   "execution_count": 28,
   "metadata": {},
   "outputs": [],
   "source": [
    "df = users.merge(calls_month, on='user_id', how='left')\n",
    "df = df.merge(internet_month, on=['user_id','month'], how='outer')\n",
    "df = df.merge(messages_month, on=['user_id','month'], how='outer')\n",
    "df = df.merge(tariffs, left_on='tariff', right_on='tariff_name', how='left')"
   ]
  },
  {
   "cell_type": "code",
   "execution_count": 29,
   "metadata": {},
   "outputs": [],
   "source": [
    "pd.set_option('display.max_columns', None) "
   ]
  },
  {
   "cell_type": "code",
   "execution_count": 30,
   "metadata": {},
   "outputs": [
    {
     "data": {
      "text/html": [
       "<div>\n",
       "<style scoped>\n",
       "    .dataframe tbody tr th:only-of-type {\n",
       "        vertical-align: middle;\n",
       "    }\n",
       "\n",
       "    .dataframe tbody tr th {\n",
       "        vertical-align: top;\n",
       "    }\n",
       "\n",
       "    .dataframe thead th {\n",
       "        text-align: right;\n",
       "    }\n",
       "</style>\n",
       "<table border=\"1\" class=\"dataframe\">\n",
       "  <thead>\n",
       "    <tr style=\"text-align: right;\">\n",
       "      <th></th>\n",
       "      <th>user_id</th>\n",
       "      <th>age</th>\n",
       "      <th>churn_date</th>\n",
       "      <th>city</th>\n",
       "      <th>first_name</th>\n",
       "      <th>last_name</th>\n",
       "      <th>reg_date</th>\n",
       "      <th>tariff</th>\n",
       "      <th>month</th>\n",
       "      <th>duration</th>\n",
       "      <th>mb_used</th>\n",
       "      <th>id</th>\n",
       "      <th>messages_included</th>\n",
       "      <th>mb_per_month_included</th>\n",
       "      <th>minutes_included</th>\n",
       "      <th>rub_monthly_fee</th>\n",
       "      <th>rub_per_gb</th>\n",
       "      <th>rub_per_message</th>\n",
       "      <th>rub_per_minute</th>\n",
       "      <th>tariff_name</th>\n",
       "    </tr>\n",
       "  </thead>\n",
       "  <tbody>\n",
       "    <tr>\n",
       "      <td>0</td>\n",
       "      <td>1000</td>\n",
       "      <td>52.0</td>\n",
       "      <td>NaN</td>\n",
       "      <td>Краснодар</td>\n",
       "      <td>Рафаил</td>\n",
       "      <td>Верещагин</td>\n",
       "      <td>2018-05-25</td>\n",
       "      <td>ultra</td>\n",
       "      <td>5.0</td>\n",
       "      <td>159.0</td>\n",
       "      <td>2256.0</td>\n",
       "      <td>22.0</td>\n",
       "      <td>1000.0</td>\n",
       "      <td>30720.0</td>\n",
       "      <td>3000.0</td>\n",
       "      <td>1950.0</td>\n",
       "      <td>150.0</td>\n",
       "      <td>1.0</td>\n",
       "      <td>1.0</td>\n",
       "      <td>ultra</td>\n",
       "    </tr>\n",
       "    <tr>\n",
       "      <td>1</td>\n",
       "      <td>1000</td>\n",
       "      <td>52.0</td>\n",
       "      <td>NaN</td>\n",
       "      <td>Краснодар</td>\n",
       "      <td>Рафаил</td>\n",
       "      <td>Верещагин</td>\n",
       "      <td>2018-05-25</td>\n",
       "      <td>ultra</td>\n",
       "      <td>6.0</td>\n",
       "      <td>172.0</td>\n",
       "      <td>23257.0</td>\n",
       "      <td>60.0</td>\n",
       "      <td>1000.0</td>\n",
       "      <td>30720.0</td>\n",
       "      <td>3000.0</td>\n",
       "      <td>1950.0</td>\n",
       "      <td>150.0</td>\n",
       "      <td>1.0</td>\n",
       "      <td>1.0</td>\n",
       "      <td>ultra</td>\n",
       "    </tr>\n",
       "    <tr>\n",
       "      <td>2</td>\n",
       "      <td>1000</td>\n",
       "      <td>52.0</td>\n",
       "      <td>NaN</td>\n",
       "      <td>Краснодар</td>\n",
       "      <td>Рафаил</td>\n",
       "      <td>Верещагин</td>\n",
       "      <td>2018-05-25</td>\n",
       "      <td>ultra</td>\n",
       "      <td>7.0</td>\n",
       "      <td>340.0</td>\n",
       "      <td>14016.0</td>\n",
       "      <td>75.0</td>\n",
       "      <td>1000.0</td>\n",
       "      <td>30720.0</td>\n",
       "      <td>3000.0</td>\n",
       "      <td>1950.0</td>\n",
       "      <td>150.0</td>\n",
       "      <td>1.0</td>\n",
       "      <td>1.0</td>\n",
       "      <td>ultra</td>\n",
       "    </tr>\n",
       "    <tr>\n",
       "      <td>299</td>\n",
       "      <td>1048</td>\n",
       "      <td>73.0</td>\n",
       "      <td>NaN</td>\n",
       "      <td>Новокузнецк</td>\n",
       "      <td>Лола</td>\n",
       "      <td>Мясникова</td>\n",
       "      <td>2018-08-19</td>\n",
       "      <td>ultra</td>\n",
       "      <td>12.0</td>\n",
       "      <td>688.0</td>\n",
       "      <td>8186.0</td>\n",
       "      <td>78.0</td>\n",
       "      <td>1000.0</td>\n",
       "      <td>30720.0</td>\n",
       "      <td>3000.0</td>\n",
       "      <td>1950.0</td>\n",
       "      <td>150.0</td>\n",
       "      <td>1.0</td>\n",
       "      <td>1.0</td>\n",
       "      <td>ultra</td>\n",
       "    </tr>\n",
       "    <tr>\n",
       "      <td>501</td>\n",
       "      <td>1079</td>\n",
       "      <td>20.0</td>\n",
       "      <td>NaN</td>\n",
       "      <td>Москва</td>\n",
       "      <td>Еремей</td>\n",
       "      <td>Авроров</td>\n",
       "      <td>2018-05-15</td>\n",
       "      <td>smart</td>\n",
       "      <td>12.0</td>\n",
       "      <td>578.0</td>\n",
       "      <td>11156.0</td>\n",
       "      <td>35.0</td>\n",
       "      <td>50.0</td>\n",
       "      <td>15360.0</td>\n",
       "      <td>500.0</td>\n",
       "      <td>550.0</td>\n",
       "      <td>200.0</td>\n",
       "      <td>3.0</td>\n",
       "      <td>3.0</td>\n",
       "      <td>smart</td>\n",
       "    </tr>\n",
       "    <tr>\n",
       "      <td>631</td>\n",
       "      <td>1100</td>\n",
       "      <td>58.0</td>\n",
       "      <td>NaN</td>\n",
       "      <td>Санкт-Петербург</td>\n",
       "      <td>Руслан</td>\n",
       "      <td>Красильников</td>\n",
       "      <td>2018-07-02</td>\n",
       "      <td>smart</td>\n",
       "      <td>11.0</td>\n",
       "      <td>530.0</td>\n",
       "      <td>17140.0</td>\n",
       "      <td>49.0</td>\n",
       "      <td>50.0</td>\n",
       "      <td>15360.0</td>\n",
       "      <td>500.0</td>\n",
       "      <td>550.0</td>\n",
       "      <td>200.0</td>\n",
       "      <td>3.0</td>\n",
       "      <td>3.0</td>\n",
       "      <td>smart</td>\n",
       "    </tr>\n",
       "    <tr>\n",
       "      <td>3219</td>\n",
       "      <td>1489</td>\n",
       "      <td>NaN</td>\n",
       "      <td>NaN</td>\n",
       "      <td>NaN</td>\n",
       "      <td>NaN</td>\n",
       "      <td>NaN</td>\n",
       "      <td>NaN</td>\n",
       "      <td>NaN</td>\n",
       "      <td>10.0</td>\n",
       "      <td>NaN</td>\n",
       "      <td>19588.0</td>\n",
       "      <td>21.0</td>\n",
       "      <td>NaN</td>\n",
       "      <td>NaN</td>\n",
       "      <td>NaN</td>\n",
       "      <td>NaN</td>\n",
       "      <td>NaN</td>\n",
       "      <td>NaN</td>\n",
       "      <td>NaN</td>\n",
       "      <td>NaN</td>\n",
       "    </tr>\n",
       "    <tr>\n",
       "      <td>3220</td>\n",
       "      <td>1489</td>\n",
       "      <td>NaN</td>\n",
       "      <td>NaN</td>\n",
       "      <td>NaN</td>\n",
       "      <td>NaN</td>\n",
       "      <td>NaN</td>\n",
       "      <td>NaN</td>\n",
       "      <td>NaN</td>\n",
       "      <td>11.0</td>\n",
       "      <td>NaN</td>\n",
       "      <td>17516.0</td>\n",
       "      <td>20.0</td>\n",
       "      <td>NaN</td>\n",
       "      <td>NaN</td>\n",
       "      <td>NaN</td>\n",
       "      <td>NaN</td>\n",
       "      <td>NaN</td>\n",
       "      <td>NaN</td>\n",
       "      <td>NaN</td>\n",
       "      <td>NaN</td>\n",
       "    </tr>\n",
       "    <tr>\n",
       "      <td>3221</td>\n",
       "      <td>1489</td>\n",
       "      <td>NaN</td>\n",
       "      <td>NaN</td>\n",
       "      <td>NaN</td>\n",
       "      <td>NaN</td>\n",
       "      <td>NaN</td>\n",
       "      <td>NaN</td>\n",
       "      <td>NaN</td>\n",
       "      <td>12.0</td>\n",
       "      <td>NaN</td>\n",
       "      <td>17341.0</td>\n",
       "      <td>35.0</td>\n",
       "      <td>NaN</td>\n",
       "      <td>NaN</td>\n",
       "      <td>NaN</td>\n",
       "      <td>NaN</td>\n",
       "      <td>NaN</td>\n",
       "      <td>NaN</td>\n",
       "      <td>NaN</td>\n",
       "      <td>NaN</td>\n",
       "    </tr>\n",
       "  </tbody>\n",
       "</table>\n",
       "</div>"
      ],
      "text/plain": [
       "      user_id   age churn_date             city first_name     last_name  \\\n",
       "0        1000  52.0        NaN        Краснодар     Рафаил     Верещагин   \n",
       "1        1000  52.0        NaN        Краснодар     Рафаил     Верещагин   \n",
       "2        1000  52.0        NaN        Краснодар     Рафаил     Верещагин   \n",
       "299      1048  73.0        NaN      Новокузнецк       Лола     Мясникова   \n",
       "501      1079  20.0        NaN           Москва     Еремей       Авроров   \n",
       "631      1100  58.0        NaN  Санкт-Петербург     Руслан  Красильников   \n",
       "3219     1489   NaN        NaN              NaN        NaN           NaN   \n",
       "3220     1489   NaN        NaN              NaN        NaN           NaN   \n",
       "3221     1489   NaN        NaN              NaN        NaN           NaN   \n",
       "\n",
       "        reg_date tariff  month  duration  mb_used    id  messages_included  \\\n",
       "0     2018-05-25  ultra    5.0     159.0   2256.0  22.0             1000.0   \n",
       "1     2018-05-25  ultra    6.0     172.0  23257.0  60.0             1000.0   \n",
       "2     2018-05-25  ultra    7.0     340.0  14016.0  75.0             1000.0   \n",
       "299   2018-08-19  ultra   12.0     688.0   8186.0  78.0             1000.0   \n",
       "501   2018-05-15  smart   12.0     578.0  11156.0  35.0               50.0   \n",
       "631   2018-07-02  smart   11.0     530.0  17140.0  49.0               50.0   \n",
       "3219         NaN    NaN   10.0       NaN  19588.0  21.0                NaN   \n",
       "3220         NaN    NaN   11.0       NaN  17516.0  20.0                NaN   \n",
       "3221         NaN    NaN   12.0       NaN  17341.0  35.0                NaN   \n",
       "\n",
       "      mb_per_month_included  minutes_included  rub_monthly_fee  rub_per_gb  \\\n",
       "0                   30720.0            3000.0           1950.0       150.0   \n",
       "1                   30720.0            3000.0           1950.0       150.0   \n",
       "2                   30720.0            3000.0           1950.0       150.0   \n",
       "299                 30720.0            3000.0           1950.0       150.0   \n",
       "501                 15360.0             500.0            550.0       200.0   \n",
       "631                 15360.0             500.0            550.0       200.0   \n",
       "3219                    NaN               NaN              NaN         NaN   \n",
       "3220                    NaN               NaN              NaN         NaN   \n",
       "3221                    NaN               NaN              NaN         NaN   \n",
       "\n",
       "      rub_per_message  rub_per_minute tariff_name  \n",
       "0                 1.0             1.0       ultra  \n",
       "1                 1.0             1.0       ultra  \n",
       "2                 1.0             1.0       ultra  \n",
       "299               1.0             1.0       ultra  \n",
       "501               3.0             3.0       smart  \n",
       "631               3.0             3.0       smart  \n",
       "3219              NaN             NaN         NaN  \n",
       "3220              NaN             NaN         NaN  \n",
       "3221              NaN             NaN         NaN  "
      ]
     },
     "execution_count": 30,
     "metadata": {},
     "output_type": "execute_result"
    }
   ],
   "source": [
    "def obzor (d, n):\n",
    "    return pd.concat([d.head(n), d.sample(n, random_state=42), d.tail(n)], axis=0)\n",
    "obzor(df, 3)"
   ]
  },
  {
   "cell_type": "markdown",
   "metadata": {},
   "source": [
    "Пропуски в tail() говорят нам о том, что пользователь сидит в интернете, но не совершает звонков, не пишет смс. То есть любой пользователь может использовать одну/две из опций связи. Заполним пропуски нулями."
   ]
  },
  {
   "cell_type": "code",
   "execution_count": 31,
   "metadata": {},
   "outputs": [],
   "source": [
    "# type?"
   ]
  },
  {
   "cell_type": "code",
   "execution_count": 32,
   "metadata": {},
   "outputs": [
    {
     "name": "stdout",
     "output_type": "stream",
     "text": [
      "<class 'pandas.core.frame.DataFrame'>\n",
      "Int64Index: 3222 entries, 0 to 3221\n",
      "Data columns (total 20 columns):\n",
      "user_id                  3222 non-null int64\n",
      "age                      3222 non-null float64\n",
      "churn_date               3222 non-null object\n",
      "city                     3222 non-null object\n",
      "first_name               3222 non-null object\n",
      "last_name                3222 non-null object\n",
      "reg_date                 3222 non-null object\n",
      "tariff                   3222 non-null object\n",
      "month                    3222 non-null float64\n",
      "duration                 3222 non-null float64\n",
      "mb_used                  3222 non-null float64\n",
      "id                       3222 non-null float64\n",
      "messages_included        3222 non-null float64\n",
      "mb_per_month_included    3222 non-null float64\n",
      "minutes_included         3222 non-null float64\n",
      "rub_monthly_fee          3222 non-null float64\n",
      "rub_per_gb               3222 non-null float64\n",
      "rub_per_message          3222 non-null float64\n",
      "rub_per_minute           3222 non-null float64\n",
      "tariff_name              3222 non-null object\n",
      "dtypes: float64(12), int64(1), object(7)\n",
      "memory usage: 528.6+ KB\n"
     ]
    }
   ],
   "source": [
    "df = df.fillna(0)\n",
    "df.info()"
   ]
  },
  {
   "cell_type": "markdown",
   "metadata": {},
   "source": [
    "Использовали метод merge для объединения пяти датафреймов, получили новый дф из 3222 строк."
   ]
  },
  {
   "cell_type": "markdown",
   "metadata": {},
   "source": [
    "### Выручка с каждого пользователя по месяцам"
   ]
  },
  {
   "cell_type": "code",
   "execution_count": 33,
   "metadata": {},
   "outputs": [],
   "source": [
    "df['min_over'] = (df['duration'] - df['minutes_included'])  *  df['rub_per_minute']\n",
    "df.loc[df['min_over'] < 0, 'min_over'] = 0\n",
    "\n",
    "# np.where ?"
   ]
  },
  {
   "cell_type": "code",
   "execution_count": 34,
   "metadata": {},
   "outputs": [],
   "source": [
    "df['mb_over'] = (df['mb_used'] - df['mb_per_month_included']) / 1024 *  df['rub_per_gb']\n",
    "df.loc[df['mb_over'] < 0, 'mb_over'] = 0"
   ]
  },
  {
   "cell_type": "code",
   "execution_count": 35,
   "metadata": {},
   "outputs": [],
   "source": [
    "df['sms_over'] = (df['id'] - df['messages_included'])  *  df['rub_per_message']\n",
    "df.loc[df['sms_over'] < 0, 'sms_over'] = 0"
   ]
  },
  {
   "cell_type": "markdown",
   "metadata": {},
   "source": [
    "Отрицательные значения заменили на 0: отрицательный перерасход означает, что перерасхода не было, он нулевой. Положительный перерасход трафика перевели в гигабайты."
   ]
  },
  {
   "cell_type": "code",
   "execution_count": 36,
   "metadata": {},
   "outputs": [
    {
     "data": {
      "text/html": [
       "<div>\n",
       "<style scoped>\n",
       "    .dataframe tbody tr th:only-of-type {\n",
       "        vertical-align: middle;\n",
       "    }\n",
       "\n",
       "    .dataframe tbody tr th {\n",
       "        vertical-align: top;\n",
       "    }\n",
       "\n",
       "    .dataframe thead th {\n",
       "        text-align: right;\n",
       "    }\n",
       "</style>\n",
       "<table border=\"1\" class=\"dataframe\">\n",
       "  <thead>\n",
       "    <tr style=\"text-align: right;\">\n",
       "      <th></th>\n",
       "      <th>user_id</th>\n",
       "      <th>age</th>\n",
       "      <th>churn_date</th>\n",
       "      <th>city</th>\n",
       "      <th>first_name</th>\n",
       "      <th>last_name</th>\n",
       "      <th>reg_date</th>\n",
       "      <th>tariff</th>\n",
       "      <th>month</th>\n",
       "      <th>duration</th>\n",
       "      <th>mb_used</th>\n",
       "      <th>id</th>\n",
       "      <th>messages_included</th>\n",
       "      <th>mb_per_month_included</th>\n",
       "      <th>minutes_included</th>\n",
       "      <th>rub_monthly_fee</th>\n",
       "      <th>rub_per_gb</th>\n",
       "      <th>rub_per_message</th>\n",
       "      <th>rub_per_minute</th>\n",
       "      <th>tariff_name</th>\n",
       "      <th>min_over</th>\n",
       "      <th>mb_over</th>\n",
       "      <th>sms_over</th>\n",
       "    </tr>\n",
       "  </thead>\n",
       "  <tbody>\n",
       "    <tr>\n",
       "      <td>0</td>\n",
       "      <td>1000</td>\n",
       "      <td>52.0</td>\n",
       "      <td>0</td>\n",
       "      <td>Краснодар</td>\n",
       "      <td>Рафаил</td>\n",
       "      <td>Верещагин</td>\n",
       "      <td>2018-05-25</td>\n",
       "      <td>ultra</td>\n",
       "      <td>5.0</td>\n",
       "      <td>159.0</td>\n",
       "      <td>2256.0</td>\n",
       "      <td>22.0</td>\n",
       "      <td>1000.0</td>\n",
       "      <td>30720.0</td>\n",
       "      <td>3000.0</td>\n",
       "      <td>1950.0</td>\n",
       "      <td>150.0</td>\n",
       "      <td>1.0</td>\n",
       "      <td>1.0</td>\n",
       "      <td>ultra</td>\n",
       "      <td>0.0</td>\n",
       "      <td>0.00000</td>\n",
       "      <td>0.0</td>\n",
       "    </tr>\n",
       "    <tr>\n",
       "      <td>1</td>\n",
       "      <td>1000</td>\n",
       "      <td>52.0</td>\n",
       "      <td>0</td>\n",
       "      <td>Краснодар</td>\n",
       "      <td>Рафаил</td>\n",
       "      <td>Верещагин</td>\n",
       "      <td>2018-05-25</td>\n",
       "      <td>ultra</td>\n",
       "      <td>6.0</td>\n",
       "      <td>172.0</td>\n",
       "      <td>23257.0</td>\n",
       "      <td>60.0</td>\n",
       "      <td>1000.0</td>\n",
       "      <td>30720.0</td>\n",
       "      <td>3000.0</td>\n",
       "      <td>1950.0</td>\n",
       "      <td>150.0</td>\n",
       "      <td>1.0</td>\n",
       "      <td>1.0</td>\n",
       "      <td>ultra</td>\n",
       "      <td>0.0</td>\n",
       "      <td>0.00000</td>\n",
       "      <td>0.0</td>\n",
       "    </tr>\n",
       "    <tr>\n",
       "      <td>2</td>\n",
       "      <td>1000</td>\n",
       "      <td>52.0</td>\n",
       "      <td>0</td>\n",
       "      <td>Краснодар</td>\n",
       "      <td>Рафаил</td>\n",
       "      <td>Верещагин</td>\n",
       "      <td>2018-05-25</td>\n",
       "      <td>ultra</td>\n",
       "      <td>7.0</td>\n",
       "      <td>340.0</td>\n",
       "      <td>14016.0</td>\n",
       "      <td>75.0</td>\n",
       "      <td>1000.0</td>\n",
       "      <td>30720.0</td>\n",
       "      <td>3000.0</td>\n",
       "      <td>1950.0</td>\n",
       "      <td>150.0</td>\n",
       "      <td>1.0</td>\n",
       "      <td>1.0</td>\n",
       "      <td>ultra</td>\n",
       "      <td>0.0</td>\n",
       "      <td>0.00000</td>\n",
       "      <td>0.0</td>\n",
       "    </tr>\n",
       "    <tr>\n",
       "      <td>299</td>\n",
       "      <td>1048</td>\n",
       "      <td>73.0</td>\n",
       "      <td>0</td>\n",
       "      <td>Новокузнецк</td>\n",
       "      <td>Лола</td>\n",
       "      <td>Мясникова</td>\n",
       "      <td>2018-08-19</td>\n",
       "      <td>ultra</td>\n",
       "      <td>12.0</td>\n",
       "      <td>688.0</td>\n",
       "      <td>8186.0</td>\n",
       "      <td>78.0</td>\n",
       "      <td>1000.0</td>\n",
       "      <td>30720.0</td>\n",
       "      <td>3000.0</td>\n",
       "      <td>1950.0</td>\n",
       "      <td>150.0</td>\n",
       "      <td>1.0</td>\n",
       "      <td>1.0</td>\n",
       "      <td>ultra</td>\n",
       "      <td>0.0</td>\n",
       "      <td>0.00000</td>\n",
       "      <td>0.0</td>\n",
       "    </tr>\n",
       "    <tr>\n",
       "      <td>501</td>\n",
       "      <td>1079</td>\n",
       "      <td>20.0</td>\n",
       "      <td>0</td>\n",
       "      <td>Москва</td>\n",
       "      <td>Еремей</td>\n",
       "      <td>Авроров</td>\n",
       "      <td>2018-05-15</td>\n",
       "      <td>smart</td>\n",
       "      <td>12.0</td>\n",
       "      <td>578.0</td>\n",
       "      <td>11156.0</td>\n",
       "      <td>35.0</td>\n",
       "      <td>50.0</td>\n",
       "      <td>15360.0</td>\n",
       "      <td>500.0</td>\n",
       "      <td>550.0</td>\n",
       "      <td>200.0</td>\n",
       "      <td>3.0</td>\n",
       "      <td>3.0</td>\n",
       "      <td>smart</td>\n",
       "      <td>234.0</td>\n",
       "      <td>0.00000</td>\n",
       "      <td>0.0</td>\n",
       "    </tr>\n",
       "    <tr>\n",
       "      <td>631</td>\n",
       "      <td>1100</td>\n",
       "      <td>58.0</td>\n",
       "      <td>0</td>\n",
       "      <td>Санкт-Петербург</td>\n",
       "      <td>Руслан</td>\n",
       "      <td>Красильников</td>\n",
       "      <td>2018-07-02</td>\n",
       "      <td>smart</td>\n",
       "      <td>11.0</td>\n",
       "      <td>530.0</td>\n",
       "      <td>17140.0</td>\n",
       "      <td>49.0</td>\n",
       "      <td>50.0</td>\n",
       "      <td>15360.0</td>\n",
       "      <td>500.0</td>\n",
       "      <td>550.0</td>\n",
       "      <td>200.0</td>\n",
       "      <td>3.0</td>\n",
       "      <td>3.0</td>\n",
       "      <td>smart</td>\n",
       "      <td>90.0</td>\n",
       "      <td>347.65625</td>\n",
       "      <td>0.0</td>\n",
       "    </tr>\n",
       "    <tr>\n",
       "      <td>3219</td>\n",
       "      <td>1489</td>\n",
       "      <td>0.0</td>\n",
       "      <td>0</td>\n",
       "      <td>0</td>\n",
       "      <td>0</td>\n",
       "      <td>0</td>\n",
       "      <td>0</td>\n",
       "      <td>0</td>\n",
       "      <td>10.0</td>\n",
       "      <td>0.0</td>\n",
       "      <td>19588.0</td>\n",
       "      <td>21.0</td>\n",
       "      <td>0.0</td>\n",
       "      <td>0.0</td>\n",
       "      <td>0.0</td>\n",
       "      <td>0.0</td>\n",
       "      <td>0.0</td>\n",
       "      <td>0.0</td>\n",
       "      <td>0.0</td>\n",
       "      <td>0</td>\n",
       "      <td>0.0</td>\n",
       "      <td>0.00000</td>\n",
       "      <td>0.0</td>\n",
       "    </tr>\n",
       "    <tr>\n",
       "      <td>3220</td>\n",
       "      <td>1489</td>\n",
       "      <td>0.0</td>\n",
       "      <td>0</td>\n",
       "      <td>0</td>\n",
       "      <td>0</td>\n",
       "      <td>0</td>\n",
       "      <td>0</td>\n",
       "      <td>0</td>\n",
       "      <td>11.0</td>\n",
       "      <td>0.0</td>\n",
       "      <td>17516.0</td>\n",
       "      <td>20.0</td>\n",
       "      <td>0.0</td>\n",
       "      <td>0.0</td>\n",
       "      <td>0.0</td>\n",
       "      <td>0.0</td>\n",
       "      <td>0.0</td>\n",
       "      <td>0.0</td>\n",
       "      <td>0.0</td>\n",
       "      <td>0</td>\n",
       "      <td>0.0</td>\n",
       "      <td>0.00000</td>\n",
       "      <td>0.0</td>\n",
       "    </tr>\n",
       "    <tr>\n",
       "      <td>3221</td>\n",
       "      <td>1489</td>\n",
       "      <td>0.0</td>\n",
       "      <td>0</td>\n",
       "      <td>0</td>\n",
       "      <td>0</td>\n",
       "      <td>0</td>\n",
       "      <td>0</td>\n",
       "      <td>0</td>\n",
       "      <td>12.0</td>\n",
       "      <td>0.0</td>\n",
       "      <td>17341.0</td>\n",
       "      <td>35.0</td>\n",
       "      <td>0.0</td>\n",
       "      <td>0.0</td>\n",
       "      <td>0.0</td>\n",
       "      <td>0.0</td>\n",
       "      <td>0.0</td>\n",
       "      <td>0.0</td>\n",
       "      <td>0.0</td>\n",
       "      <td>0</td>\n",
       "      <td>0.0</td>\n",
       "      <td>0.00000</td>\n",
       "      <td>0.0</td>\n",
       "    </tr>\n",
       "  </tbody>\n",
       "</table>\n",
       "</div>"
      ],
      "text/plain": [
       "      user_id   age churn_date             city first_name     last_name  \\\n",
       "0        1000  52.0          0        Краснодар     Рафаил     Верещагин   \n",
       "1        1000  52.0          0        Краснодар     Рафаил     Верещагин   \n",
       "2        1000  52.0          0        Краснодар     Рафаил     Верещагин   \n",
       "299      1048  73.0          0      Новокузнецк       Лола     Мясникова   \n",
       "501      1079  20.0          0           Москва     Еремей       Авроров   \n",
       "631      1100  58.0          0  Санкт-Петербург     Руслан  Красильников   \n",
       "3219     1489   0.0          0                0          0             0   \n",
       "3220     1489   0.0          0                0          0             0   \n",
       "3221     1489   0.0          0                0          0             0   \n",
       "\n",
       "        reg_date tariff  month  duration  mb_used    id  messages_included  \\\n",
       "0     2018-05-25  ultra    5.0     159.0   2256.0  22.0             1000.0   \n",
       "1     2018-05-25  ultra    6.0     172.0  23257.0  60.0             1000.0   \n",
       "2     2018-05-25  ultra    7.0     340.0  14016.0  75.0             1000.0   \n",
       "299   2018-08-19  ultra   12.0     688.0   8186.0  78.0             1000.0   \n",
       "501   2018-05-15  smart   12.0     578.0  11156.0  35.0               50.0   \n",
       "631   2018-07-02  smart   11.0     530.0  17140.0  49.0               50.0   \n",
       "3219           0      0   10.0       0.0  19588.0  21.0                0.0   \n",
       "3220           0      0   11.0       0.0  17516.0  20.0                0.0   \n",
       "3221           0      0   12.0       0.0  17341.0  35.0                0.0   \n",
       "\n",
       "      mb_per_month_included  minutes_included  rub_monthly_fee  rub_per_gb  \\\n",
       "0                   30720.0            3000.0           1950.0       150.0   \n",
       "1                   30720.0            3000.0           1950.0       150.0   \n",
       "2                   30720.0            3000.0           1950.0       150.0   \n",
       "299                 30720.0            3000.0           1950.0       150.0   \n",
       "501                 15360.0             500.0            550.0       200.0   \n",
       "631                 15360.0             500.0            550.0       200.0   \n",
       "3219                    0.0               0.0              0.0         0.0   \n",
       "3220                    0.0               0.0              0.0         0.0   \n",
       "3221                    0.0               0.0              0.0         0.0   \n",
       "\n",
       "      rub_per_message  rub_per_minute tariff_name  min_over    mb_over  \\\n",
       "0                 1.0             1.0       ultra       0.0    0.00000   \n",
       "1                 1.0             1.0       ultra       0.0    0.00000   \n",
       "2                 1.0             1.0       ultra       0.0    0.00000   \n",
       "299               1.0             1.0       ultra       0.0    0.00000   \n",
       "501               3.0             3.0       smart     234.0    0.00000   \n",
       "631               3.0             3.0       smart      90.0  347.65625   \n",
       "3219              0.0             0.0           0       0.0    0.00000   \n",
       "3220              0.0             0.0           0       0.0    0.00000   \n",
       "3221              0.0             0.0           0       0.0    0.00000   \n",
       "\n",
       "      sms_over  \n",
       "0          0.0  \n",
       "1          0.0  \n",
       "2          0.0  \n",
       "299        0.0  \n",
       "501        0.0  \n",
       "631        0.0  \n",
       "3219       0.0  \n",
       "3220       0.0  \n",
       "3221       0.0  "
      ]
     },
     "execution_count": 36,
     "metadata": {},
     "output_type": "execute_result"
    }
   ],
   "source": [
    "obzor(df, 3)"
   ]
  },
  {
   "cell_type": "code",
   "execution_count": 37,
   "metadata": {},
   "outputs": [
    {
     "data": {
      "text/html": [
       "<div>\n",
       "<style scoped>\n",
       "    .dataframe tbody tr th:only-of-type {\n",
       "        vertical-align: middle;\n",
       "    }\n",
       "\n",
       "    .dataframe tbody tr th {\n",
       "        vertical-align: top;\n",
       "    }\n",
       "\n",
       "    .dataframe thead th {\n",
       "        text-align: right;\n",
       "    }\n",
       "</style>\n",
       "<table border=\"1\" class=\"dataframe\">\n",
       "  <thead>\n",
       "    <tr style=\"text-align: right;\">\n",
       "      <th></th>\n",
       "      <th>user_id</th>\n",
       "      <th>age</th>\n",
       "      <th>churn_date</th>\n",
       "      <th>city</th>\n",
       "      <th>first_name</th>\n",
       "      <th>last_name</th>\n",
       "      <th>reg_date</th>\n",
       "      <th>tariff</th>\n",
       "      <th>month</th>\n",
       "      <th>duration</th>\n",
       "      <th>mb_used</th>\n",
       "      <th>id</th>\n",
       "      <th>messages_included</th>\n",
       "      <th>mb_per_month_included</th>\n",
       "      <th>minutes_included</th>\n",
       "      <th>rub_monthly_fee</th>\n",
       "      <th>rub_per_gb</th>\n",
       "      <th>rub_per_message</th>\n",
       "      <th>rub_per_minute</th>\n",
       "      <th>tariff_name</th>\n",
       "      <th>min_over</th>\n",
       "      <th>mb_over</th>\n",
       "      <th>sms_over</th>\n",
       "      <th>month_revenue</th>\n",
       "    </tr>\n",
       "  </thead>\n",
       "  <tbody>\n",
       "    <tr>\n",
       "      <td>0</td>\n",
       "      <td>1000</td>\n",
       "      <td>52.0</td>\n",
       "      <td>0</td>\n",
       "      <td>Краснодар</td>\n",
       "      <td>Рафаил</td>\n",
       "      <td>Верещагин</td>\n",
       "      <td>2018-05-25</td>\n",
       "      <td>ultra</td>\n",
       "      <td>5.0</td>\n",
       "      <td>159.0</td>\n",
       "      <td>2256.0</td>\n",
       "      <td>22.0</td>\n",
       "      <td>1000.0</td>\n",
       "      <td>30720.0</td>\n",
       "      <td>3000.0</td>\n",
       "      <td>1950.0</td>\n",
       "      <td>150.0</td>\n",
       "      <td>1.0</td>\n",
       "      <td>1.0</td>\n",
       "      <td>ultra</td>\n",
       "      <td>0.0</td>\n",
       "      <td>0.00000</td>\n",
       "      <td>0.0</td>\n",
       "      <td>1950.00000</td>\n",
       "    </tr>\n",
       "    <tr>\n",
       "      <td>1</td>\n",
       "      <td>1000</td>\n",
       "      <td>52.0</td>\n",
       "      <td>0</td>\n",
       "      <td>Краснодар</td>\n",
       "      <td>Рафаил</td>\n",
       "      <td>Верещагин</td>\n",
       "      <td>2018-05-25</td>\n",
       "      <td>ultra</td>\n",
       "      <td>6.0</td>\n",
       "      <td>172.0</td>\n",
       "      <td>23257.0</td>\n",
       "      <td>60.0</td>\n",
       "      <td>1000.0</td>\n",
       "      <td>30720.0</td>\n",
       "      <td>3000.0</td>\n",
       "      <td>1950.0</td>\n",
       "      <td>150.0</td>\n",
       "      <td>1.0</td>\n",
       "      <td>1.0</td>\n",
       "      <td>ultra</td>\n",
       "      <td>0.0</td>\n",
       "      <td>0.00000</td>\n",
       "      <td>0.0</td>\n",
       "      <td>1950.00000</td>\n",
       "    </tr>\n",
       "    <tr>\n",
       "      <td>2</td>\n",
       "      <td>1000</td>\n",
       "      <td>52.0</td>\n",
       "      <td>0</td>\n",
       "      <td>Краснодар</td>\n",
       "      <td>Рафаил</td>\n",
       "      <td>Верещагин</td>\n",
       "      <td>2018-05-25</td>\n",
       "      <td>ultra</td>\n",
       "      <td>7.0</td>\n",
       "      <td>340.0</td>\n",
       "      <td>14016.0</td>\n",
       "      <td>75.0</td>\n",
       "      <td>1000.0</td>\n",
       "      <td>30720.0</td>\n",
       "      <td>3000.0</td>\n",
       "      <td>1950.0</td>\n",
       "      <td>150.0</td>\n",
       "      <td>1.0</td>\n",
       "      <td>1.0</td>\n",
       "      <td>ultra</td>\n",
       "      <td>0.0</td>\n",
       "      <td>0.00000</td>\n",
       "      <td>0.0</td>\n",
       "      <td>1950.00000</td>\n",
       "    </tr>\n",
       "    <tr>\n",
       "      <td>299</td>\n",
       "      <td>1048</td>\n",
       "      <td>73.0</td>\n",
       "      <td>0</td>\n",
       "      <td>Новокузнецк</td>\n",
       "      <td>Лола</td>\n",
       "      <td>Мясникова</td>\n",
       "      <td>2018-08-19</td>\n",
       "      <td>ultra</td>\n",
       "      <td>12.0</td>\n",
       "      <td>688.0</td>\n",
       "      <td>8186.0</td>\n",
       "      <td>78.0</td>\n",
       "      <td>1000.0</td>\n",
       "      <td>30720.0</td>\n",
       "      <td>3000.0</td>\n",
       "      <td>1950.0</td>\n",
       "      <td>150.0</td>\n",
       "      <td>1.0</td>\n",
       "      <td>1.0</td>\n",
       "      <td>ultra</td>\n",
       "      <td>0.0</td>\n",
       "      <td>0.00000</td>\n",
       "      <td>0.0</td>\n",
       "      <td>1950.00000</td>\n",
       "    </tr>\n",
       "    <tr>\n",
       "      <td>501</td>\n",
       "      <td>1079</td>\n",
       "      <td>20.0</td>\n",
       "      <td>0</td>\n",
       "      <td>Москва</td>\n",
       "      <td>Еремей</td>\n",
       "      <td>Авроров</td>\n",
       "      <td>2018-05-15</td>\n",
       "      <td>smart</td>\n",
       "      <td>12.0</td>\n",
       "      <td>578.0</td>\n",
       "      <td>11156.0</td>\n",
       "      <td>35.0</td>\n",
       "      <td>50.0</td>\n",
       "      <td>15360.0</td>\n",
       "      <td>500.0</td>\n",
       "      <td>550.0</td>\n",
       "      <td>200.0</td>\n",
       "      <td>3.0</td>\n",
       "      <td>3.0</td>\n",
       "      <td>smart</td>\n",
       "      <td>234.0</td>\n",
       "      <td>0.00000</td>\n",
       "      <td>0.0</td>\n",
       "      <td>784.00000</td>\n",
       "    </tr>\n",
       "    <tr>\n",
       "      <td>631</td>\n",
       "      <td>1100</td>\n",
       "      <td>58.0</td>\n",
       "      <td>0</td>\n",
       "      <td>Санкт-Петербург</td>\n",
       "      <td>Руслан</td>\n",
       "      <td>Красильников</td>\n",
       "      <td>2018-07-02</td>\n",
       "      <td>smart</td>\n",
       "      <td>11.0</td>\n",
       "      <td>530.0</td>\n",
       "      <td>17140.0</td>\n",
       "      <td>49.0</td>\n",
       "      <td>50.0</td>\n",
       "      <td>15360.0</td>\n",
       "      <td>500.0</td>\n",
       "      <td>550.0</td>\n",
       "      <td>200.0</td>\n",
       "      <td>3.0</td>\n",
       "      <td>3.0</td>\n",
       "      <td>smart</td>\n",
       "      <td>90.0</td>\n",
       "      <td>347.65625</td>\n",
       "      <td>0.0</td>\n",
       "      <td>987.65625</td>\n",
       "    </tr>\n",
       "    <tr>\n",
       "      <td>3219</td>\n",
       "      <td>1489</td>\n",
       "      <td>0.0</td>\n",
       "      <td>0</td>\n",
       "      <td>0</td>\n",
       "      <td>0</td>\n",
       "      <td>0</td>\n",
       "      <td>0</td>\n",
       "      <td>0</td>\n",
       "      <td>10.0</td>\n",
       "      <td>0.0</td>\n",
       "      <td>19588.0</td>\n",
       "      <td>21.0</td>\n",
       "      <td>0.0</td>\n",
       "      <td>0.0</td>\n",
       "      <td>0.0</td>\n",
       "      <td>0.0</td>\n",
       "      <td>0.0</td>\n",
       "      <td>0.0</td>\n",
       "      <td>0.0</td>\n",
       "      <td>0</td>\n",
       "      <td>0.0</td>\n",
       "      <td>0.00000</td>\n",
       "      <td>0.0</td>\n",
       "      <td>0.00000</td>\n",
       "    </tr>\n",
       "    <tr>\n",
       "      <td>3220</td>\n",
       "      <td>1489</td>\n",
       "      <td>0.0</td>\n",
       "      <td>0</td>\n",
       "      <td>0</td>\n",
       "      <td>0</td>\n",
       "      <td>0</td>\n",
       "      <td>0</td>\n",
       "      <td>0</td>\n",
       "      <td>11.0</td>\n",
       "      <td>0.0</td>\n",
       "      <td>17516.0</td>\n",
       "      <td>20.0</td>\n",
       "      <td>0.0</td>\n",
       "      <td>0.0</td>\n",
       "      <td>0.0</td>\n",
       "      <td>0.0</td>\n",
       "      <td>0.0</td>\n",
       "      <td>0.0</td>\n",
       "      <td>0.0</td>\n",
       "      <td>0</td>\n",
       "      <td>0.0</td>\n",
       "      <td>0.00000</td>\n",
       "      <td>0.0</td>\n",
       "      <td>0.00000</td>\n",
       "    </tr>\n",
       "    <tr>\n",
       "      <td>3221</td>\n",
       "      <td>1489</td>\n",
       "      <td>0.0</td>\n",
       "      <td>0</td>\n",
       "      <td>0</td>\n",
       "      <td>0</td>\n",
       "      <td>0</td>\n",
       "      <td>0</td>\n",
       "      <td>0</td>\n",
       "      <td>12.0</td>\n",
       "      <td>0.0</td>\n",
       "      <td>17341.0</td>\n",
       "      <td>35.0</td>\n",
       "      <td>0.0</td>\n",
       "      <td>0.0</td>\n",
       "      <td>0.0</td>\n",
       "      <td>0.0</td>\n",
       "      <td>0.0</td>\n",
       "      <td>0.0</td>\n",
       "      <td>0.0</td>\n",
       "      <td>0</td>\n",
       "      <td>0.0</td>\n",
       "      <td>0.00000</td>\n",
       "      <td>0.0</td>\n",
       "      <td>0.00000</td>\n",
       "    </tr>\n",
       "  </tbody>\n",
       "</table>\n",
       "</div>"
      ],
      "text/plain": [
       "      user_id   age churn_date             city first_name     last_name  \\\n",
       "0        1000  52.0          0        Краснодар     Рафаил     Верещагин   \n",
       "1        1000  52.0          0        Краснодар     Рафаил     Верещагин   \n",
       "2        1000  52.0          0        Краснодар     Рафаил     Верещагин   \n",
       "299      1048  73.0          0      Новокузнецк       Лола     Мясникова   \n",
       "501      1079  20.0          0           Москва     Еремей       Авроров   \n",
       "631      1100  58.0          0  Санкт-Петербург     Руслан  Красильников   \n",
       "3219     1489   0.0          0                0          0             0   \n",
       "3220     1489   0.0          0                0          0             0   \n",
       "3221     1489   0.0          0                0          0             0   \n",
       "\n",
       "        reg_date tariff  month  duration  mb_used    id  messages_included  \\\n",
       "0     2018-05-25  ultra    5.0     159.0   2256.0  22.0             1000.0   \n",
       "1     2018-05-25  ultra    6.0     172.0  23257.0  60.0             1000.0   \n",
       "2     2018-05-25  ultra    7.0     340.0  14016.0  75.0             1000.0   \n",
       "299   2018-08-19  ultra   12.0     688.0   8186.0  78.0             1000.0   \n",
       "501   2018-05-15  smart   12.0     578.0  11156.0  35.0               50.0   \n",
       "631   2018-07-02  smart   11.0     530.0  17140.0  49.0               50.0   \n",
       "3219           0      0   10.0       0.0  19588.0  21.0                0.0   \n",
       "3220           0      0   11.0       0.0  17516.0  20.0                0.0   \n",
       "3221           0      0   12.0       0.0  17341.0  35.0                0.0   \n",
       "\n",
       "      mb_per_month_included  minutes_included  rub_monthly_fee  rub_per_gb  \\\n",
       "0                   30720.0            3000.0           1950.0       150.0   \n",
       "1                   30720.0            3000.0           1950.0       150.0   \n",
       "2                   30720.0            3000.0           1950.0       150.0   \n",
       "299                 30720.0            3000.0           1950.0       150.0   \n",
       "501                 15360.0             500.0            550.0       200.0   \n",
       "631                 15360.0             500.0            550.0       200.0   \n",
       "3219                    0.0               0.0              0.0         0.0   \n",
       "3220                    0.0               0.0              0.0         0.0   \n",
       "3221                    0.0               0.0              0.0         0.0   \n",
       "\n",
       "      rub_per_message  rub_per_minute tariff_name  min_over    mb_over  \\\n",
       "0                 1.0             1.0       ultra       0.0    0.00000   \n",
       "1                 1.0             1.0       ultra       0.0    0.00000   \n",
       "2                 1.0             1.0       ultra       0.0    0.00000   \n",
       "299               1.0             1.0       ultra       0.0    0.00000   \n",
       "501               3.0             3.0       smart     234.0    0.00000   \n",
       "631               3.0             3.0       smart      90.0  347.65625   \n",
       "3219              0.0             0.0           0       0.0    0.00000   \n",
       "3220              0.0             0.0           0       0.0    0.00000   \n",
       "3221              0.0             0.0           0       0.0    0.00000   \n",
       "\n",
       "      sms_over  month_revenue  \n",
       "0          0.0     1950.00000  \n",
       "1          0.0     1950.00000  \n",
       "2          0.0     1950.00000  \n",
       "299        0.0     1950.00000  \n",
       "501        0.0      784.00000  \n",
       "631        0.0      987.65625  \n",
       "3219       0.0        0.00000  \n",
       "3220       0.0        0.00000  \n",
       "3221       0.0        0.00000  "
      ]
     },
     "execution_count": 37,
     "metadata": {},
     "output_type": "execute_result"
    }
   ],
   "source": [
    "df['month_revenue'] = df['rub_monthly_fee'] + df['min_over'] + df['mb_over'] + df['sms_over']\n",
    "#df.sample(7, random_state=42)\n",
    "obzor(df, 3)"
   ]
  },
  {
   "cell_type": "markdown",
   "metadata": {},
   "source": [
    "Рассчитали для каждого пользователя выручку. "
   ]
  },
  {
   "cell_type": "code",
   "execution_count": 38,
   "metadata": {},
   "outputs": [],
   "source": [
    "df = df.rename(columns={'id':'sms_used'})   # переименовала столбец смс"
   ]
  },
  {
   "cell_type": "code",
   "execution_count": 39,
   "metadata": {},
   "outputs": [
    {
     "name": "stdout",
     "output_type": "stream",
     "text": [
      "<class 'pandas.core.frame.DataFrame'>\n",
      "Int64Index: 3222 entries, 0 to 3221\n",
      "Data columns (total 24 columns):\n",
      "user_id                  3222 non-null int64\n",
      "age                      3222 non-null float64\n",
      "churn_date               3222 non-null object\n",
      "city                     3222 non-null object\n",
      "first_name               3222 non-null object\n",
      "last_name                3222 non-null object\n",
      "reg_date                 3222 non-null object\n",
      "tariff                   3222 non-null object\n",
      "month                    3222 non-null float64\n",
      "duration                 3222 non-null float64\n",
      "mb_used                  3222 non-null float64\n",
      "sms_used                 3222 non-null float64\n",
      "messages_included        3222 non-null float64\n",
      "mb_per_month_included    3222 non-null float64\n",
      "minutes_included         3222 non-null float64\n",
      "rub_monthly_fee          3222 non-null float64\n",
      "rub_per_gb               3222 non-null float64\n",
      "rub_per_message          3222 non-null float64\n",
      "rub_per_minute           3222 non-null float64\n",
      "tariff_name              3222 non-null object\n",
      "min_over                 3222 non-null float64\n",
      "mb_over                  3222 non-null float64\n",
      "sms_over                 3222 non-null float64\n",
      "month_revenue            3222 non-null float64\n",
      "dtypes: float64(16), int64(1), object(7)\n",
      "memory usage: 629.3+ KB\n"
     ]
    }
   ],
   "source": [
    "df.info()"
   ]
  },
  {
   "cell_type": "code",
   "execution_count": 40,
   "metadata": {},
   "outputs": [
    {
     "data": {
      "text/html": [
       "<div>\n",
       "<style scoped>\n",
       "    .dataframe tbody tr th:only-of-type {\n",
       "        vertical-align: middle;\n",
       "    }\n",
       "\n",
       "    .dataframe tbody tr th {\n",
       "        vertical-align: top;\n",
       "    }\n",
       "\n",
       "    .dataframe thead th {\n",
       "        text-align: right;\n",
       "    }\n",
       "</style>\n",
       "<table border=\"1\" class=\"dataframe\">\n",
       "  <thead>\n",
       "    <tr style=\"text-align: right;\">\n",
       "      <th></th>\n",
       "      <th>user_id</th>\n",
       "      <th>age</th>\n",
       "      <th>month</th>\n",
       "      <th>duration</th>\n",
       "      <th>mb_used</th>\n",
       "      <th>sms_used</th>\n",
       "      <th>messages_included</th>\n",
       "      <th>mb_per_month_included</th>\n",
       "      <th>minutes_included</th>\n",
       "      <th>rub_monthly_fee</th>\n",
       "      <th>rub_per_gb</th>\n",
       "      <th>rub_per_message</th>\n",
       "      <th>rub_per_minute</th>\n",
       "      <th>min_over</th>\n",
       "      <th>mb_over</th>\n",
       "      <th>sms_over</th>\n",
       "      <th>month_revenue</th>\n",
       "    </tr>\n",
       "  </thead>\n",
       "  <tbody>\n",
       "    <tr>\n",
       "      <td>count</td>\n",
       "      <td>3222.000000</td>\n",
       "      <td>3222.000000</td>\n",
       "      <td>3222.000000</td>\n",
       "      <td>3222.000000</td>\n",
       "      <td>3222.000000</td>\n",
       "      <td>3222.000000</td>\n",
       "      <td>3222.000000</td>\n",
       "      <td>3222.000000</td>\n",
       "      <td>3222.000000</td>\n",
       "      <td>3222.000000</td>\n",
       "      <td>3222.000000</td>\n",
       "      <td>3222.000000</td>\n",
       "      <td>3222.000000</td>\n",
       "      <td>3222.000000</td>\n",
       "      <td>3222.000000</td>\n",
       "      <td>3222.000000</td>\n",
       "      <td>3222.000000</td>\n",
       "    </tr>\n",
       "    <tr>\n",
       "      <td>mean</td>\n",
       "      <td>1251.653631</td>\n",
       "      <td>46.006518</td>\n",
       "      <td>8.296710</td>\n",
       "      <td>450.124457</td>\n",
       "      <td>17184.810366</td>\n",
       "      <td>38.186220</td>\n",
       "      <td>330.276226</td>\n",
       "      <td>19683.873371</td>\n",
       "      <td>1232.309125</td>\n",
       "      <td>956.238361</td>\n",
       "      <td>182.355680</td>\n",
       "      <td>2.365611</td>\n",
       "      <td>2.365611</td>\n",
       "      <td>86.349162</td>\n",
       "      <td>406.334729</td>\n",
       "      <td>12.037244</td>\n",
       "      <td>1460.959497</td>\n",
       "    </tr>\n",
       "    <tr>\n",
       "      <td>std</td>\n",
       "      <td>144.681431</td>\n",
       "      <td>17.354843</td>\n",
       "      <td>2.931186</td>\n",
       "      <td>242.651130</td>\n",
       "      <td>7617.264263</td>\n",
       "      <td>36.153654</td>\n",
       "      <td>434.142824</td>\n",
       "      <td>7380.540758</td>\n",
       "      <td>1147.309884</td>\n",
       "      <td>647.414941</td>\n",
       "      <td>31.615022</td>\n",
       "      <td>0.953646</td>\n",
       "      <td>0.953646</td>\n",
       "      <td>219.001482</td>\n",
       "      <td>649.159004</td>\n",
       "      <td>34.489075</td>\n",
       "      <td>799.826880</td>\n",
       "    </tr>\n",
       "    <tr>\n",
       "      <td>min</td>\n",
       "      <td>1000.000000</td>\n",
       "      <td>0.000000</td>\n",
       "      <td>0.000000</td>\n",
       "      <td>0.000000</td>\n",
       "      <td>0.000000</td>\n",
       "      <td>0.000000</td>\n",
       "      <td>0.000000</td>\n",
       "      <td>0.000000</td>\n",
       "      <td>0.000000</td>\n",
       "      <td>0.000000</td>\n",
       "      <td>0.000000</td>\n",
       "      <td>0.000000</td>\n",
       "      <td>0.000000</td>\n",
       "      <td>0.000000</td>\n",
       "      <td>0.000000</td>\n",
       "      <td>0.000000</td>\n",
       "      <td>0.000000</td>\n",
       "    </tr>\n",
       "    <tr>\n",
       "      <td>25%</td>\n",
       "      <td>1125.000000</td>\n",
       "      <td>31.000000</td>\n",
       "      <td>6.000000</td>\n",
       "      <td>281.250000</td>\n",
       "      <td>12472.250000</td>\n",
       "      <td>9.000000</td>\n",
       "      <td>50.000000</td>\n",
       "      <td>15360.000000</td>\n",
       "      <td>500.000000</td>\n",
       "      <td>550.000000</td>\n",
       "      <td>150.000000</td>\n",
       "      <td>1.000000</td>\n",
       "      <td>1.000000</td>\n",
       "      <td>0.000000</td>\n",
       "      <td>0.000000</td>\n",
       "      <td>0.000000</td>\n",
       "      <td>665.283203</td>\n",
       "    </tr>\n",
       "    <tr>\n",
       "      <td>50%</td>\n",
       "      <td>1253.000000</td>\n",
       "      <td>46.000000</td>\n",
       "      <td>9.000000</td>\n",
       "      <td>442.500000</td>\n",
       "      <td>16940.500000</td>\n",
       "      <td>30.000000</td>\n",
       "      <td>50.000000</td>\n",
       "      <td>15360.000000</td>\n",
       "      <td>500.000000</td>\n",
       "      <td>550.000000</td>\n",
       "      <td>200.000000</td>\n",
       "      <td>3.000000</td>\n",
       "      <td>3.000000</td>\n",
       "      <td>0.000000</td>\n",
       "      <td>0.000000</td>\n",
       "      <td>0.000000</td>\n",
       "      <td>1504.882812</td>\n",
       "    </tr>\n",
       "    <tr>\n",
       "      <td>75%</td>\n",
       "      <td>1378.750000</td>\n",
       "      <td>62.000000</td>\n",
       "      <td>11.000000</td>\n",
       "      <td>588.750000</td>\n",
       "      <td>21438.000000</td>\n",
       "      <td>57.000000</td>\n",
       "      <td>1000.000000</td>\n",
       "      <td>30720.000000</td>\n",
       "      <td>3000.000000</td>\n",
       "      <td>1950.000000</td>\n",
       "      <td>200.000000</td>\n",
       "      <td>3.000000</td>\n",
       "      <td>3.000000</td>\n",
       "      <td>0.000000</td>\n",
       "      <td>679.003906</td>\n",
       "      <td>0.000000</td>\n",
       "      <td>1950.000000</td>\n",
       "    </tr>\n",
       "    <tr>\n",
       "      <td>max</td>\n",
       "      <td>1499.000000</td>\n",
       "      <td>75.000000</td>\n",
       "      <td>12.000000</td>\n",
       "      <td>1673.000000</td>\n",
       "      <td>49789.000000</td>\n",
       "      <td>224.000000</td>\n",
       "      <td>1000.000000</td>\n",
       "      <td>30720.000000</td>\n",
       "      <td>3000.000000</td>\n",
       "      <td>1950.000000</td>\n",
       "      <td>200.000000</td>\n",
       "      <td>3.000000</td>\n",
       "      <td>3.000000</td>\n",
       "      <td>2805.000000</td>\n",
       "      <td>4541.015625</td>\n",
       "      <td>279.000000</td>\n",
       "      <td>6711.015625</td>\n",
       "    </tr>\n",
       "  </tbody>\n",
       "</table>\n",
       "</div>"
      ],
      "text/plain": [
       "           user_id          age        month     duration       mb_used  \\\n",
       "count  3222.000000  3222.000000  3222.000000  3222.000000   3222.000000   \n",
       "mean   1251.653631    46.006518     8.296710   450.124457  17184.810366   \n",
       "std     144.681431    17.354843     2.931186   242.651130   7617.264263   \n",
       "min    1000.000000     0.000000     0.000000     0.000000      0.000000   \n",
       "25%    1125.000000    31.000000     6.000000   281.250000  12472.250000   \n",
       "50%    1253.000000    46.000000     9.000000   442.500000  16940.500000   \n",
       "75%    1378.750000    62.000000    11.000000   588.750000  21438.000000   \n",
       "max    1499.000000    75.000000    12.000000  1673.000000  49789.000000   \n",
       "\n",
       "          sms_used  messages_included  mb_per_month_included  \\\n",
       "count  3222.000000        3222.000000            3222.000000   \n",
       "mean     38.186220         330.276226           19683.873371   \n",
       "std      36.153654         434.142824            7380.540758   \n",
       "min       0.000000           0.000000               0.000000   \n",
       "25%       9.000000          50.000000           15360.000000   \n",
       "50%      30.000000          50.000000           15360.000000   \n",
       "75%      57.000000        1000.000000           30720.000000   \n",
       "max     224.000000        1000.000000           30720.000000   \n",
       "\n",
       "       minutes_included  rub_monthly_fee   rub_per_gb  rub_per_message  \\\n",
       "count       3222.000000      3222.000000  3222.000000      3222.000000   \n",
       "mean        1232.309125       956.238361   182.355680         2.365611   \n",
       "std         1147.309884       647.414941    31.615022         0.953646   \n",
       "min            0.000000         0.000000     0.000000         0.000000   \n",
       "25%          500.000000       550.000000   150.000000         1.000000   \n",
       "50%          500.000000       550.000000   200.000000         3.000000   \n",
       "75%         3000.000000      1950.000000   200.000000         3.000000   \n",
       "max         3000.000000      1950.000000   200.000000         3.000000   \n",
       "\n",
       "       rub_per_minute     min_over      mb_over     sms_over  month_revenue  \n",
       "count     3222.000000  3222.000000  3222.000000  3222.000000    3222.000000  \n",
       "mean         2.365611    86.349162   406.334729    12.037244    1460.959497  \n",
       "std          0.953646   219.001482   649.159004    34.489075     799.826880  \n",
       "min          0.000000     0.000000     0.000000     0.000000       0.000000  \n",
       "25%          1.000000     0.000000     0.000000     0.000000     665.283203  \n",
       "50%          3.000000     0.000000     0.000000     0.000000    1504.882812  \n",
       "75%          3.000000     0.000000   679.003906     0.000000    1950.000000  \n",
       "max          3.000000  2805.000000  4541.015625   279.000000    6711.015625  "
      ]
     },
     "execution_count": 40,
     "metadata": {},
     "output_type": "execute_result"
    }
   ],
   "source": [
    "df.describe()"
   ]
  },
  {
   "cell_type": "code",
   "execution_count": 41,
   "metadata": {},
   "outputs": [
    {
     "data": {
      "text/plain": [
       "639524.4889295655"
      ]
     },
     "execution_count": 41,
     "metadata": {},
     "output_type": "execute_result"
    }
   ],
   "source": [
    "np.var(df['month_revenue'])"
   ]
  },
  {
   "cell_type": "code",
   "execution_count": 42,
   "metadata": {},
   "outputs": [
    {
     "data": {
      "text/plain": [
       "799.7027503576347"
      ]
     },
     "execution_count": 42,
     "metadata": {},
     "output_type": "execute_result"
    }
   ],
   "source": [
    "np.std(df['month_revenue'])"
   ]
  },
  {
   "cell_type": "code",
   "execution_count": 43,
   "metadata": {},
   "outputs": [
    {
     "data": {
      "image/png": "[encoded data removed]",
      "text/plain": [
       "<Figure size 432x288 with 1 Axes>"
      ]
     },
     "metadata": {
      "needs_background": "light"
     },
     "output_type": "display_data"
    }
   ],
   "source": [
    "df['month_revenue'].hist(bins=100, alpha=0.7)\n",
    "plt.title('средняя выручка с каждого абонента, руб')\n",
    "plt.xlabel('руб')\n",
    "plt.axvline(df['month_revenue'].median(), c='orange')\n",
    "plt.axvline(df['month_revenue'].mean(), c='green')\n",
    "plt.show()"
   ]
  },
  {
   "cell_type": "markdown",
   "metadata": {},
   "source": [
    "Видим пики на абонплатах, платежи более 3000 весьма редки."
   ]
  },
  {
   "cell_type": "markdown",
   "metadata": {},
   "source": [
    "Логично предположить, что если стоимость тарифа с самой высокой платой равна 1950 рублям и 70% абонентов используют тариф за 550 рублей, то с очень низкой долей вероятности платеж будет больше 3000 рублей. <br> \n",
    "И работает ли тут правило 3х сигм? Если я правильно поняла: среднее 1460, медиана 1500, стандартное отклонение 800. Тогда по правилу трёх сигм выручка в 99% случаев будет в интервале между -940 и 3860 (1460-800*3; 1460+800*3). И значит платежи свыше 3860 очень-очень маловероятны."
   ]
  },
  {
   "cell_type": "markdown",
   "metadata": {},
   "source": [
    "## Анализ"
   ]
  },
  {
   "cell_type": "code",
   "execution_count": 44,
   "metadata": {},
   "outputs": [
    {
     "data": {
      "text/plain": [
       "smart    0.689944\n",
       "ultra    0.295779\n",
       "0        0.014277\n",
       "Name: tariff_name, dtype: float64"
      ]
     },
     "execution_count": 44,
     "metadata": {},
     "output_type": "execute_result"
    }
   ],
   "source": [
    "df['tariff_name'].value_counts(normalize=True)"
   ]
  },
  {
   "cell_type": "markdown",
   "metadata": {},
   "source": [
    "69% используют тариф Смарт, 30% - Ультра. Еще откуда-то появился ноль?.."
   ]
  },
  {
   "cell_type": "code",
   "execution_count": 45,
   "metadata": {},
   "outputs": [
    {
     "data": {
      "text/plain": [
       "0"
      ]
     },
     "execution_count": 45,
     "metadata": {},
     "output_type": "execute_result"
    }
   ],
   "source": [
    "df[(df['tariff_name'].isnull())]    # пусто? О_о\n",
    "df.tariff.isna().any().sum()"
   ]
  },
  {
   "cell_type": "code",
   "execution_count": 46,
   "metadata": {},
   "outputs": [
    {
     "data": {
      "text/html": [
       "<div>\n",
       "<style scoped>\n",
       "    .dataframe tbody tr th:only-of-type {\n",
       "        vertical-align: middle;\n",
       "    }\n",
       "\n",
       "    .dataframe tbody tr th {\n",
       "        vertical-align: top;\n",
       "    }\n",
       "\n",
       "    .dataframe thead th {\n",
       "        text-align: right;\n",
       "    }\n",
       "</style>\n",
       "<table border=\"1\" class=\"dataframe\">\n",
       "  <thead>\n",
       "    <tr style=\"text-align: right;\">\n",
       "      <th></th>\n",
       "      <th>user_id</th>\n",
       "      <th>age</th>\n",
       "      <th>churn_date</th>\n",
       "      <th>city</th>\n",
       "      <th>first_name</th>\n",
       "      <th>last_name</th>\n",
       "      <th>reg_date</th>\n",
       "      <th>tariff</th>\n",
       "      <th>month</th>\n",
       "      <th>duration</th>\n",
       "      <th>mb_used</th>\n",
       "      <th>sms_used</th>\n",
       "      <th>messages_included</th>\n",
       "      <th>mb_per_month_included</th>\n",
       "      <th>minutes_included</th>\n",
       "      <th>rub_monthly_fee</th>\n",
       "      <th>rub_per_gb</th>\n",
       "      <th>rub_per_message</th>\n",
       "      <th>rub_per_minute</th>\n",
       "      <th>tariff_name</th>\n",
       "      <th>min_over</th>\n",
       "      <th>mb_over</th>\n",
       "      <th>sms_over</th>\n",
       "      <th>month_revenue</th>\n",
       "    </tr>\n",
       "  </thead>\n",
       "  <tbody>\n",
       "  </tbody>\n",
       "</table>\n",
       "</div>"
      ],
      "text/plain": [
       "Empty DataFrame\n",
       "Columns: [user_id, age, churn_date, city, first_name, last_name, reg_date, tariff, month, duration, mb_used, sms_used, messages_included, mb_per_month_included, minutes_included, rub_monthly_fee, rub_per_gb, rub_per_message, rub_per_minute, tariff_name, min_over, mb_over, sms_over, month_revenue]\n",
       "Index: []"
      ]
     },
     "execution_count": 46,
     "metadata": {},
     "output_type": "execute_result"
    }
   ],
   "source": [
    "df[df['tariff_name'].isna()]     # и где этот ноль?"
   ]
  },
  {
   "cell_type": "code",
   "execution_count": 47,
   "metadata": {},
   "outputs": [
    {
     "data": {
      "text/html": [
       "<div>\n",
       "<style scoped>\n",
       "    .dataframe tbody tr th:only-of-type {\n",
       "        vertical-align: middle;\n",
       "    }\n",
       "\n",
       "    .dataframe tbody tr th {\n",
       "        vertical-align: top;\n",
       "    }\n",
       "\n",
       "    .dataframe thead tr th {\n",
       "        text-align: left;\n",
       "    }\n",
       "</style>\n",
       "<table border=\"1\" class=\"dataframe\">\n",
       "  <thead>\n",
       "    <tr>\n",
       "      <th></th>\n",
       "      <th>tariff_name</th>\n",
       "      <th>duration</th>\n",
       "      <th>mb_over</th>\n",
       "      <th>sms_over</th>\n",
       "    </tr>\n",
       "    <tr>\n",
       "      <th></th>\n",
       "      <th></th>\n",
       "      <th>sum</th>\n",
       "      <th>sum</th>\n",
       "      <th>sum</th>\n",
       "    </tr>\n",
       "  </thead>\n",
       "  <tbody>\n",
       "    <tr>\n",
       "      <td>0</td>\n",
       "      <td>0</td>\n",
       "      <td>0.0</td>\n",
       "      <td>0.000000e+00</td>\n",
       "      <td>0.0</td>\n",
       "    </tr>\n",
       "    <tr>\n",
       "      <td>1</td>\n",
       "      <td>smart</td>\n",
       "      <td>931577.0</td>\n",
       "      <td>1.203201e+06</td>\n",
       "      <td>38784.0</td>\n",
       "    </tr>\n",
       "    <tr>\n",
       "      <td>2</td>\n",
       "      <td>ultra</td>\n",
       "      <td>518724.0</td>\n",
       "      <td>1.060091e+05</td>\n",
       "      <td>0.0</td>\n",
       "    </tr>\n",
       "  </tbody>\n",
       "</table>\n",
       "</div>"
      ],
      "text/plain": [
       "  tariff_name  duration       mb_over sms_over\n",
       "                    sum           sum      sum\n",
       "0           0       0.0  0.000000e+00      0.0\n",
       "1       smart  931577.0  1.203201e+06  38784.0\n",
       "2       ultra  518724.0  1.060091e+05      0.0"
      ]
     },
     "execution_count": 47,
     "metadata": {},
     "output_type": "execute_result"
    }
   ],
   "source": [
    "df.groupby(['tariff_name'])['duration', 'mb_over', 'sms_over'].agg(['sum']).reset_index()"
   ]
  },
  {
   "cell_type": "markdown",
   "metadata": {},
   "source": [
    "Какие берут услуги сверх пакета : Смарт - все услуги, Ультра - намного меньше доп минут (достаточное количество включено в тариф), нет доп смс."
   ]
  },
  {
   "cell_type": "code",
   "execution_count": 48,
   "metadata": {},
   "outputs": [
    {
     "data": {
      "text/plain": [
       "4707211.498046875"
      ]
     },
     "execution_count": 48,
     "metadata": {},
     "output_type": "execute_result"
    }
   ],
   "source": [
    "year_revenue = df['month_revenue'].sum()\n",
    "year_revenue "
   ]
  },
  {
   "cell_type": "code",
   "execution_count": 49,
   "metadata": {},
   "outputs": [
    {
     "data": {
      "text/html": [
       "<div>\n",
       "<style scoped>\n",
       "    .dataframe tbody tr th:only-of-type {\n",
       "        vertical-align: middle;\n",
       "    }\n",
       "\n",
       "    .dataframe tbody tr th {\n",
       "        vertical-align: top;\n",
       "    }\n",
       "\n",
       "    .dataframe thead th {\n",
       "        text-align: right;\n",
       "    }\n",
       "</style>\n",
       "<table border=\"1\" class=\"dataframe\">\n",
       "  <thead>\n",
       "    <tr style=\"text-align: right;\">\n",
       "      <th></th>\n",
       "      <th>sum</th>\n",
       "      <th>mean</th>\n",
       "    </tr>\n",
       "    <tr>\n",
       "      <th>tariff_name</th>\n",
       "      <th></th>\n",
       "      <th></th>\n",
       "    </tr>\n",
       "  </thead>\n",
       "  <tbody>\n",
       "    <tr>\n",
       "      <td>0</td>\n",
       "      <td>0.000000e+00</td>\n",
       "      <td>0.000000</td>\n",
       "    </tr>\n",
       "    <tr>\n",
       "      <td>smart</td>\n",
       "      <td>2.742852e+06</td>\n",
       "      <td>1233.851717</td>\n",
       "    </tr>\n",
       "    <tr>\n",
       "      <td>ultra</td>\n",
       "      <td>1.964359e+06</td>\n",
       "      <td>2061.237283</td>\n",
       "    </tr>\n",
       "  </tbody>\n",
       "</table>\n",
       "</div>"
      ],
      "text/plain": [
       "                      sum         mean\n",
       "tariff_name                           \n",
       "0            0.000000e+00     0.000000\n",
       "smart        2.742852e+06  1233.851717\n",
       "ultra        1.964359e+06  2061.237283"
      ]
     },
     "execution_count": 49,
     "metadata": {},
     "output_type": "execute_result"
    }
   ],
   "source": [
    "df.groupby(['tariff_name'])['month_revenue'].agg(['sum', 'mean'])"
   ]
  },
  {
   "cell_type": "markdown",
   "metadata": {},
   "source": [
    "Большую долю дохода приносит тариф Смарт, ведь около 70% клиентов используют его. <br> \n",
    "Общая выручка за год - 4,7 млн руб. <br>\n",
    "По тарифу Смарт - 2,74 млн <br>\n",
    "По тарифу Ультра - 1,96 млн <br>\n",
    "Средний платеж в месяц на 60% меньше (1234 р) по сравнению с тарифом Ультра (2061 р)."
   ]
  },
  {
   "cell_type": "code",
   "execution_count": 50,
   "metadata": {},
   "outputs": [
    {
     "data": {
      "text/html": [
       "<style  type=\"text/css\" >\n",
       "</style><table id=\"T_15ad0b08_7851_11eb_905a_02420a39b8d0\" ><thead>    <tr>        <th class=\"blank level0\" ></th>        <th class=\"col_heading level0 col0\" >duration</th>        <th class=\"col_heading level0 col1\" >mb_used</th>        <th class=\"col_heading level0 col2\" >sms_used</th>        <th class=\"col_heading level0 col3\" >month_revenue</th>    </tr></thead><tbody>\n",
       "                <tr>\n",
       "                        <th id=\"T_15ad0b08_7851_11eb_905a_02420a39b8d0level0_row0\" class=\"row_heading level0 row0\" >count</th>\n",
       "                        <td id=\"T_15ad0b08_7851_11eb_905a_02420a39b8d0row0_col0\" class=\"data row0 col0\" >3222.00</td>\n",
       "                        <td id=\"T_15ad0b08_7851_11eb_905a_02420a39b8d0row0_col1\" class=\"data row0 col1\" >3222.00</td>\n",
       "                        <td id=\"T_15ad0b08_7851_11eb_905a_02420a39b8d0row0_col2\" class=\"data row0 col2\" >3222.00</td>\n",
       "                        <td id=\"T_15ad0b08_7851_11eb_905a_02420a39b8d0row0_col3\" class=\"data row0 col3\" >3222.00</td>\n",
       "            </tr>\n",
       "            <tr>\n",
       "                        <th id=\"T_15ad0b08_7851_11eb_905a_02420a39b8d0level0_row1\" class=\"row_heading level0 row1\" >mean</th>\n",
       "                        <td id=\"T_15ad0b08_7851_11eb_905a_02420a39b8d0row1_col0\" class=\"data row1 col0\" >450.12</td>\n",
       "                        <td id=\"T_15ad0b08_7851_11eb_905a_02420a39b8d0row1_col1\" class=\"data row1 col1\" >17184.81</td>\n",
       "                        <td id=\"T_15ad0b08_7851_11eb_905a_02420a39b8d0row1_col2\" class=\"data row1 col2\" >38.19</td>\n",
       "                        <td id=\"T_15ad0b08_7851_11eb_905a_02420a39b8d0row1_col3\" class=\"data row1 col3\" >1460.96</td>\n",
       "            </tr>\n",
       "            <tr>\n",
       "                        <th id=\"T_15ad0b08_7851_11eb_905a_02420a39b8d0level0_row2\" class=\"row_heading level0 row2\" >std</th>\n",
       "                        <td id=\"T_15ad0b08_7851_11eb_905a_02420a39b8d0row2_col0\" class=\"data row2 col0\" >242.65</td>\n",
       "                        <td id=\"T_15ad0b08_7851_11eb_905a_02420a39b8d0row2_col1\" class=\"data row2 col1\" >7617.26</td>\n",
       "                        <td id=\"T_15ad0b08_7851_11eb_905a_02420a39b8d0row2_col2\" class=\"data row2 col2\" >36.15</td>\n",
       "                        <td id=\"T_15ad0b08_7851_11eb_905a_02420a39b8d0row2_col3\" class=\"data row2 col3\" >799.83</td>\n",
       "            </tr>\n",
       "            <tr>\n",
       "                        <th id=\"T_15ad0b08_7851_11eb_905a_02420a39b8d0level0_row3\" class=\"row_heading level0 row3\" >min</th>\n",
       "                        <td id=\"T_15ad0b08_7851_11eb_905a_02420a39b8d0row3_col0\" class=\"data row3 col0\" >0.00</td>\n",
       "                        <td id=\"T_15ad0b08_7851_11eb_905a_02420a39b8d0row3_col1\" class=\"data row3 col1\" >0.00</td>\n",
       "                        <td id=\"T_15ad0b08_7851_11eb_905a_02420a39b8d0row3_col2\" class=\"data row3 col2\" >0.00</td>\n",
       "                        <td id=\"T_15ad0b08_7851_11eb_905a_02420a39b8d0row3_col3\" class=\"data row3 col3\" >0.00</td>\n",
       "            </tr>\n",
       "            <tr>\n",
       "                        <th id=\"T_15ad0b08_7851_11eb_905a_02420a39b8d0level0_row4\" class=\"row_heading level0 row4\" >25%</th>\n",
       "                        <td id=\"T_15ad0b08_7851_11eb_905a_02420a39b8d0row4_col0\" class=\"data row4 col0\" >281.25</td>\n",
       "                        <td id=\"T_15ad0b08_7851_11eb_905a_02420a39b8d0row4_col1\" class=\"data row4 col1\" >12472.25</td>\n",
       "                        <td id=\"T_15ad0b08_7851_11eb_905a_02420a39b8d0row4_col2\" class=\"data row4 col2\" >9.00</td>\n",
       "                        <td id=\"T_15ad0b08_7851_11eb_905a_02420a39b8d0row4_col3\" class=\"data row4 col3\" >665.28</td>\n",
       "            </tr>\n",
       "            <tr>\n",
       "                        <th id=\"T_15ad0b08_7851_11eb_905a_02420a39b8d0level0_row5\" class=\"row_heading level0 row5\" >50%</th>\n",
       "                        <td id=\"T_15ad0b08_7851_11eb_905a_02420a39b8d0row5_col0\" class=\"data row5 col0\" >442.50</td>\n",
       "                        <td id=\"T_15ad0b08_7851_11eb_905a_02420a39b8d0row5_col1\" class=\"data row5 col1\" >16940.50</td>\n",
       "                        <td id=\"T_15ad0b08_7851_11eb_905a_02420a39b8d0row5_col2\" class=\"data row5 col2\" >30.00</td>\n",
       "                        <td id=\"T_15ad0b08_7851_11eb_905a_02420a39b8d0row5_col3\" class=\"data row5 col3\" >1504.88</td>\n",
       "            </tr>\n",
       "            <tr>\n",
       "                        <th id=\"T_15ad0b08_7851_11eb_905a_02420a39b8d0level0_row6\" class=\"row_heading level0 row6\" >75%</th>\n",
       "                        <td id=\"T_15ad0b08_7851_11eb_905a_02420a39b8d0row6_col0\" class=\"data row6 col0\" >588.75</td>\n",
       "                        <td id=\"T_15ad0b08_7851_11eb_905a_02420a39b8d0row6_col1\" class=\"data row6 col1\" >21438.00</td>\n",
       "                        <td id=\"T_15ad0b08_7851_11eb_905a_02420a39b8d0row6_col2\" class=\"data row6 col2\" >57.00</td>\n",
       "                        <td id=\"T_15ad0b08_7851_11eb_905a_02420a39b8d0row6_col3\" class=\"data row6 col3\" >1950.00</td>\n",
       "            </tr>\n",
       "            <tr>\n",
       "                        <th id=\"T_15ad0b08_7851_11eb_905a_02420a39b8d0level0_row7\" class=\"row_heading level0 row7\" >max</th>\n",
       "                        <td id=\"T_15ad0b08_7851_11eb_905a_02420a39b8d0row7_col0\" class=\"data row7 col0\" >1673.00</td>\n",
       "                        <td id=\"T_15ad0b08_7851_11eb_905a_02420a39b8d0row7_col1\" class=\"data row7 col1\" >49789.00</td>\n",
       "                        <td id=\"T_15ad0b08_7851_11eb_905a_02420a39b8d0row7_col2\" class=\"data row7 col2\" >224.00</td>\n",
       "                        <td id=\"T_15ad0b08_7851_11eb_905a_02420a39b8d0row7_col3\" class=\"data row7 col3\" >6711.02</td>\n",
       "            </tr>\n",
       "    </tbody></table>"
      ],
      "text/plain": [
       "<pandas.io.formats.style.Styler at 0x7f1c04078250>"
      ]
     },
     "execution_count": 50,
     "metadata": {},
     "output_type": "execute_result"
    }
   ],
   "source": [
    "df[['duration', 'mb_used', 'sms_used', 'month_revenue']].describe().style.format('{:.2f}')"
   ]
  },
  {
   "cell_type": "markdown",
   "metadata": {},
   "source": [
    "### Тариф Смарт"
   ]
  },
  {
   "cell_type": "code",
   "execution_count": 51,
   "metadata": {},
   "outputs": [
    {
     "data": {
      "text/html": [
       "<div>\n",
       "<style scoped>\n",
       "    .dataframe tbody tr th:only-of-type {\n",
       "        vertical-align: middle;\n",
       "    }\n",
       "\n",
       "    .dataframe tbody tr th {\n",
       "        vertical-align: top;\n",
       "    }\n",
       "\n",
       "    .dataframe thead th {\n",
       "        text-align: right;\n",
       "    }\n",
       "</style>\n",
       "<table border=\"1\" class=\"dataframe\">\n",
       "  <thead>\n",
       "    <tr style=\"text-align: right;\">\n",
       "      <th></th>\n",
       "      <th>user_id</th>\n",
       "      <th>age</th>\n",
       "      <th>churn_date</th>\n",
       "      <th>city</th>\n",
       "      <th>first_name</th>\n",
       "      <th>last_name</th>\n",
       "      <th>reg_date</th>\n",
       "      <th>tariff</th>\n",
       "      <th>month</th>\n",
       "      <th>duration</th>\n",
       "      <th>mb_used</th>\n",
       "      <th>sms_used</th>\n",
       "      <th>messages_included</th>\n",
       "      <th>mb_per_month_included</th>\n",
       "      <th>minutes_included</th>\n",
       "      <th>rub_monthly_fee</th>\n",
       "      <th>rub_per_gb</th>\n",
       "      <th>rub_per_message</th>\n",
       "      <th>rub_per_minute</th>\n",
       "      <th>tariff_name</th>\n",
       "      <th>min_over</th>\n",
       "      <th>mb_over</th>\n",
       "      <th>sms_over</th>\n",
       "      <th>month_revenue</th>\n",
       "    </tr>\n",
       "  </thead>\n",
       "  <tbody>\n",
       "    <tr>\n",
       "      <td>683</td>\n",
       "      <td>1109</td>\n",
       "      <td>64.0</td>\n",
       "      <td>0</td>\n",
       "      <td>Санкт-Петербург</td>\n",
       "      <td>Екатерина</td>\n",
       "      <td>Андрющенко</td>\n",
       "      <td>2018-02-23</td>\n",
       "      <td>smart</td>\n",
       "      <td>12.0</td>\n",
       "      <td>471.0</td>\n",
       "      <td>15679.0</td>\n",
       "      <td>2.0</td>\n",
       "      <td>50.0</td>\n",
       "      <td>15360.0</td>\n",
       "      <td>500.0</td>\n",
       "      <td>550.0</td>\n",
       "      <td>200.0</td>\n",
       "      <td>3.0</td>\n",
       "      <td>3.0</td>\n",
       "      <td>smart</td>\n",
       "      <td>0.0</td>\n",
       "      <td>62.304688</td>\n",
       "      <td>0.0</td>\n",
       "      <td>612.304688</td>\n",
       "    </tr>\n",
       "    <tr>\n",
       "      <td>860</td>\n",
       "      <td>1138</td>\n",
       "      <td>23.0</td>\n",
       "      <td>0</td>\n",
       "      <td>Екатеринбург</td>\n",
       "      <td>Леся</td>\n",
       "      <td>Ерофеева</td>\n",
       "      <td>2018-07-13</td>\n",
       "      <td>smart</td>\n",
       "      <td>9.0</td>\n",
       "      <td>701.0</td>\n",
       "      <td>23789.0</td>\n",
       "      <td>2.0</td>\n",
       "      <td>50.0</td>\n",
       "      <td>15360.0</td>\n",
       "      <td>500.0</td>\n",
       "      <td>550.0</td>\n",
       "      <td>200.0</td>\n",
       "      <td>3.0</td>\n",
       "      <td>3.0</td>\n",
       "      <td>smart</td>\n",
       "      <td>603.0</td>\n",
       "      <td>1646.289062</td>\n",
       "      <td>0.0</td>\n",
       "      <td>2799.289062</td>\n",
       "    </tr>\n",
       "    <tr>\n",
       "      <td>746</td>\n",
       "      <td>1119</td>\n",
       "      <td>53.0</td>\n",
       "      <td>0</td>\n",
       "      <td>Петрозаводск</td>\n",
       "      <td>Олег</td>\n",
       "      <td>Сухарев</td>\n",
       "      <td>2018-04-22</td>\n",
       "      <td>smart</td>\n",
       "      <td>8.0</td>\n",
       "      <td>272.0</td>\n",
       "      <td>16485.0</td>\n",
       "      <td>51.0</td>\n",
       "      <td>50.0</td>\n",
       "      <td>15360.0</td>\n",
       "      <td>500.0</td>\n",
       "      <td>550.0</td>\n",
       "      <td>200.0</td>\n",
       "      <td>3.0</td>\n",
       "      <td>3.0</td>\n",
       "      <td>smart</td>\n",
       "      <td>0.0</td>\n",
       "      <td>219.726562</td>\n",
       "      <td>3.0</td>\n",
       "      <td>772.726562</td>\n",
       "    </tr>\n",
       "    <tr>\n",
       "      <td>453</td>\n",
       "      <td>1071</td>\n",
       "      <td>20.0</td>\n",
       "      <td>2018-08-31</td>\n",
       "      <td>Омск</td>\n",
       "      <td>Гектор</td>\n",
       "      <td>Чумаков</td>\n",
       "      <td>2018-01-09</td>\n",
       "      <td>smart</td>\n",
       "      <td>5.0</td>\n",
       "      <td>365.0</td>\n",
       "      <td>14627.0</td>\n",
       "      <td>8.0</td>\n",
       "      <td>50.0</td>\n",
       "      <td>15360.0</td>\n",
       "      <td>500.0</td>\n",
       "      <td>550.0</td>\n",
       "      <td>200.0</td>\n",
       "      <td>3.0</td>\n",
       "      <td>3.0</td>\n",
       "      <td>smart</td>\n",
       "      <td>0.0</td>\n",
       "      <td>0.000000</td>\n",
       "      <td>0.0</td>\n",
       "      <td>550.000000</td>\n",
       "    </tr>\n",
       "    <tr>\n",
       "      <td>3172</td>\n",
       "      <td>1499</td>\n",
       "      <td>35.0</td>\n",
       "      <td>0</td>\n",
       "      <td>Пермь</td>\n",
       "      <td>Гектор</td>\n",
       "      <td>Корнилов</td>\n",
       "      <td>2018-09-27</td>\n",
       "      <td>smart</td>\n",
       "      <td>9.0</td>\n",
       "      <td>70.0</td>\n",
       "      <td>1848.0</td>\n",
       "      <td>11.0</td>\n",
       "      <td>50.0</td>\n",
       "      <td>15360.0</td>\n",
       "      <td>500.0</td>\n",
       "      <td>550.0</td>\n",
       "      <td>200.0</td>\n",
       "      <td>3.0</td>\n",
       "      <td>3.0</td>\n",
       "      <td>smart</td>\n",
       "      <td>0.0</td>\n",
       "      <td>0.000000</td>\n",
       "      <td>0.0</td>\n",
       "      <td>550.000000</td>\n",
       "    </tr>\n",
       "    <tr>\n",
       "      <td>2932</td>\n",
       "      <td>1460</td>\n",
       "      <td>64.0</td>\n",
       "      <td>0</td>\n",
       "      <td>Ижевск</td>\n",
       "      <td>Арина</td>\n",
       "      <td>Абашкина</td>\n",
       "      <td>2018-04-06</td>\n",
       "      <td>smart</td>\n",
       "      <td>12.0</td>\n",
       "      <td>671.0</td>\n",
       "      <td>14277.0</td>\n",
       "      <td>45.0</td>\n",
       "      <td>50.0</td>\n",
       "      <td>15360.0</td>\n",
       "      <td>500.0</td>\n",
       "      <td>550.0</td>\n",
       "      <td>200.0</td>\n",
       "      <td>3.0</td>\n",
       "      <td>3.0</td>\n",
       "      <td>smart</td>\n",
       "      <td>513.0</td>\n",
       "      <td>0.000000</td>\n",
       "      <td>0.0</td>\n",
       "      <td>1063.000000</td>\n",
       "    </tr>\n",
       "    <tr>\n",
       "      <td>359</td>\n",
       "      <td>1056</td>\n",
       "      <td>73.0</td>\n",
       "      <td>2018-10-14</td>\n",
       "      <td>Иркутск</td>\n",
       "      <td>Радислав</td>\n",
       "      <td>Артемьев</td>\n",
       "      <td>2018-04-13</td>\n",
       "      <td>smart</td>\n",
       "      <td>10.0</td>\n",
       "      <td>140.0</td>\n",
       "      <td>8682.0</td>\n",
       "      <td>16.0</td>\n",
       "      <td>50.0</td>\n",
       "      <td>15360.0</td>\n",
       "      <td>500.0</td>\n",
       "      <td>550.0</td>\n",
       "      <td>200.0</td>\n",
       "      <td>3.0</td>\n",
       "      <td>3.0</td>\n",
       "      <td>smart</td>\n",
       "      <td>0.0</td>\n",
       "      <td>0.000000</td>\n",
       "      <td>0.0</td>\n",
       "      <td>550.000000</td>\n",
       "    </tr>\n",
       "  </tbody>\n",
       "</table>\n",
       "</div>"
      ],
      "text/plain": [
       "      user_id   age  churn_date             city first_name   last_name  \\\n",
       "683      1109  64.0           0  Санкт-Петербург  Екатерина  Андрющенко   \n",
       "860      1138  23.0           0     Екатеринбург       Леся    Ерофеева   \n",
       "746      1119  53.0           0     Петрозаводск       Олег     Сухарев   \n",
       "453      1071  20.0  2018-08-31             Омск     Гектор     Чумаков   \n",
       "3172     1499  35.0           0            Пермь     Гектор    Корнилов   \n",
       "2932     1460  64.0           0           Ижевск      Арина    Абашкина   \n",
       "359      1056  73.0  2018-10-14          Иркутск   Радислав    Артемьев   \n",
       "\n",
       "        reg_date tariff  month  duration  mb_used  sms_used  \\\n",
       "683   2018-02-23  smart   12.0     471.0  15679.0       2.0   \n",
       "860   2018-07-13  smart    9.0     701.0  23789.0       2.0   \n",
       "746   2018-04-22  smart    8.0     272.0  16485.0      51.0   \n",
       "453   2018-01-09  smart    5.0     365.0  14627.0       8.0   \n",
       "3172  2018-09-27  smart    9.0      70.0   1848.0      11.0   \n",
       "2932  2018-04-06  smart   12.0     671.0  14277.0      45.0   \n",
       "359   2018-04-13  smart   10.0     140.0   8682.0      16.0   \n",
       "\n",
       "      messages_included  mb_per_month_included  minutes_included  \\\n",
       "683                50.0                15360.0             500.0   \n",
       "860                50.0                15360.0             500.0   \n",
       "746                50.0                15360.0             500.0   \n",
       "453                50.0                15360.0             500.0   \n",
       "3172               50.0                15360.0             500.0   \n",
       "2932               50.0                15360.0             500.0   \n",
       "359                50.0                15360.0             500.0   \n",
       "\n",
       "      rub_monthly_fee  rub_per_gb  rub_per_message  rub_per_minute  \\\n",
       "683             550.0       200.0              3.0             3.0   \n",
       "860             550.0       200.0              3.0             3.0   \n",
       "746             550.0       200.0              3.0             3.0   \n",
       "453             550.0       200.0              3.0             3.0   \n",
       "3172            550.0       200.0              3.0             3.0   \n",
       "2932            550.0       200.0              3.0             3.0   \n",
       "359             550.0       200.0              3.0             3.0   \n",
       "\n",
       "     tariff_name  min_over      mb_over  sms_over  month_revenue  \n",
       "683        smart       0.0    62.304688       0.0     612.304688  \n",
       "860        smart     603.0  1646.289062       0.0    2799.289062  \n",
       "746        smart       0.0   219.726562       3.0     772.726562  \n",
       "453        smart       0.0     0.000000       0.0     550.000000  \n",
       "3172       smart       0.0     0.000000       0.0     550.000000  \n",
       "2932       smart     513.0     0.000000       0.0    1063.000000  \n",
       "359        smart       0.0     0.000000       0.0     550.000000  "
      ]
     },
     "execution_count": 51,
     "metadata": {},
     "output_type": "execute_result"
    }
   ],
   "source": [
    "smart_month = df.query('tariff_name == \"smart\"')\n",
    "ultra_month = df.query('tariff_name == \"ultra\"')\n",
    "smart_month.sample(7)"
   ]
  },
  {
   "cell_type": "code",
   "execution_count": 52,
   "metadata": {},
   "outputs": [
    {
     "name": "stdout",
     "output_type": "stream",
     "text": [
      "<class 'pandas.core.frame.DataFrame'>\n",
      "Int64Index: 2223 entries, 8 to 3175\n",
      "Data columns (total 24 columns):\n",
      "user_id                  2223 non-null int64\n",
      "age                      2223 non-null float64\n",
      "churn_date               2223 non-null object\n",
      "city                     2223 non-null object\n",
      "first_name               2223 non-null object\n",
      "last_name                2223 non-null object\n",
      "reg_date                 2223 non-null object\n",
      "tariff                   2223 non-null object\n",
      "month                    2223 non-null float64\n",
      "duration                 2223 non-null float64\n",
      "mb_used                  2223 non-null float64\n",
      "sms_used                 2223 non-null float64\n",
      "messages_included        2223 non-null float64\n",
      "mb_per_month_included    2223 non-null float64\n",
      "minutes_included         2223 non-null float64\n",
      "rub_monthly_fee          2223 non-null float64\n",
      "rub_per_gb               2223 non-null float64\n",
      "rub_per_message          2223 non-null float64\n",
      "rub_per_minute           2223 non-null float64\n",
      "tariff_name              2223 non-null object\n",
      "min_over                 2223 non-null float64\n",
      "mb_over                  2223 non-null float64\n",
      "sms_over                 2223 non-null float64\n",
      "month_revenue            2223 non-null float64\n",
      "dtypes: float64(16), int64(1), object(7)\n",
      "memory usage: 434.2+ KB\n"
     ]
    }
   ],
   "source": [
    "smart_month.info()"
   ]
  },
  {
   "cell_type": "code",
   "execution_count": 53,
   "metadata": {},
   "outputs": [
    {
     "data": {
      "text/html": [
       "<style  type=\"text/css\" >\n",
       "</style><table id=\"T_15b5c3f6_7851_11eb_905a_02420a39b8d0\" ><thead>    <tr>        <th class=\"blank level0\" ></th>        <th class=\"col_heading level0 col0\" >duration</th>        <th class=\"col_heading level0 col1\" >mb_used</th>        <th class=\"col_heading level0 col2\" >sms_used</th>        <th class=\"col_heading level0 col3\" >month_revenue</th>    </tr></thead><tbody>\n",
       "                <tr>\n",
       "                        <th id=\"T_15b5c3f6_7851_11eb_905a_02420a39b8d0level0_row0\" class=\"row_heading level0 row0\" >count</th>\n",
       "                        <td id=\"T_15b5c3f6_7851_11eb_905a_02420a39b8d0row0_col0\" class=\"data row0 col0\" >2223.00</td>\n",
       "                        <td id=\"T_15b5c3f6_7851_11eb_905a_02420a39b8d0row0_col1\" class=\"data row0 col1\" >2223.00</td>\n",
       "                        <td id=\"T_15b5c3f6_7851_11eb_905a_02420a39b8d0row0_col2\" class=\"data row0 col2\" >2223.00</td>\n",
       "                        <td id=\"T_15b5c3f6_7851_11eb_905a_02420a39b8d0row0_col3\" class=\"data row0 col3\" >2223.00</td>\n",
       "            </tr>\n",
       "            <tr>\n",
       "                        <th id=\"T_15b5c3f6_7851_11eb_905a_02420a39b8d0level0_row1\" class=\"row_heading level0 row1\" >mean</th>\n",
       "                        <td id=\"T_15b5c3f6_7851_11eb_905a_02420a39b8d0row1_col0\" class=\"data row1 col0\" >419.06</td>\n",
       "                        <td id=\"T_15b5c3f6_7851_11eb_905a_02420a39b8d0row1_col1\" class=\"data row1 col1\" >16216.86</td>\n",
       "                        <td id=\"T_15b5c3f6_7851_11eb_905a_02420a39b8d0row1_col2\" class=\"data row1 col2\" >33.36</td>\n",
       "                        <td id=\"T_15b5c3f6_7851_11eb_905a_02420a39b8d0row1_col3\" class=\"data row1 col3\" >1233.85</td>\n",
       "            </tr>\n",
       "            <tr>\n",
       "                        <th id=\"T_15b5c3f6_7851_11eb_905a_02420a39b8d0level0_row2\" class=\"row_heading level0 row2\" >std</th>\n",
       "                        <td id=\"T_15b5c3f6_7851_11eb_905a_02420a39b8d0row2_col0\" class=\"data row2 col0\" >189.33</td>\n",
       "                        <td id=\"T_15b5c3f6_7851_11eb_905a_02420a39b8d0row2_col1\" class=\"data row2 col1\" >5900.91</td>\n",
       "                        <td id=\"T_15b5c3f6_7851_11eb_905a_02420a39b8d0row2_col2\" class=\"data row2 col2\" >28.28</td>\n",
       "                        <td id=\"T_15b5c3f6_7851_11eb_905a_02420a39b8d0row2_col3\" class=\"data row2 col3\" >788.51</td>\n",
       "            </tr>\n",
       "            <tr>\n",
       "                        <th id=\"T_15b5c3f6_7851_11eb_905a_02420a39b8d0level0_row3\" class=\"row_heading level0 row3\" >min</th>\n",
       "                        <td id=\"T_15b5c3f6_7851_11eb_905a_02420a39b8d0row3_col0\" class=\"data row3 col0\" >0.00</td>\n",
       "                        <td id=\"T_15b5c3f6_7851_11eb_905a_02420a39b8d0row3_col1\" class=\"data row3 col1\" >0.00</td>\n",
       "                        <td id=\"T_15b5c3f6_7851_11eb_905a_02420a39b8d0row3_col2\" class=\"data row3 col2\" >0.00</td>\n",
       "                        <td id=\"T_15b5c3f6_7851_11eb_905a_02420a39b8d0row3_col3\" class=\"data row3 col3\" >550.00</td>\n",
       "            </tr>\n",
       "            <tr>\n",
       "                        <th id=\"T_15b5c3f6_7851_11eb_905a_02420a39b8d0level0_row4\" class=\"row_heading level0 row4\" >25%</th>\n",
       "                        <td id=\"T_15b5c3f6_7851_11eb_905a_02420a39b8d0row4_col0\" class=\"data row4 col0\" >285.00</td>\n",
       "                        <td id=\"T_15b5c3f6_7851_11eb_905a_02420a39b8d0row4_col1\" class=\"data row4 col1\" >12649.50</td>\n",
       "                        <td id=\"T_15b5c3f6_7851_11eb_905a_02420a39b8d0row4_col2\" class=\"data row4 col2\" >10.00</td>\n",
       "                        <td id=\"T_15b5c3f6_7851_11eb_905a_02420a39b8d0row4_col3\" class=\"data row4 col3\" >550.00</td>\n",
       "            </tr>\n",
       "            <tr>\n",
       "                        <th id=\"T_15b5c3f6_7851_11eb_905a_02420a39b8d0level0_row5\" class=\"row_heading level0 row5\" >50%</th>\n",
       "                        <td id=\"T_15b5c3f6_7851_11eb_905a_02420a39b8d0row5_col0\" class=\"data row5 col0\" >423.00</td>\n",
       "                        <td id=\"T_15b5c3f6_7851_11eb_905a_02420a39b8d0row5_col1\" class=\"data row5 col1\" >16500.00</td>\n",
       "                        <td id=\"T_15b5c3f6_7851_11eb_905a_02420a39b8d0row5_col2\" class=\"data row5 col2\" >28.00</td>\n",
       "                        <td id=\"T_15b5c3f6_7851_11eb_905a_02420a39b8d0row5_col3\" class=\"data row5 col3\" >959.90</td>\n",
       "            </tr>\n",
       "            <tr>\n",
       "                        <th id=\"T_15b5c3f6_7851_11eb_905a_02420a39b8d0level0_row6\" class=\"row_heading level0 row6\" >75%</th>\n",
       "                        <td id=\"T_15b5c3f6_7851_11eb_905a_02420a39b8d0row6_col0\" class=\"data row6 col0\" >545.50</td>\n",
       "                        <td id=\"T_15b5c3f6_7851_11eb_905a_02420a39b8d0row6_col1\" class=\"data row6 col1\" >20068.00</td>\n",
       "                        <td id=\"T_15b5c3f6_7851_11eb_905a_02420a39b8d0row6_col2\" class=\"data row6 col2\" >51.00</td>\n",
       "                        <td id=\"T_15b5c3f6_7851_11eb_905a_02420a39b8d0row6_col3\" class=\"data row6 col3\" >1669.75</td>\n",
       "            </tr>\n",
       "            <tr>\n",
       "                        <th id=\"T_15b5c3f6_7851_11eb_905a_02420a39b8d0level0_row7\" class=\"row_heading level0 row7\" >max</th>\n",
       "                        <td id=\"T_15b5c3f6_7851_11eb_905a_02420a39b8d0row7_col0\" class=\"data row7 col0\" >1435.00</td>\n",
       "                        <td id=\"T_15b5c3f6_7851_11eb_905a_02420a39b8d0row7_col1\" class=\"data row7 col1\" >38610.00</td>\n",
       "                        <td id=\"T_15b5c3f6_7851_11eb_905a_02420a39b8d0row7_col2\" class=\"data row7 col2\" >143.00</td>\n",
       "                        <td id=\"T_15b5c3f6_7851_11eb_905a_02420a39b8d0row7_col3\" class=\"data row7 col3\" >6711.02</td>\n",
       "            </tr>\n",
       "    </tbody></table>"
      ],
      "text/plain": [
       "<pandas.io.formats.style.Styler at 0x7f1c03cab6d0>"
      ]
     },
     "execution_count": 53,
     "metadata": {},
     "output_type": "execute_result"
    }
   ],
   "source": [
    "#smart_month.describe()\n",
    "smart_month[['duration', 'mb_used', 'sms_used', 'month_revenue']].describe().style.format('{:.2f}')"
   ]
  },
  {
   "cell_type": "code",
   "execution_count": 54,
   "metadata": {},
   "outputs": [
    {
     "data": {
      "text/html": [
       "<div>\n",
       "<style scoped>\n",
       "    .dataframe tbody tr th:only-of-type {\n",
       "        vertical-align: middle;\n",
       "    }\n",
       "\n",
       "    .dataframe tbody tr th {\n",
       "        vertical-align: top;\n",
       "    }\n",
       "\n",
       "    .dataframe thead th {\n",
       "        text-align: right;\n",
       "    }\n",
       "</style>\n",
       "<table border=\"1\" class=\"dataframe\">\n",
       "  <thead>\n",
       "    <tr style=\"text-align: right;\">\n",
       "      <th></th>\n",
       "      <th>sum</th>\n",
       "      <th>mean</th>\n",
       "    </tr>\n",
       "    <tr>\n",
       "      <th>user_id</th>\n",
       "      <th></th>\n",
       "      <th></th>\n",
       "    </tr>\n",
       "  </thead>\n",
       "  <tbody>\n",
       "    <tr>\n",
       "      <td>1001</td>\n",
       "      <td>1703.906250</td>\n",
       "      <td>851.953125</td>\n",
       "    </tr>\n",
       "    <tr>\n",
       "      <td>1002</td>\n",
       "      <td>6702.929688</td>\n",
       "      <td>957.561384</td>\n",
       "    </tr>\n",
       "    <tr>\n",
       "      <td>1005</td>\n",
       "      <td>9924.000000</td>\n",
       "      <td>827.000000</td>\n",
       "    </tr>\n",
       "    <tr>\n",
       "      <td>1006</td>\n",
       "      <td>9612.304688</td>\n",
       "      <td>873.845881</td>\n",
       "    </tr>\n",
       "    <tr>\n",
       "      <td>1007</td>\n",
       "      <td>7790.726562</td>\n",
       "      <td>865.636285</td>\n",
       "    </tr>\n",
       "    <tr>\n",
       "      <td>...</td>\n",
       "      <td>...</td>\n",
       "      <td>...</td>\n",
       "    </tr>\n",
       "    <tr>\n",
       "      <td>1494</td>\n",
       "      <td>4522.726562</td>\n",
       "      <td>904.545313</td>\n",
       "    </tr>\n",
       "    <tr>\n",
       "      <td>1496</td>\n",
       "      <td>27397.679688</td>\n",
       "      <td>2283.139974</td>\n",
       "    </tr>\n",
       "    <tr>\n",
       "      <td>1497</td>\n",
       "      <td>2679.531250</td>\n",
       "      <td>893.177083</td>\n",
       "    </tr>\n",
       "    <tr>\n",
       "      <td>1498</td>\n",
       "      <td>6329.750000</td>\n",
       "      <td>1582.437500</td>\n",
       "    </tr>\n",
       "    <tr>\n",
       "      <td>1499</td>\n",
       "      <td>3601.820312</td>\n",
       "      <td>900.455078</td>\n",
       "    </tr>\n",
       "  </tbody>\n",
       "</table>\n",
       "<p>351 rows × 2 columns</p>\n",
       "</div>"
      ],
      "text/plain": [
       "                  sum         mean\n",
       "user_id                           \n",
       "1001      1703.906250   851.953125\n",
       "1002      6702.929688   957.561384\n",
       "1005      9924.000000   827.000000\n",
       "1006      9612.304688   873.845881\n",
       "1007      7790.726562   865.636285\n",
       "...               ...          ...\n",
       "1494      4522.726562   904.545313\n",
       "1496     27397.679688  2283.139974\n",
       "1497      2679.531250   893.177083\n",
       "1498      6329.750000  1582.437500\n",
       "1499      3601.820312   900.455078\n",
       "\n",
       "[351 rows x 2 columns]"
      ]
     },
     "execution_count": 54,
     "metadata": {},
     "output_type": "execute_result"
    }
   ],
   "source": [
    "smart_month.groupby(['user_id'])['month_revenue'].agg(['sum','mean'])  # сколько платит каждый абонент"
   ]
  },
  {
   "cell_type": "code",
   "execution_count": 55,
   "metadata": {},
   "outputs": [
    {
     "data": {
      "text/html": [
       "<div>\n",
       "<style scoped>\n",
       "    .dataframe tbody tr th:only-of-type {\n",
       "        vertical-align: middle;\n",
       "    }\n",
       "\n",
       "    .dataframe tbody tr th {\n",
       "        vertical-align: top;\n",
       "    }\n",
       "\n",
       "    .dataframe thead th {\n",
       "        text-align: right;\n",
       "    }\n",
       "</style>\n",
       "<table border=\"1\" class=\"dataframe\">\n",
       "  <thead>\n",
       "    <tr style=\"text-align: right;\">\n",
       "      <th></th>\n",
       "      <th></th>\n",
       "      <th>sum</th>\n",
       "    </tr>\n",
       "    <tr>\n",
       "      <th>user_id</th>\n",
       "      <th>month</th>\n",
       "      <th></th>\n",
       "    </tr>\n",
       "  </thead>\n",
       "  <tbody>\n",
       "    <tr>\n",
       "      <td rowspan=\"2\" valign=\"top\">1001</td>\n",
       "      <td>11.0</td>\n",
       "      <td>1153.906250</td>\n",
       "    </tr>\n",
       "    <tr>\n",
       "      <td>12.0</td>\n",
       "      <td>550.000000</td>\n",
       "    </tr>\n",
       "    <tr>\n",
       "      <td rowspan=\"3\" valign=\"top\">1002</td>\n",
       "      <td>6.0</td>\n",
       "      <td>550.000000</td>\n",
       "    </tr>\n",
       "    <tr>\n",
       "      <td>7.0</td>\n",
       "      <td>987.695312</td>\n",
       "    </tr>\n",
       "    <tr>\n",
       "      <td>8.0</td>\n",
       "      <td>1524.023438</td>\n",
       "    </tr>\n",
       "    <tr>\n",
       "      <td>...</td>\n",
       "      <td>...</td>\n",
       "      <td>...</td>\n",
       "    </tr>\n",
       "    <tr>\n",
       "      <td>1498</td>\n",
       "      <td>10.0</td>\n",
       "      <td>1574.218750</td>\n",
       "    </tr>\n",
       "    <tr>\n",
       "      <td rowspan=\"4\" valign=\"top\">1499</td>\n",
       "      <td>9.0</td>\n",
       "      <td>550.000000</td>\n",
       "    </tr>\n",
       "    <tr>\n",
       "      <td>10.0</td>\n",
       "      <td>1028.320312</td>\n",
       "    </tr>\n",
       "    <tr>\n",
       "      <td>11.0</td>\n",
       "      <td>1425.500000</td>\n",
       "    </tr>\n",
       "    <tr>\n",
       "      <td>12.0</td>\n",
       "      <td>598.000000</td>\n",
       "    </tr>\n",
       "  </tbody>\n",
       "</table>\n",
       "<p>2223 rows × 1 columns</p>\n",
       "</div>"
      ],
      "text/plain": [
       "                       sum\n",
       "user_id month             \n",
       "1001    11.0   1153.906250\n",
       "        12.0    550.000000\n",
       "1002    6.0     550.000000\n",
       "        7.0     987.695312\n",
       "        8.0    1524.023438\n",
       "...                    ...\n",
       "1498    10.0   1574.218750\n",
       "1499    9.0     550.000000\n",
       "        10.0   1028.320312\n",
       "        11.0   1425.500000\n",
       "        12.0    598.000000\n",
       "\n",
       "[2223 rows x 1 columns]"
      ]
     },
     "execution_count": 55,
     "metadata": {},
     "output_type": "execute_result"
    }
   ],
   "source": [
    "smart_month.groupby(['user_id', 'month'])['month_revenue'].agg(['sum'])    # сколько платит каждый абонент по мес"
   ]
  },
  {
   "cell_type": "code",
   "execution_count": 56,
   "metadata": {},
   "outputs": [
    {
     "data": {
      "text/plain": [
       "Text(0.5, 0, 'руб')"
      ]
     },
     "execution_count": 56,
     "metadata": {},
     "output_type": "execute_result"
    },
    {
     "data": {
      "image/png": "[encoded data removed]",
      "text/plain": [
       "<Figure size 432x288 with 1 Axes>"
      ]
     },
     "metadata": {
      "needs_background": "light"
     },
     "output_type": "display_data"
    }
   ],
   "source": [
    "ax = sns.boxplot(x=smart_month['month_revenue']) \n",
    "plt.title('Смарт: средняя выручка с каждого абонента, руб')\n",
    "plt.xlabel('руб')\n"
   ]
  },
  {
   "cell_type": "code",
   "execution_count": 57,
   "metadata": {},
   "outputs": [
    {
     "data": {
      "image/png": "[encoded data removed]",
      "text/plain": [
       "<Figure size 432x288 with 1 Axes>"
      ]
     },
     "metadata": {
      "needs_background": "light"
     },
     "output_type": "display_data"
    }
   ],
   "source": [
    "smart_month['month_revenue'].hist(bins=100, alpha=0.5)\n",
    "plt.title('средняя выручка с каждого абонента, руб')\n",
    "plt.xlabel('руб')\n",
    "plt.show()"
   ]
  },
  {
   "cell_type": "markdown",
   "metadata": {},
   "source": [
    "Подавляющее большинство пользователей тарифа Смарт платят только абонентскую плату в 550 рублей.  Также видно, что пользователи этого тарифа часто покупают дополнительные опции. Выбросы после 3300р."
   ]
  },
  {
   "cell_type": "markdown",
   "metadata": {},
   "source": [
    "#### Минуты"
   ]
  },
  {
   "cell_type": "code",
   "execution_count": 58,
   "metadata": {},
   "outputs": [
    {
     "data": {
      "text/plain": [
       "419.0629779577148"
      ]
     },
     "execution_count": 58,
     "metadata": {},
     "output_type": "execute_result"
    }
   ],
   "source": [
    "smart_month['duration'].mean()"
   ]
  },
  {
   "cell_type": "code",
   "execution_count": 116,
   "metadata": {},
   "outputs": [
    {
     "data": {
      "text/plain": [
       "'419.06'"
      ]
     },
     "execution_count": 116,
     "metadata": {},
     "output_type": "execute_result"
    }
   ],
   "source": [
    "'{:.2f}'.format(smart_month['duration'].mean())"
   ]
  },
  {
   "cell_type": "code",
   "execution_count": 60,
   "metadata": {},
   "outputs": [
    {
     "data": {
      "text/plain": [
       "423.0"
      ]
     },
     "execution_count": 60,
     "metadata": {},
     "output_type": "execute_result"
    }
   ],
   "source": [
    "smart_month['duration'].median()"
   ]
  },
  {
   "cell_type": "markdown",
   "metadata": {},
   "source": [
    "Среднее количество израсходованных минут в месяц - около 420, медиана и среднее почти одинаковы."
   ]
  },
  {
   "cell_type": "code",
   "execution_count": 61,
   "metadata": {},
   "outputs": [
    {
     "data": {
      "text/plain": [
       "35844.1895513438"
      ]
     },
     "execution_count": 61,
     "metadata": {},
     "output_type": "execute_result"
    }
   ],
   "source": [
    "np.var(smart_month['duration'], ddof=1) "
   ]
  },
  {
   "cell_type": "markdown",
   "metadata": {},
   "source": [
    "Дисперсия 35844 . ddof=1 указывает, что датасет - это выборка, а не ГС. "
   ]
  },
  {
   "cell_type": "code",
   "execution_count": 62,
   "metadata": {},
   "outputs": [
    {
     "data": {
      "text/plain": [
       "189.3256177894154"
      ]
     },
     "execution_count": 62,
     "metadata": {},
     "output_type": "execute_result"
    }
   ],
   "source": [
    "np.sqrt(np.var(smart_month['duration'], ddof=1))"
   ]
  },
  {
   "cell_type": "code",
   "execution_count": 63,
   "metadata": {},
   "outputs": [
    {
     "data": {
      "text/plain": [
       "189.3256177894154"
      ]
     },
     "execution_count": 63,
     "metadata": {},
     "output_type": "execute_result"
    }
   ],
   "source": [
    "np.std(smart_month['duration'], ddof=1)    # Cтандартное отклонение "
   ]
  },
  {
   "cell_type": "code",
   "execution_count": 64,
   "metadata": {},
   "outputs": [
    {
     "data": {
      "text/plain": [
       "Text(0.5, 0, 'мин')"
      ]
     },
     "execution_count": 64,
     "metadata": {},
     "output_type": "execute_result"
    },
    {
     "data": {
      "image/png": "[encoded data removed]",
      "text/plain": [
       "<Figure size 432x288 with 1 Axes>"
      ]
     },
     "metadata": {
      "needs_background": "light"
     },
     "output_type": "display_data"
    }
   ],
   "source": [
    "ax = sns.boxplot(x=smart_month['duration'])\n",
    "plt.title('Смарт: длительность звонка в минутах')\n",
    "plt.xlabel('мин')"
   ]
  },
  {
   "cell_type": "markdown",
   "metadata": {},
   "source": [
    "Выбросы свыше 900 мин."
   ]
  },
  {
   "cell_type": "code",
   "execution_count": 65,
   "metadata": {},
   "outputs": [
    {
     "data": {
      "image/png": "[encoded data removed]",
      "text/plain": [
       "<Figure size 432x288 with 1 Axes>"
      ]
     },
     "metadata": {
      "needs_background": "light"
     },
     "output_type": "display_data"
    }
   ],
   "source": [
    "sns.distplot(smart_month['duration'], kde=True, color='green', bins=100)\n",
    "plt.axvline(smart_month['duration'].median(), c='orange')\n",
    "plt.axvline(smart_month['duration'].std(), c='red')\n",
    "plt.suptitle('Смарт: длительность разговора, мин')\n",
    "plt.xlabel('разговор, мин', fontsize=12)\n",
    "plt.grid()\n",
    "plt.show()"
   ]
  },
  {
   "cell_type": "markdown",
   "metadata": {},
   "source": [
    "В основном люди разговаривают 250-550 минут в месяц. Медиана 423 мин, большинство абонентов проговаривает именно столько в месяц, что входит в пакет. Но много значений лежат свыше 500, значит, клиенты часто дозаказывают минуты разговора. <br> Медиана (оранжевая линия) чуть  больше среднего (419), датасет немного скошен влево. Стандартное отклонение 189 (красная линия)."
   ]
  },
  {
   "cell_type": "markdown",
   "metadata": {},
   "source": [
    "#### Трафик"
   ]
  },
  {
   "cell_type": "code",
   "execution_count": 66,
   "metadata": {},
   "outputs": [
    {
     "data": {
      "text/plain": [
       "16216.859199280252"
      ]
     },
     "execution_count": 66,
     "metadata": {},
     "output_type": "execute_result"
    }
   ],
   "source": [
    "smart_month['mb_used'].mean()"
   ]
  },
  {
   "cell_type": "code",
   "execution_count": 67,
   "metadata": {},
   "outputs": [
    {
     "data": {
      "text/plain": [
       "16500.0"
      ]
     },
     "execution_count": 67,
     "metadata": {},
     "output_type": "execute_result"
    }
   ],
   "source": [
    "smart_month['mb_used'].median()"
   ]
  },
  {
   "cell_type": "markdown",
   "metadata": {},
   "source": [
    "Выбросы сверх 30000 мб."
   ]
  },
  {
   "cell_type": "code",
   "execution_count": 68,
   "metadata": {},
   "outputs": [
    {
     "data": {
      "text/plain": [
       "34820718.273145534"
      ]
     },
     "execution_count": 68,
     "metadata": {},
     "output_type": "execute_result"
    }
   ],
   "source": [
    "np.var(smart_month['mb_used'], ddof=1)"
   ]
  },
  {
   "cell_type": "code",
   "execution_count": 69,
   "metadata": {},
   "outputs": [
    {
     "data": {
      "text/plain": [
       "5900.908258323081"
      ]
     },
     "execution_count": 69,
     "metadata": {},
     "output_type": "execute_result"
    }
   ],
   "source": [
    "np.std(smart_month['mb_used'], ddof=1)"
   ]
  },
  {
   "cell_type": "code",
   "execution_count": 70,
   "metadata": {},
   "outputs": [
    {
     "data": {
      "text/plain": [
       "Text(0.5, 0, 'мб')"
      ]
     },
     "execution_count": 70,
     "metadata": {},
     "output_type": "execute_result"
    },
    {
     "data": {
      "image/png": "[encoded data removed]",
      "text/plain": [
       "<Figure size 432x288 with 1 Axes>"
      ]
     },
     "metadata": {
      "needs_background": "light"
     },
     "output_type": "display_data"
    }
   ],
   "source": [
    "ax = sns.boxplot(x=smart_month['mb_used']) \n",
    "plt.suptitle('Смарт: объем трафика, мб')\n",
    "plt.xlabel('мб', fontsize=12)"
   ]
  },
  {
   "cell_type": "code",
   "execution_count": 71,
   "metadata": {},
   "outputs": [
    {
     "data": {
      "image/png": "[encoded data removed]",
      "text/plain": [
       "<Figure size 432x288 with 1 Axes>"
      ]
     },
     "metadata": {
      "needs_background": "light"
     },
     "output_type": "display_data"
    }
   ],
   "source": [
    "sns.distplot(smart_month['mb_used'], kde=True, color='yellow', bins=100)\n",
    "plt.axvline(smart_month['mb_used'].median(), c='orange')\n",
    "plt.suptitle('Смарт: объем трафика, мб')\n",
    "plt.xlabel('мб', fontsize=12)\n",
    "plt.grid()\n",
    "plt.show()"
   ]
  },
  {
   "cell_type": "markdown",
   "metadata": {},
   "source": [
    "Расход в среднем от 13 до 20 гб. Медиана около 16 гб - вылезает за трафик, включенный в пакет. Значит, часто берут дополнительные мегабайты."
   ]
  },
  {
   "cell_type": "markdown",
   "metadata": {},
   "source": [
    "#### SMS"
   ]
  },
  {
   "cell_type": "code",
   "execution_count": 72,
   "metadata": {},
   "outputs": [
    {
     "data": {
      "text/plain": [
       "33.3621232568601"
      ]
     },
     "execution_count": 72,
     "metadata": {},
     "output_type": "execute_result"
    }
   ],
   "source": [
    "smart_month['sms_used'].mean()"
   ]
  },
  {
   "cell_type": "code",
   "execution_count": 73,
   "metadata": {},
   "outputs": [
    {
     "data": {
      "text/plain": [
       "28.0"
      ]
     },
     "execution_count": 73,
     "metadata": {},
     "output_type": "execute_result"
    }
   ],
   "source": [
    "smart_month['sms_used'].median()"
   ]
  },
  {
   "cell_type": "code",
   "execution_count": 74,
   "metadata": {},
   "outputs": [
    {
     "data": {
      "text/plain": [
       "799.4894197921817"
      ]
     },
     "execution_count": 74,
     "metadata": {},
     "output_type": "execute_result"
    }
   ],
   "source": [
    "np.var(smart_month['sms_used'], ddof=1)"
   ]
  },
  {
   "cell_type": "code",
   "execution_count": 75,
   "metadata": {},
   "outputs": [
    {
     "data": {
      "text/plain": [
       "28.275243938685687"
      ]
     },
     "execution_count": 75,
     "metadata": {},
     "output_type": "execute_result"
    }
   ],
   "source": [
    "np.std(smart_month['sms_used'], ddof=1)"
   ]
  },
  {
   "cell_type": "code",
   "execution_count": 76,
   "metadata": {},
   "outputs": [
    {
     "data": {
      "text/plain": [
       "Text(0.5, 0, 'смс, шт')"
      ]
     },
     "execution_count": 76,
     "metadata": {},
     "output_type": "execute_result"
    },
    {
     "data": {
      "image/png": "[encoded data removed]",
      "text/plain": [
       "<Figure size 432x288 with 1 Axes>"
      ]
     },
     "metadata": {
      "needs_background": "light"
     },
     "output_type": "display_data"
    }
   ],
   "source": [
    "ax = sns.boxplot(x=smart_month['sms_used']) \n",
    "plt.suptitle('Смарт: количество смс, шт')\n",
    "plt.xlabel('смс, шт', fontsize=12)"
   ]
  },
  {
   "cell_type": "code",
   "execution_count": 77,
   "metadata": {},
   "outputs": [
    {
     "data": {
      "image/png": "[encoded data removed]",
      "text/plain": [
       "<Figure size 432x288 with 1 Axes>"
      ]
     },
     "metadata": {
      "needs_background": "light"
     },
     "output_type": "display_data"
    }
   ],
   "source": [
    "sns.distplot(smart_month['sms_used'], kde=True, color='purple', bins=100)\n",
    "plt.axvline(smart_month['sms_used'].median(), c='orange') \n",
    "plt.suptitle('Смарт: количество смс, шт')\n",
    "plt.xlabel('смс, шт', fontsize=12)\n",
    "plt.grid()\n",
    "plt.show()"
   ]
  },
  {
   "cell_type": "markdown",
   "metadata": {},
   "source": [
    "Абоненты отправляют мало смс - от 10 до 50 смс, медиана 28. Выбросы после 110.\n",
    "В тариф включены 50 смс, все равно берут дополнительно."
   ]
  },
  {
   "cell_type": "code",
   "execution_count": 1,
   "metadata": {},
   "outputs": [
    {
     "ename": "NameError",
     "evalue": "name 'smart_month' is not defined",
     "output_type": "error",
     "traceback": [
      "\u001b[0;31m---------------------------------------------------------------------------\u001b[0m",
      "\u001b[0;31mNameError\u001b[0m                                 Traceback (most recent call last)",
      "\u001b[0;32m<ipython-input-1-9faa62c17398>\u001b[0m in \u001b[0;36m<module>\u001b[0;34m\u001b[0m\n\u001b[1;32m     12\u001b[0m     \u001b[0mplt\u001b[0m\u001b[0;34m.\u001b[0m\u001b[0mshow\u001b[0m\u001b[0;34m(\u001b[0m\u001b[0;34m)\u001b[0m\u001b[0;34m\u001b[0m\u001b[0;34m\u001b[0m\u001b[0m\n\u001b[1;32m     13\u001b[0m \u001b[0;34m\u001b[0m\u001b[0m\n\u001b[0;32m---> 14\u001b[0;31m \u001b[0mhisto\u001b[0m\u001b[0;34m(\u001b[0m\u001b[0msmart_month\u001b[0m\u001b[0;34m,\u001b[0m \u001b[0;34m'duration'\u001b[0m\u001b[0;34m)\u001b[0m\u001b[0;34m\u001b[0m\u001b[0;34m\u001b[0m\u001b[0m\n\u001b[0m\u001b[1;32m     15\u001b[0m \u001b[0mhisto\u001b[0m\u001b[0;34m(\u001b[0m\u001b[0msmart_month\u001b[0m\u001b[0;34m,\u001b[0m \u001b[0;34m'mb_used'\u001b[0m\u001b[0;34m)\u001b[0m\u001b[0;34m\u001b[0m\u001b[0;34m\u001b[0m\u001b[0m\n\u001b[1;32m     16\u001b[0m \u001b[0mhisto\u001b[0m\u001b[0;34m(\u001b[0m\u001b[0msmart_month\u001b[0m\u001b[0;34m,\u001b[0m \u001b[0;34m'sms_used'\u001b[0m\u001b[0;34m)\u001b[0m\u001b[0;34m\u001b[0m\u001b[0;34m\u001b[0m\u001b[0m\n",
      "\u001b[0;31mNameError\u001b[0m: name 'smart_month' is not defined"
     ]
    }
   ],
   "source": [
    "# то же самое с функцией для графиков\n",
    "\n",
    "title_dict = {'duration': 'Смарт: длительность разговора, мин', 'mb_used': 'Смарт: объем трафика, мб',\n",
    "                  'sms_used': 'Смарт: количество смс, шт'}\n",
    "\n",
    "def histo(df, column_1):\n",
    "    sns.distplot(df[column_1], kde=True, bins=100)\n",
    "    plt.axvline(df[column_1].median(), c='orange')\n",
    "    plt.axvline(df[column_1].std(), c='red')\n",
    "    plt.suptitle(title_dict[column_1])\n",
    "    plt.grid()\n",
    "    plt.show()\n",
    "\n",
    "histo(smart_month, 'duration')\n",
    "histo(smart_month, 'mb_used')\n",
    "histo(smart_month, 'sms_used')"
   ]
  },
  {
   "cell_type": "markdown",
   "metadata": {},
   "source": [
    "### Тариф Ультра"
   ]
  },
  {
   "cell_type": "code",
   "execution_count": 79,
   "metadata": {},
   "outputs": [
    {
     "data": {
      "text/html": [
       "<div>\n",
       "<style scoped>\n",
       "    .dataframe tbody tr th:only-of-type {\n",
       "        vertical-align: middle;\n",
       "    }\n",
       "\n",
       "    .dataframe tbody tr th {\n",
       "        vertical-align: top;\n",
       "    }\n",
       "\n",
       "    .dataframe thead th {\n",
       "        text-align: right;\n",
       "    }\n",
       "</style>\n",
       "<table border=\"1\" class=\"dataframe\">\n",
       "  <thead>\n",
       "    <tr style=\"text-align: right;\">\n",
       "      <th></th>\n",
       "      <th>user_id</th>\n",
       "      <th>age</th>\n",
       "      <th>churn_date</th>\n",
       "      <th>city</th>\n",
       "      <th>first_name</th>\n",
       "      <th>last_name</th>\n",
       "      <th>reg_date</th>\n",
       "      <th>tariff</th>\n",
       "      <th>month</th>\n",
       "      <th>duration</th>\n",
       "      <th>mb_used</th>\n",
       "      <th>sms_used</th>\n",
       "      <th>messages_included</th>\n",
       "      <th>mb_per_month_included</th>\n",
       "      <th>minutes_included</th>\n",
       "      <th>rub_monthly_fee</th>\n",
       "      <th>rub_per_gb</th>\n",
       "      <th>rub_per_message</th>\n",
       "      <th>rub_per_minute</th>\n",
       "      <th>tariff_name</th>\n",
       "      <th>min_over</th>\n",
       "      <th>mb_over</th>\n",
       "      <th>sms_over</th>\n",
       "      <th>month_revenue</th>\n",
       "    </tr>\n",
       "  </thead>\n",
       "  <tbody>\n",
       "    <tr>\n",
       "      <td>752</td>\n",
       "      <td>1120</td>\n",
       "      <td>25.0</td>\n",
       "      <td>0</td>\n",
       "      <td>Краснодар</td>\n",
       "      <td>Агнесса</td>\n",
       "      <td>Абдулина</td>\n",
       "      <td>2018-01-24</td>\n",
       "      <td>ultra</td>\n",
       "      <td>2.0</td>\n",
       "      <td>162.0</td>\n",
       "      <td>4213.0</td>\n",
       "      <td>0.0</td>\n",
       "      <td>1000.0</td>\n",
       "      <td>30720.0</td>\n",
       "      <td>3000.0</td>\n",
       "      <td>1950.0</td>\n",
       "      <td>150.0</td>\n",
       "      <td>1.0</td>\n",
       "      <td>1.0</td>\n",
       "      <td>ultra</td>\n",
       "      <td>0.0</td>\n",
       "      <td>0.000000</td>\n",
       "      <td>0.0</td>\n",
       "      <td>1950.000000</td>\n",
       "    </tr>\n",
       "    <tr>\n",
       "      <td>1599</td>\n",
       "      <td>1255</td>\n",
       "      <td>40.0</td>\n",
       "      <td>2018-09-02</td>\n",
       "      <td>Саранск</td>\n",
       "      <td>Серафима</td>\n",
       "      <td>Пономарева</td>\n",
       "      <td>2018-02-19</td>\n",
       "      <td>ultra</td>\n",
       "      <td>6.0</td>\n",
       "      <td>198.0</td>\n",
       "      <td>37635.0</td>\n",
       "      <td>0.0</td>\n",
       "      <td>1000.0</td>\n",
       "      <td>30720.0</td>\n",
       "      <td>3000.0</td>\n",
       "      <td>1950.0</td>\n",
       "      <td>150.0</td>\n",
       "      <td>1.0</td>\n",
       "      <td>1.0</td>\n",
       "      <td>ultra</td>\n",
       "      <td>0.0</td>\n",
       "      <td>1012.939453</td>\n",
       "      <td>0.0</td>\n",
       "      <td>2962.939453</td>\n",
       "    </tr>\n",
       "    <tr>\n",
       "      <td>2366</td>\n",
       "      <td>1377</td>\n",
       "      <td>59.0</td>\n",
       "      <td>0</td>\n",
       "      <td>Брянск</td>\n",
       "      <td>Альфред</td>\n",
       "      <td>Семин</td>\n",
       "      <td>2018-02-25</td>\n",
       "      <td>ultra</td>\n",
       "      <td>10.0</td>\n",
       "      <td>1401.0</td>\n",
       "      <td>4887.0</td>\n",
       "      <td>10.0</td>\n",
       "      <td>1000.0</td>\n",
       "      <td>30720.0</td>\n",
       "      <td>3000.0</td>\n",
       "      <td>1950.0</td>\n",
       "      <td>150.0</td>\n",
       "      <td>1.0</td>\n",
       "      <td>1.0</td>\n",
       "      <td>ultra</td>\n",
       "      <td>0.0</td>\n",
       "      <td>0.000000</td>\n",
       "      <td>0.0</td>\n",
       "      <td>1950.000000</td>\n",
       "    </tr>\n",
       "    <tr>\n",
       "      <td>2469</td>\n",
       "      <td>1391</td>\n",
       "      <td>47.0</td>\n",
       "      <td>0</td>\n",
       "      <td>Стерлитамак</td>\n",
       "      <td>Герасим</td>\n",
       "      <td>Аркадьев</td>\n",
       "      <td>2018-05-12</td>\n",
       "      <td>ultra</td>\n",
       "      <td>11.0</td>\n",
       "      <td>669.0</td>\n",
       "      <td>27516.0</td>\n",
       "      <td>3.0</td>\n",
       "      <td>1000.0</td>\n",
       "      <td>30720.0</td>\n",
       "      <td>3000.0</td>\n",
       "      <td>1950.0</td>\n",
       "      <td>150.0</td>\n",
       "      <td>1.0</td>\n",
       "      <td>1.0</td>\n",
       "      <td>ultra</td>\n",
       "      <td>0.0</td>\n",
       "      <td>0.000000</td>\n",
       "      <td>0.0</td>\n",
       "      <td>1950.000000</td>\n",
       "    </tr>\n",
       "    <tr>\n",
       "      <td>1881</td>\n",
       "      <td>1300</td>\n",
       "      <td>40.0</td>\n",
       "      <td>0</td>\n",
       "      <td>Москва</td>\n",
       "      <td>Тихон</td>\n",
       "      <td>Азерников</td>\n",
       "      <td>2018-07-26</td>\n",
       "      <td>ultra</td>\n",
       "      <td>8.0</td>\n",
       "      <td>701.0</td>\n",
       "      <td>34329.0</td>\n",
       "      <td>171.0</td>\n",
       "      <td>1000.0</td>\n",
       "      <td>30720.0</td>\n",
       "      <td>3000.0</td>\n",
       "      <td>1950.0</td>\n",
       "      <td>150.0</td>\n",
       "      <td>1.0</td>\n",
       "      <td>1.0</td>\n",
       "      <td>ultra</td>\n",
       "      <td>0.0</td>\n",
       "      <td>528.662109</td>\n",
       "      <td>0.0</td>\n",
       "      <td>2478.662109</td>\n",
       "    </tr>\n",
       "    <tr>\n",
       "      <td>2194</td>\n",
       "      <td>1352</td>\n",
       "      <td>53.0</td>\n",
       "      <td>0</td>\n",
       "      <td>Рязань</td>\n",
       "      <td>Кристина</td>\n",
       "      <td>Румянцева</td>\n",
       "      <td>2018-04-17</td>\n",
       "      <td>ultra</td>\n",
       "      <td>10.0</td>\n",
       "      <td>816.0</td>\n",
       "      <td>15693.0</td>\n",
       "      <td>6.0</td>\n",
       "      <td>1000.0</td>\n",
       "      <td>30720.0</td>\n",
       "      <td>3000.0</td>\n",
       "      <td>1950.0</td>\n",
       "      <td>150.0</td>\n",
       "      <td>1.0</td>\n",
       "      <td>1.0</td>\n",
       "      <td>ultra</td>\n",
       "      <td>0.0</td>\n",
       "      <td>0.000000</td>\n",
       "      <td>0.0</td>\n",
       "      <td>1950.000000</td>\n",
       "    </tr>\n",
       "    <tr>\n",
       "      <td>2741</td>\n",
       "      <td>1430</td>\n",
       "      <td>22.0</td>\n",
       "      <td>0</td>\n",
       "      <td>Тверь</td>\n",
       "      <td>Андрей</td>\n",
       "      <td>Авроров</td>\n",
       "      <td>2018-04-23</td>\n",
       "      <td>ultra</td>\n",
       "      <td>7.0</td>\n",
       "      <td>322.0</td>\n",
       "      <td>21376.0</td>\n",
       "      <td>46.0</td>\n",
       "      <td>1000.0</td>\n",
       "      <td>30720.0</td>\n",
       "      <td>3000.0</td>\n",
       "      <td>1950.0</td>\n",
       "      <td>150.0</td>\n",
       "      <td>1.0</td>\n",
       "      <td>1.0</td>\n",
       "      <td>ultra</td>\n",
       "      <td>0.0</td>\n",
       "      <td>0.000000</td>\n",
       "      <td>0.0</td>\n",
       "      <td>1950.000000</td>\n",
       "    </tr>\n",
       "  </tbody>\n",
       "</table>\n",
       "</div>"
      ],
      "text/plain": [
       "      user_id   age  churn_date         city first_name   last_name  \\\n",
       "752      1120  25.0           0    Краснодар    Агнесса    Абдулина   \n",
       "1599     1255  40.0  2018-09-02      Саранск   Серафима  Пономарева   \n",
       "2366     1377  59.0           0       Брянск    Альфред       Семин   \n",
       "2469     1391  47.0           0  Стерлитамак    Герасим    Аркадьев   \n",
       "1881     1300  40.0           0       Москва      Тихон   Азерников   \n",
       "2194     1352  53.0           0       Рязань   Кристина   Румянцева   \n",
       "2741     1430  22.0           0        Тверь     Андрей     Авроров   \n",
       "\n",
       "        reg_date tariff  month  duration  mb_used  sms_used  \\\n",
       "752   2018-01-24  ultra    2.0     162.0   4213.0       0.0   \n",
       "1599  2018-02-19  ultra    6.0     198.0  37635.0       0.0   \n",
       "2366  2018-02-25  ultra   10.0    1401.0   4887.0      10.0   \n",
       "2469  2018-05-12  ultra   11.0     669.0  27516.0       3.0   \n",
       "1881  2018-07-26  ultra    8.0     701.0  34329.0     171.0   \n",
       "2194  2018-04-17  ultra   10.0     816.0  15693.0       6.0   \n",
       "2741  2018-04-23  ultra    7.0     322.0  21376.0      46.0   \n",
       "\n",
       "      messages_included  mb_per_month_included  minutes_included  \\\n",
       "752              1000.0                30720.0            3000.0   \n",
       "1599             1000.0                30720.0            3000.0   \n",
       "2366             1000.0                30720.0            3000.0   \n",
       "2469             1000.0                30720.0            3000.0   \n",
       "1881             1000.0                30720.0            3000.0   \n",
       "2194             1000.0                30720.0            3000.0   \n",
       "2741             1000.0                30720.0            3000.0   \n",
       "\n",
       "      rub_monthly_fee  rub_per_gb  rub_per_message  rub_per_minute  \\\n",
       "752            1950.0       150.0              1.0             1.0   \n",
       "1599           1950.0       150.0              1.0             1.0   \n",
       "2366           1950.0       150.0              1.0             1.0   \n",
       "2469           1950.0       150.0              1.0             1.0   \n",
       "1881           1950.0       150.0              1.0             1.0   \n",
       "2194           1950.0       150.0              1.0             1.0   \n",
       "2741           1950.0       150.0              1.0             1.0   \n",
       "\n",
       "     tariff_name  min_over      mb_over  sms_over  month_revenue  \n",
       "752        ultra       0.0     0.000000       0.0    1950.000000  \n",
       "1599       ultra       0.0  1012.939453       0.0    2962.939453  \n",
       "2366       ultra       0.0     0.000000       0.0    1950.000000  \n",
       "2469       ultra       0.0     0.000000       0.0    1950.000000  \n",
       "1881       ultra       0.0   528.662109       0.0    2478.662109  \n",
       "2194       ultra       0.0     0.000000       0.0    1950.000000  \n",
       "2741       ultra       0.0     0.000000       0.0    1950.000000  "
      ]
     },
     "execution_count": 79,
     "metadata": {},
     "output_type": "execute_result"
    }
   ],
   "source": [
    "ultra_month = df.query('tariff_name == \"ultra\"')\n",
    "ultra_month.sample(7, random_state=42)"
   ]
  },
  {
   "cell_type": "code",
   "execution_count": 80,
   "metadata": {},
   "outputs": [
    {
     "name": "stdout",
     "output_type": "stream",
     "text": [
      "<class 'pandas.core.frame.DataFrame'>\n",
      "Int64Index: 953 entries, 0 to 3152\n",
      "Data columns (total 24 columns):\n",
      "user_id                  953 non-null int64\n",
      "age                      953 non-null float64\n",
      "churn_date               953 non-null object\n",
      "city                     953 non-null object\n",
      "first_name               953 non-null object\n",
      "last_name                953 non-null object\n",
      "reg_date                 953 non-null object\n",
      "tariff                   953 non-null object\n",
      "month                    953 non-null float64\n",
      "duration                 953 non-null float64\n",
      "mb_used                  953 non-null float64\n",
      "sms_used                 953 non-null float64\n",
      "messages_included        953 non-null float64\n",
      "mb_per_month_included    953 non-null float64\n",
      "minutes_included         953 non-null float64\n",
      "rub_monthly_fee          953 non-null float64\n",
      "rub_per_gb               953 non-null float64\n",
      "rub_per_message          953 non-null float64\n",
      "rub_per_minute           953 non-null float64\n",
      "tariff_name              953 non-null object\n",
      "min_over                 953 non-null float64\n",
      "mb_over                  953 non-null float64\n",
      "sms_over                 953 non-null float64\n",
      "month_revenue            953 non-null float64\n",
      "dtypes: float64(16), int64(1), object(7)\n",
      "memory usage: 186.1+ KB\n"
     ]
    }
   ],
   "source": [
    "ultra_month.info()"
   ]
  },
  {
   "cell_type": "code",
   "execution_count": 81,
   "metadata": {},
   "outputs": [
    {
     "data": {
      "text/html": [
       "<style  type=\"text/css\" >\n",
       "</style><table id=\"T_181efbe4_7851_11eb_905a_02420a39b8d0\" ><thead>    <tr>        <th class=\"blank level0\" ></th>        <th class=\"col_heading level0 col0\" >duration</th>        <th class=\"col_heading level0 col1\" >mb_used</th>        <th class=\"col_heading level0 col2\" >sms_used</th>        <th class=\"col_heading level0 col3\" >month_revenue</th>    </tr></thead><tbody>\n",
       "                <tr>\n",
       "                        <th id=\"T_181efbe4_7851_11eb_905a_02420a39b8d0level0_row0\" class=\"row_heading level0 row0\" >count</th>\n",
       "                        <td id=\"T_181efbe4_7851_11eb_905a_02420a39b8d0row0_col0\" class=\"data row0 col0\" >953.00</td>\n",
       "                        <td id=\"T_181efbe4_7851_11eb_905a_02420a39b8d0row0_col1\" class=\"data row0 col1\" >953.00</td>\n",
       "                        <td id=\"T_181efbe4_7851_11eb_905a_02420a39b8d0row0_col2\" class=\"data row0 col2\" >953.00</td>\n",
       "                        <td id=\"T_181efbe4_7851_11eb_905a_02420a39b8d0row0_col3\" class=\"data row0 col3\" >953.00</td>\n",
       "            </tr>\n",
       "            <tr>\n",
       "                        <th id=\"T_181efbe4_7851_11eb_905a_02420a39b8d0level0_row1\" class=\"row_heading level0 row1\" >mean</th>\n",
       "                        <td id=\"T_181efbe4_7851_11eb_905a_02420a39b8d0row1_col0\" class=\"data row1 col0\" >544.31</td>\n",
       "                        <td id=\"T_181efbe4_7851_11eb_905a_02420a39b8d0row1_col1\" class=\"data row1 col1\" >19366.97</td>\n",
       "                        <td id=\"T_181efbe4_7851_11eb_905a_02420a39b8d0row1_col2\" class=\"data row1 col2\" >48.45</td>\n",
       "                        <td id=\"T_181efbe4_7851_11eb_905a_02420a39b8d0row1_col3\" class=\"data row1 col3\" >2061.24</td>\n",
       "            </tr>\n",
       "            <tr>\n",
       "                        <th id=\"T_181efbe4_7851_11eb_905a_02420a39b8d0level0_row2\" class=\"row_heading level0 row2\" >std</th>\n",
       "                        <td id=\"T_181efbe4_7851_11eb_905a_02420a39b8d0row2_col0\" class=\"data row2 col0\" >307.62</td>\n",
       "                        <td id=\"T_181efbe4_7851_11eb_905a_02420a39b8d0row2_col1\" class=\"data row2 col1\" >10222.07</td>\n",
       "                        <td id=\"T_181efbe4_7851_11eb_905a_02420a39b8d0row2_col2\" class=\"data row2 col2\" >46.61</td>\n",
       "                        <td id=\"T_181efbe4_7851_11eb_905a_02420a39b8d0row2_col3\" class=\"data row2 col3\" >359.12</td>\n",
       "            </tr>\n",
       "            <tr>\n",
       "                        <th id=\"T_181efbe4_7851_11eb_905a_02420a39b8d0level0_row3\" class=\"row_heading level0 row3\" >min</th>\n",
       "                        <td id=\"T_181efbe4_7851_11eb_905a_02420a39b8d0row3_col0\" class=\"data row3 col0\" >0.00</td>\n",
       "                        <td id=\"T_181efbe4_7851_11eb_905a_02420a39b8d0row3_col1\" class=\"data row3 col1\" >0.00</td>\n",
       "                        <td id=\"T_181efbe4_7851_11eb_905a_02420a39b8d0row3_col2\" class=\"data row3 col2\" >0.00</td>\n",
       "                        <td id=\"T_181efbe4_7851_11eb_905a_02420a39b8d0row3_col3\" class=\"data row3 col3\" >1950.00</td>\n",
       "            </tr>\n",
       "            <tr>\n",
       "                        <th id=\"T_181efbe4_7851_11eb_905a_02420a39b8d0level0_row4\" class=\"row_heading level0 row4\" >25%</th>\n",
       "                        <td id=\"T_181efbe4_7851_11eb_905a_02420a39b8d0row4_col0\" class=\"data row4 col0\" >310.00</td>\n",
       "                        <td id=\"T_181efbe4_7851_11eb_905a_02420a39b8d0row4_col1\" class=\"data row4 col1\" >11421.00</td>\n",
       "                        <td id=\"T_181efbe4_7851_11eb_905a_02420a39b8d0row4_col2\" class=\"data row4 col2\" >5.00</td>\n",
       "                        <td id=\"T_181efbe4_7851_11eb_905a_02420a39b8d0row4_col3\" class=\"data row4 col3\" >1950.00</td>\n",
       "            </tr>\n",
       "            <tr>\n",
       "                        <th id=\"T_181efbe4_7851_11eb_905a_02420a39b8d0level0_row5\" class=\"row_heading level0 row5\" >50%</th>\n",
       "                        <td id=\"T_181efbe4_7851_11eb_905a_02420a39b8d0row5_col0\" class=\"data row5 col0\" >526.00</td>\n",
       "                        <td id=\"T_181efbe4_7851_11eb_905a_02420a39b8d0row5_col1\" class=\"data row5 col1\" >19297.00</td>\n",
       "                        <td id=\"T_181efbe4_7851_11eb_905a_02420a39b8d0row5_col2\" class=\"data row5 col2\" >38.00</td>\n",
       "                        <td id=\"T_181efbe4_7851_11eb_905a_02420a39b8d0row5_col3\" class=\"data row5 col3\" >1950.00</td>\n",
       "            </tr>\n",
       "            <tr>\n",
       "                        <th id=\"T_181efbe4_7851_11eb_905a_02420a39b8d0level0_row6\" class=\"row_heading level0 row6\" >75%</th>\n",
       "                        <td id=\"T_181efbe4_7851_11eb_905a_02420a39b8d0row6_col0\" class=\"data row6 col0\" >756.00</td>\n",
       "                        <td id=\"T_181efbe4_7851_11eb_905a_02420a39b8d0row6_col1\" class=\"data row6 col1\" >26852.00</td>\n",
       "                        <td id=\"T_181efbe4_7851_11eb_905a_02420a39b8d0row6_col2\" class=\"data row6 col2\" >78.00</td>\n",
       "                        <td id=\"T_181efbe4_7851_11eb_905a_02420a39b8d0row6_col3\" class=\"data row6 col3\" >1950.00</td>\n",
       "            </tr>\n",
       "            <tr>\n",
       "                        <th id=\"T_181efbe4_7851_11eb_905a_02420a39b8d0level0_row7\" class=\"row_heading level0 row7\" >max</th>\n",
       "                        <td id=\"T_181efbe4_7851_11eb_905a_02420a39b8d0row7_col0\" class=\"data row7 col0\" >1673.00</td>\n",
       "                        <td id=\"T_181efbe4_7851_11eb_905a_02420a39b8d0row7_col1\" class=\"data row7 col1\" >49789.00</td>\n",
       "                        <td id=\"T_181efbe4_7851_11eb_905a_02420a39b8d0row7_col2\" class=\"data row7 col2\" >224.00</td>\n",
       "                        <td id=\"T_181efbe4_7851_11eb_905a_02420a39b8d0row7_col3\" class=\"data row7 col3\" >4743.31</td>\n",
       "            </tr>\n",
       "    </tbody></table>"
      ],
      "text/plain": [
       "<pandas.io.formats.style.Styler at 0x7f1c040e39d0>"
      ]
     },
     "execution_count": 81,
     "metadata": {},
     "output_type": "execute_result"
    }
   ],
   "source": [
    "ultra_month[['duration', 'mb_used', 'sms_used', 'month_revenue']].describe().style.format('{:.2f}')"
   ]
  },
  {
   "cell_type": "code",
   "execution_count": 82,
   "metadata": {},
   "outputs": [
    {
     "data": {
      "image/png": "[encoded data removed]",
      "text/plain": [
       "<Figure size 432x288 with 1 Axes>"
      ]
     },
     "metadata": {
      "needs_background": "light"
     },
     "output_type": "display_data"
    }
   ],
   "source": [
    "ultra_month['month_revenue'].hist(bins=100)\n",
    "plt.title('Ультра: средняя выручка с каждого абонента, руб')\n",
    "plt.xlabel('руб')\n",
    "plt.show()"
   ]
  },
  {
   "cell_type": "markdown",
   "metadata": {},
   "source": [
    "Подавляющее большинство пользователей тарифа Ультра платят только абонентскую плату в 1950 рублей и очень мало берут сверх тарифа."
   ]
  },
  {
   "cell_type": "markdown",
   "metadata": {},
   "source": [
    "#### Минуты"
   ]
  },
  {
   "cell_type": "code",
   "execution_count": 83,
   "metadata": {},
   "outputs": [
    {
     "data": {
      "text/plain": [
       "544.3064008394543"
      ]
     },
     "execution_count": 83,
     "metadata": {},
     "output_type": "execute_result"
    }
   ],
   "source": [
    "ultra_month['duration'].mean()"
   ]
  },
  {
   "cell_type": "code",
   "execution_count": 84,
   "metadata": {},
   "outputs": [
    {
     "data": {
      "text/plain": [
       "526.0"
      ]
     },
     "execution_count": 84,
     "metadata": {},
     "output_type": "execute_result"
    }
   ],
   "source": [
    "ultra_month['duration'].median()"
   ]
  },
  {
   "cell_type": "markdown",
   "metadata": {},
   "source": [
    "Среднее количество израсходованных минут в месяц - около 535, медиана и среднее имеют близкие значения."
   ]
  },
  {
   "cell_type": "code",
   "execution_count": 85,
   "metadata": {},
   "outputs": [
    {
     "data": {
      "text/plain": [
       "94629.23585184336"
      ]
     },
     "execution_count": 85,
     "metadata": {},
     "output_type": "execute_result"
    }
   ],
   "source": [
    "np.var(ultra_month['duration'], ddof=1)"
   ]
  },
  {
   "cell_type": "code",
   "execution_count": 86,
   "metadata": {},
   "outputs": [
    {
     "data": {
      "text/plain": [
       "307.61865328982145"
      ]
     },
     "execution_count": 86,
     "metadata": {},
     "output_type": "execute_result"
    }
   ],
   "source": [
    "np.std(ultra_month['duration'], ddof=1)"
   ]
  },
  {
   "cell_type": "code",
   "execution_count": 87,
   "metadata": {},
   "outputs": [
    {
     "data": {
      "text/plain": [
       "Text(0.5, 0, 'мин')"
      ]
     },
     "execution_count": 87,
     "metadata": {},
     "output_type": "execute_result"
    },
    {
     "data": {
      "image/png": "[encoded data removed]",
      "text/plain": [
       "<Figure size 432x288 with 1 Axes>"
      ]
     },
     "metadata": {
      "needs_background": "light"
     },
     "output_type": "display_data"
    }
   ],
   "source": [
    "ax = sns.boxplot(x=ultra_month['duration']) \n",
    "plt.suptitle('Ультра: длительность разговора, мин')\n",
    "plt.xlabel('мин', fontsize=12)"
   ]
  },
  {
   "cell_type": "markdown",
   "metadata": {},
   "source": [
    "В основном 300-750 минут, а включено аж 3000! Даже выбросы меньше лимита."
   ]
  },
  {
   "cell_type": "code",
   "execution_count": 88,
   "metadata": {},
   "outputs": [
    {
     "data": {
      "image/png": "[encoded data removed]",
      "text/plain": [
       "<Figure size 432x288 with 1 Axes>"
      ]
     },
     "metadata": {
      "needs_background": "light"
     },
     "output_type": "display_data"
    }
   ],
   "source": [
    "sns.distplot(ultra_month['duration'], kde=True, color='green', bins=100)\n",
    "plt.axvline(ultra_month['duration'].median(), c='orange')\n",
    "plt.axvline(ultra_month['duration'].std(), c='red')\n",
    "plt.suptitle('Ультра: длительность разговора, мин')\n",
    "plt.xlabel('мин', fontsize=12)\n",
    "plt.grid()\n",
    "plt.show()"
   ]
  },
  {
   "cell_type": "markdown",
   "metadata": {},
   "source": [
    "В среднем разговаривают 526 минут, от 300 до 750. Медиана Ультра выше Смарта (423). Выбросы после 1400."
   ]
  },
  {
   "cell_type": "markdown",
   "metadata": {},
   "source": [
    "#### Трафик"
   ]
  },
  {
   "cell_type": "code",
   "execution_count": 89,
   "metadata": {},
   "outputs": [
    {
     "data": {
      "text/plain": [
       "19366.96747114376"
      ]
     },
     "execution_count": 89,
     "metadata": {},
     "output_type": "execute_result"
    }
   ],
   "source": [
    "ultra_month['mb_used'].mean()"
   ]
  },
  {
   "cell_type": "code",
   "execution_count": 90,
   "metadata": {},
   "outputs": [
    {
     "data": {
      "text/plain": [
       "19297.0"
      ]
     },
     "execution_count": 90,
     "metadata": {},
     "output_type": "execute_result"
    }
   ],
   "source": [
    "ultra_month['mb_used'].median()"
   ]
  },
  {
   "cell_type": "code",
   "execution_count": 91,
   "metadata": {},
   "outputs": [
    {
     "data": {
      "text/plain": [
       "104490776.45167185"
      ]
     },
     "execution_count": 91,
     "metadata": {},
     "output_type": "execute_result"
    }
   ],
   "source": [
    "np.var(ultra_month['mb_used'], ddof=1)"
   ]
  },
  {
   "cell_type": "code",
   "execution_count": 92,
   "metadata": {},
   "outputs": [
    {
     "data": {
      "text/plain": [
       "10222.073001679839"
      ]
     },
     "execution_count": 92,
     "metadata": {},
     "output_type": "execute_result"
    }
   ],
   "source": [
    "np.std(ultra_month['mb_used'], ddof=1)"
   ]
  },
  {
   "cell_type": "code",
   "execution_count": 93,
   "metadata": {},
   "outputs": [
    {
     "data": {
      "text/plain": [
       "Text(0.5, 0, 'мб')"
      ]
     },
     "execution_count": 93,
     "metadata": {},
     "output_type": "execute_result"
    },
    {
     "data": {
      "image/png": "[encoded data removed]",
      "text/plain": [
       "<Figure size 432x288 with 1 Axes>"
      ]
     },
     "metadata": {
      "needs_background": "light"
     },
     "output_type": "display_data"
    }
   ],
   "source": [
    "ax = sns.boxplot(x=ultra_month['mb_used']) \n",
    "plt.suptitle('Ультра: объем трафика, мб')\n",
    "plt.xlabel('мб', fontsize=12)"
   ]
  },
  {
   "cell_type": "code",
   "execution_count": 94,
   "metadata": {},
   "outputs": [
    {
     "data": {
      "image/png": "[encoded data removed]",
      "text/plain": [
       "<Figure size 432x288 with 1 Axes>"
      ]
     },
     "metadata": {
      "needs_background": "light"
     },
     "output_type": "display_data"
    }
   ],
   "source": [
    "sns.distplot(ultra_month['mb_used'], kde=True, color='yellow', bins=100)\n",
    "plt.axvline(ultra_month['mb_used'].median(), c='orange') \n",
    "plt.suptitle('Ультра: объем трафика, мб')\n",
    "plt.xlabel('мб', fontsize=12)\n",
    "plt.grid()\n",
    "plt.show()"
   ]
  },
  {
   "cell_type": "markdown",
   "metadata": {},
   "source": [
    "Медиана 19 гб, от 11 до 28 гб. В тариф включены 30 гб, значит, в большинстве своем клиентам хватает гб."
   ]
  },
  {
   "cell_type": "markdown",
   "metadata": {},
   "source": [
    "#### SMS"
   ]
  },
  {
   "cell_type": "code",
   "execution_count": 95,
   "metadata": {},
   "outputs": [
    {
     "data": {
      "text/plain": [
       "48.45225603357817"
      ]
     },
     "execution_count": 95,
     "metadata": {},
     "output_type": "execute_result"
    }
   ],
   "source": [
    "ultra_month['sms_used'].mean()"
   ]
  },
  {
   "cell_type": "code",
   "execution_count": 96,
   "metadata": {},
   "outputs": [
    {
     "data": {
      "text/plain": [
       "38.0"
      ]
     },
     "execution_count": 96,
     "metadata": {},
     "output_type": "execute_result"
    }
   ],
   "source": [
    "ultra_month['sms_used'].median()"
   ]
  },
  {
   "cell_type": "code",
   "execution_count": 97,
   "metadata": {},
   "outputs": [
    {
     "data": {
      "text/plain": [
       "2172.9286529932015"
      ]
     },
     "execution_count": 97,
     "metadata": {},
     "output_type": "execute_result"
    }
   ],
   "source": [
    "np.var(ultra_month['sms_used'], ddof=1)"
   ]
  },
  {
   "cell_type": "code",
   "execution_count": 98,
   "metadata": {},
   "outputs": [
    {
     "data": {
      "text/plain": [
       "46.614682804811636"
      ]
     },
     "execution_count": 98,
     "metadata": {},
     "output_type": "execute_result"
    }
   ],
   "source": [
    "np.std(ultra_month['sms_used'], ddof=1)"
   ]
  },
  {
   "cell_type": "code",
   "execution_count": 99,
   "metadata": {},
   "outputs": [
    {
     "data": {
      "image/png": "[encoded data removed]",
      "text/plain": [
       "<Figure size 432x288 with 1 Axes>"
      ]
     },
     "metadata": {
      "needs_background": "light"
     },
     "output_type": "display_data"
    }
   ],
   "source": [
    "ax = sns.boxplot(x=ultra_month['sms_used']) "
   ]
  },
  {
   "cell_type": "code",
   "execution_count": 100,
   "metadata": {},
   "outputs": [
    {
     "data": {
      "image/png": "[encoded data removed]",
      "text/plain": [
       "<Figure size 432x288 with 1 Axes>"
      ]
     },
     "metadata": {
      "needs_background": "light"
     },
     "output_type": "display_data"
    }
   ],
   "source": [
    "sns.distplot(ultra_month['sms_used'], kde=True, color='purple', bins=100)\n",
    "plt.axvline(ultra_month['sms_used'].median(), c='orange')\n",
    "plt.suptitle('Смарт: количество смс, шт')\n",
    "plt.xlabel('смс, шт', fontsize=12)\n",
    "plt.grid()\n",
    "plt.show()"
   ]
  },
  {
   "cell_type": "markdown",
   "metadata": {},
   "source": [
    "Абоненты отправляют мало смс - в среднем от 5 до 75 смс, медиана 38. Выбросы свыше 180."
   ]
  },
  {
   "cell_type": "markdown",
   "metadata": {},
   "source": [
    "\n",
    "В общем, с такими лимитами в тарифе Ультра докупать ничего не нужно.  <br> Ниже повтор график с использованием функции."
   ]
  },
  {
   "cell_type": "code",
   "execution_count": 101,
   "metadata": {},
   "outputs": [
    {
     "data": {
      "image/png": "[encoded data removed]",
      "text/plain": [
       "<Figure size 432x288 with 1 Axes>"
      ]
     },
     "metadata": {
      "needs_background": "light"
     },
     "output_type": "display_data"
    },
    {
     "data": {
      "image/png": "[encoded data removed]",
      "text/plain": [
       "<Figure size 432x288 with 1 Axes>"
      ]
     },
     "metadata": {
      "needs_background": "light"
     },
     "output_type": "display_data"
    },
    {
     "data": {
      "image/png": "[encoded data removed]",
      "text/plain": [
       "<Figure size 432x288 with 1 Axes>"
      ]
     },
     "metadata": {
      "needs_background": "light"
     },
     "output_type": "display_data"
    }
   ],
   "source": [
    "histo(ultra_month, 'duration')\n",
    "histo(ultra_month, 'mb_used')\n",
    "histo(ultra_month, 'sms_used')"
   ]
  },
  {
   "cell_type": "markdown",
   "metadata": {},
   "source": [
    "### Разное"
   ]
  },
  {
   "cell_type": "code",
   "execution_count": 102,
   "metadata": {},
   "outputs": [
    {
     "data": {
      "text/html": [
       "<style  type=\"text/css\" >\n",
       "</style><table id=\"T_1a76d2c2_7851_11eb_905a_02420a39b8d0\" ><thead>    <tr>        <th class=\"blank level0\" ></th>        <th class=\"col_heading level0 col0\" >sum</th>        <th class=\"col_heading level0 col1\" >mean</th>        <th class=\"col_heading level0 col2\" >median</th>    </tr>    <tr>        <th class=\"index_name level0\" >tariff_name</th>        <th class=\"blank\" ></th>        <th class=\"blank\" ></th>        <th class=\"blank\" ></th>    </tr></thead><tbody>\n",
       "                <tr>\n",
       "                        <th id=\"T_1a76d2c2_7851_11eb_905a_02420a39b8d0level0_row0\" class=\"row_heading level0 row0\" >0</th>\n",
       "                        <td id=\"T_1a76d2c2_7851_11eb_905a_02420a39b8d0row0_col0\" class=\"data row0 col0\" >0</td>\n",
       "                        <td id=\"T_1a76d2c2_7851_11eb_905a_02420a39b8d0row0_col1\" class=\"data row0 col1\" >0</td>\n",
       "                        <td id=\"T_1a76d2c2_7851_11eb_905a_02420a39b8d0row0_col2\" class=\"data row0 col2\" >0</td>\n",
       "            </tr>\n",
       "            <tr>\n",
       "                        <th id=\"T_1a76d2c2_7851_11eb_905a_02420a39b8d0level0_row1\" class=\"row_heading level0 row1\" >smart</th>\n",
       "                        <td id=\"T_1a76d2c2_7851_11eb_905a_02420a39b8d0row1_col0\" class=\"data row1 col0\" >931577</td>\n",
       "                        <td id=\"T_1a76d2c2_7851_11eb_905a_02420a39b8d0row1_col1\" class=\"data row1 col1\" >419</td>\n",
       "                        <td id=\"T_1a76d2c2_7851_11eb_905a_02420a39b8d0row1_col2\" class=\"data row1 col2\" >423</td>\n",
       "            </tr>\n",
       "            <tr>\n",
       "                        <th id=\"T_1a76d2c2_7851_11eb_905a_02420a39b8d0level0_row2\" class=\"row_heading level0 row2\" >ultra</th>\n",
       "                        <td id=\"T_1a76d2c2_7851_11eb_905a_02420a39b8d0row2_col0\" class=\"data row2 col0\" >518724</td>\n",
       "                        <td id=\"T_1a76d2c2_7851_11eb_905a_02420a39b8d0row2_col1\" class=\"data row2 col1\" >544</td>\n",
       "                        <td id=\"T_1a76d2c2_7851_11eb_905a_02420a39b8d0row2_col2\" class=\"data row2 col2\" >526</td>\n",
       "            </tr>\n",
       "    </tbody></table>"
      ],
      "text/plain": [
       "<pandas.io.formats.style.Styler at 0x7f1c8097b110>"
      ]
     },
     "execution_count": 102,
     "metadata": {},
     "output_type": "execute_result"
    }
   ],
   "source": [
    "all_min = df['duration'].sum()\n",
    "df.groupby(['tariff_name'])['duration'].agg(['sum', 'mean', 'median']).style.format('{:.0f}')"
   ]
  },
  {
   "cell_type": "code",
   "execution_count": 103,
   "metadata": {},
   "outputs": [
    {
     "data": {
      "text/html": [
       "<style  type=\"text/css\" >\n",
       "</style><table id=\"T_1a789a30_7851_11eb_905a_02420a39b8d0\" ><thead>    <tr>        <th class=\"blank level0\" ></th>        <th class=\"col_heading level0 col0\" >sum</th>        <th class=\"col_heading level0 col1\" >mean</th>        <th class=\"col_heading level0 col2\" >median</th>    </tr>    <tr>        <th class=\"index_name level0\" >tariff_name</th>        <th class=\"blank\" ></th>        <th class=\"blank\" ></th>        <th class=\"blank\" ></th>    </tr></thead><tbody>\n",
       "                <tr>\n",
       "                        <th id=\"T_1a789a30_7851_11eb_905a_02420a39b8d0level0_row0\" class=\"row_heading level0 row0\" >0</th>\n",
       "                        <td id=\"T_1a789a30_7851_11eb_905a_02420a39b8d0row0_col0\" class=\"data row0 col0\" >862661</td>\n",
       "                        <td id=\"T_1a789a30_7851_11eb_905a_02420a39b8d0row0_col1\" class=\"data row0 col1\" >18754</td>\n",
       "                        <td id=\"T_1a789a30_7851_11eb_905a_02420a39b8d0row0_col2\" class=\"data row0 col2\" >17974</td>\n",
       "            </tr>\n",
       "            <tr>\n",
       "                        <th id=\"T_1a789a30_7851_11eb_905a_02420a39b8d0level0_row1\" class=\"row_heading level0 row1\" >smart</th>\n",
       "                        <td id=\"T_1a789a30_7851_11eb_905a_02420a39b8d0row1_col0\" class=\"data row1 col0\" >36050078</td>\n",
       "                        <td id=\"T_1a789a30_7851_11eb_905a_02420a39b8d0row1_col1\" class=\"data row1 col1\" >16217</td>\n",
       "                        <td id=\"T_1a789a30_7851_11eb_905a_02420a39b8d0row1_col2\" class=\"data row1 col2\" >16500</td>\n",
       "            </tr>\n",
       "            <tr>\n",
       "                        <th id=\"T_1a789a30_7851_11eb_905a_02420a39b8d0level0_row2\" class=\"row_heading level0 row2\" >ultra</th>\n",
       "                        <td id=\"T_1a789a30_7851_11eb_905a_02420a39b8d0row2_col0\" class=\"data row2 col0\" >18456720</td>\n",
       "                        <td id=\"T_1a789a30_7851_11eb_905a_02420a39b8d0row2_col1\" class=\"data row2 col1\" >19367</td>\n",
       "                        <td id=\"T_1a789a30_7851_11eb_905a_02420a39b8d0row2_col2\" class=\"data row2 col2\" >19297</td>\n",
       "            </tr>\n",
       "    </tbody></table>"
      ],
      "text/plain": [
       "<pandas.io.formats.style.Styler at 0x7f1c0e2c0610>"
      ]
     },
     "execution_count": 103,
     "metadata": {},
     "output_type": "execute_result"
    }
   ],
   "source": [
    "all_mb = df['mb_used'].sum()\n",
    "df.groupby(['tariff_name'])['mb_used'].agg(['sum', 'mean', 'median']).style.format('{:.0f}')"
   ]
  },
  {
   "cell_type": "code",
   "execution_count": 104,
   "metadata": {},
   "outputs": [
    {
     "data": {
      "text/html": [
       "<style  type=\"text/css\" >\n",
       "</style><table id=\"T_1a7a5a46_7851_11eb_905a_02420a39b8d0\" ><thead>    <tr>        <th class=\"blank level0\" ></th>        <th class=\"col_heading level0 col0\" >sum</th>        <th class=\"col_heading level0 col1\" >mean</th>        <th class=\"col_heading level0 col2\" >median</th>    </tr>    <tr>        <th class=\"index_name level0\" >tariff_name</th>        <th class=\"blank\" ></th>        <th class=\"blank\" ></th>        <th class=\"blank\" ></th>    </tr></thead><tbody>\n",
       "                <tr>\n",
       "                        <th id=\"T_1a7a5a46_7851_11eb_905a_02420a39b8d0level0_row0\" class=\"row_heading level0 row0\" >0</th>\n",
       "                        <td id=\"T_1a7a5a46_7851_11eb_905a_02420a39b8d0row0_col0\" class=\"data row0 col0\" >2697</td>\n",
       "                        <td id=\"T_1a7a5a46_7851_11eb_905a_02420a39b8d0row0_col1\" class=\"data row0 col1\" >59</td>\n",
       "                        <td id=\"T_1a7a5a46_7851_11eb_905a_02420a39b8d0row0_col2\" class=\"data row0 col2\" >30</td>\n",
       "            </tr>\n",
       "            <tr>\n",
       "                        <th id=\"T_1a7a5a46_7851_11eb_905a_02420a39b8d0level0_row1\" class=\"row_heading level0 row1\" >smart</th>\n",
       "                        <td id=\"T_1a7a5a46_7851_11eb_905a_02420a39b8d0row1_col0\" class=\"data row1 col0\" >74164</td>\n",
       "                        <td id=\"T_1a7a5a46_7851_11eb_905a_02420a39b8d0row1_col1\" class=\"data row1 col1\" >33</td>\n",
       "                        <td id=\"T_1a7a5a46_7851_11eb_905a_02420a39b8d0row1_col2\" class=\"data row1 col2\" >28</td>\n",
       "            </tr>\n",
       "            <tr>\n",
       "                        <th id=\"T_1a7a5a46_7851_11eb_905a_02420a39b8d0level0_row2\" class=\"row_heading level0 row2\" >ultra</th>\n",
       "                        <td id=\"T_1a7a5a46_7851_11eb_905a_02420a39b8d0row2_col0\" class=\"data row2 col0\" >46175</td>\n",
       "                        <td id=\"T_1a7a5a46_7851_11eb_905a_02420a39b8d0row2_col1\" class=\"data row2 col1\" >48</td>\n",
       "                        <td id=\"T_1a7a5a46_7851_11eb_905a_02420a39b8d0row2_col2\" class=\"data row2 col2\" >38</td>\n",
       "            </tr>\n",
       "    </tbody></table>"
      ],
      "text/plain": [
       "<pandas.io.formats.style.Styler at 0x7f1c80789fd0>"
      ]
     },
     "execution_count": 104,
     "metadata": {},
     "output_type": "execute_result"
    }
   ],
   "source": [
    "all_sms = df['sms_used'].sum()\n",
    "df.groupby(['tariff_name'])['sms_used'].agg(['sum', 'mean', 'median']).style.format('{:.0f}')"
   ]
  },
  {
   "cell_type": "markdown",
   "metadata": {},
   "source": [
    "Ранее мы нашли, что доля клиентов с тарифом Смарт составляет около 70% и что этот тариф приносит большую часть выручки. Здесь мы видим, что клиенты с этим тарифом генерируют больше трафика, совершают больше звонков и отправляют больше смс."
   ]
  },
  {
   "cell_type": "markdown",
   "metadata": {},
   "source": [
    "\n",
    "Проанализировали сформированные по двум тарифам датафреймы с помощью гистограмм, диаграмм размаха и нахождения основных статистик. Основной вывод - абоненты тарифа Смарт часто берут дополнительные минуты и мегабайты, а абоненты Ультры часто даже не израсходуют свой пакет."
   ]
  },
  {
   "cell_type": "markdown",
   "metadata": {},
   "source": [
    "## Гипотезы"
   ]
  },
  {
   "cell_type": "markdown",
   "metadata": {},
   "source": [
    "### Первая о тарифах"
   ]
  },
  {
   "cell_type": "markdown",
   "metadata": {},
   "source": [
    "Первая гипотеза о равенстве средних двух генеральных совокупностей: средняя выручка пользователей тарифов «Ультра» и «Смарт» различается. <br> <br>\n",
    "Нулевая гипотеза: средняя выручка Смарт НЕ отличается от средней выручки Ультра. <br>\n",
    "Альтернативная гипотеза: средняя выручка Смарт отличается от средней выручки Ультра.  <br>\n",
    "Выборки по двум тарифам независимые, используем метод ttest_ind из пакета scipy.stats.<br>\n",
    "Зададим общепринятый критический уровень статистической значимости 0.05 и если p-value окажется меньше него - отвергнем гипотезу."
   ]
  },
  {
   "cell_type": "code",
   "execution_count": 105,
   "metadata": {},
   "outputs": [
    {
     "name": "stdout",
     "output_type": "stream",
     "text": [
      "p-значение: 5.746108265304587e-185\n",
      "Отвергаем нулевую гипотезу\n"
     ]
    }
   ],
   "source": [
    "from scipy import stats as st\n",
    "\n",
    "alpha = .05 \n",
    "\n",
    "\n",
    "results = st.ttest_ind(\n",
    "    smart_month['month_revenue'], \n",
    "    ultra_month['month_revenue'],\n",
    "    )\n",
    "\n",
    "print('p-значение:', results.pvalue)\n",
    "\n",
    "if (results.pvalue < alpha):\n",
    "    print('Отвергаем нулевую гипотезу')\n",
    "else:\n",
    "    print('Не получилось отвергнуть нулевую гипотезу, выручка одинаковая')"
   ]
  },
  {
   "cell_type": "markdown",
   "metadata": {},
   "source": [
    "p-уровень значимости - очень маленькое число, стремящееся к нулю. Значит, нулевая гипотеза отвергнута. Логично, что пользователи тарифа Ультра приносят больше денег хотя бы потому, что их абонплата в 3,5 раза больше, чем плата за тариф Смарт. "
   ]
  },
  {
   "cell_type": "code",
   "execution_count": 106,
   "metadata": {},
   "outputs": [
    {
     "data": {
      "text/plain": [
       "1233.8517171333783"
      ]
     },
     "execution_count": 106,
     "metadata": {},
     "output_type": "execute_result"
    }
   ],
   "source": [
    "smart_month['month_revenue'].mean()"
   ]
  },
  {
   "cell_type": "code",
   "execution_count": 107,
   "metadata": {},
   "outputs": [
    {
     "data": {
      "text/plain": [
       "2061.237283168284"
      ]
     },
     "execution_count": 107,
     "metadata": {},
     "output_type": "execute_result"
    }
   ],
   "source": [
    "ultra_month['month_revenue'].mean()"
   ]
  },
  {
   "cell_type": "markdown",
   "metadata": {},
   "source": [
    "### Вторая о городах"
   ]
  },
  {
   "cell_type": "markdown",
   "metadata": {},
   "source": [
    "Вторая гипотеза  о равенстве средних двух генеральных совокупностей: средняя выручка пользователей из Москвы отличается от выручки пользователей из других регионов. <br> <br>\n",
    "\n",
    "Нулевая гипотеза: средняя выручка Москвы НЕ отличается от средней выручки регионов. <br>\n",
    "Альтернативная гипотеза: средняя выручка Москвы отличается от средней выручки регионов. <br>\n",
    "Выборки по двум тарифам независимые, используем метод ttest_ind из пакета scipy.stats.  <br>\n",
    "Зададим общепринятый критический уровень статистической значимости 0.05 и если p-value окажется меньше него - отвергнем гипотезу."
   ]
  },
  {
   "cell_type": "code",
   "execution_count": 108,
   "metadata": {},
   "outputs": [],
   "source": [
    "msk_users = df.query('city == \"Москва\"')\n",
    "other_users = df.query('city != \"Москва\"')"
   ]
  },
  {
   "cell_type": "code",
   "execution_count": 109,
   "metadata": {},
   "outputs": [
    {
     "name": "stdout",
     "output_type": "stream",
     "text": [
      "p-значение: 0.11792463255006935\n",
      "Не получилось отвергнуть нулевую гипотезу\n"
     ]
    }
   ],
   "source": [
    "alpha = 0.05\n",
    "\n",
    "results = st.ttest_ind(\n",
    "    msk_users['month_revenue'], \n",
    "    other_users['month_revenue'],\n",
    "    )\n",
    "\n",
    "print('p-значение:', results.pvalue)\n",
    "\n",
    "if (results.pvalue < alpha):\n",
    "    print('Отвергаем нулевую гипотезу')\n",
    "else:\n",
    "    print('Не получилось отвергнуть нулевую гипотезу')"
   ]
  },
  {
   "cell_type": "markdown",
   "metadata": {},
   "source": [
    "Значит, средняя выручка пользователей из Москвы НЕ отличается от выручки пользователей из других регионов."
   ]
  },
  {
   "cell_type": "code",
   "execution_count": 110,
   "metadata": {},
   "outputs": [
    {
     "data": {
      "text/plain": [
       "1506.5509861680328"
      ]
     },
     "execution_count": 110,
     "metadata": {},
     "output_type": "execute_result"
    }
   ],
   "source": [
    "msk_users['month_revenue'].mean()"
   ]
  },
  {
   "cell_type": "code",
   "execution_count": 111,
   "metadata": {},
   "outputs": [
    {
     "data": {
      "text/plain": [
       "1450.3121732329155"
      ]
     },
     "execution_count": 111,
     "metadata": {},
     "output_type": "execute_result"
    }
   ],
   "source": [
    "other_users['month_revenue'].mean()"
   ]
  },
  {
   "cell_type": "markdown",
   "metadata": {},
   "source": [
    "Проверили. Действительно, средняя выручка отличается только на 50 руб."
   ]
  },
  {
   "cell_type": "code",
   "execution_count": 112,
   "metadata": {},
   "outputs": [
    {
     "data": {
      "text/plain": [
       "Москва             0.198\n",
       "Санкт-Петербург    0.078\n",
       "Новосибирск        0.032\n",
       "Казань             0.028\n",
       "Омск               0.028\n",
       "Уфа                0.024\n",
       "Краснодар          0.022\n",
       "Name: city, dtype: float64"
      ]
     },
     "execution_count": 112,
     "metadata": {},
     "output_type": "execute_result"
    }
   ],
   "source": [
    "df_city = users['city'].value_counts(normalize=True)\n",
    "df_city.head(7)"
   ]
  },
  {
   "cell_type": "code",
   "execution_count": 113,
   "metadata": {},
   "outputs": [
    {
     "data": {
      "text/plain": [
       "Москва             0.173639\n",
       "Санкт-Петербург    0.092668\n",
       "Ульяновск          0.036437\n",
       "Казань             0.033288\n",
       "Уфа                0.029240\n",
       "Новосибирск        0.024291\n",
       "Омск               0.024291\n",
       "Name: city, dtype: float64"
      ]
     },
     "execution_count": 113,
     "metadata": {},
     "output_type": "execute_result"
    }
   ],
   "source": [
    "df_city_smart = smart_month['city'].value_counts(normalize=True)\n",
    "df_city_smart.head(7)"
   ]
  },
  {
   "cell_type": "code",
   "execution_count": 114,
   "metadata": {},
   "outputs": [
    {
     "data": {
      "text/plain": [
       "Москва             0.235047\n",
       "Санкт-Петербург    0.059811\n",
       "Новосибирск        0.046170\n",
       "Пенза              0.045121\n",
       "Краснодар          0.043022\n",
       "Уфа                0.031480\n",
       "Воронеж            0.031480\n",
       "Name: city, dtype: float64"
      ]
     },
     "execution_count": 114,
     "metadata": {},
     "output_type": "execute_result"
    }
   ],
   "source": [
    "df_city_ultra = ultra_month['city'].value_counts(normalize=True)\n",
    "df_city_ultra.head(7)"
   ]
  },
  {
   "cell_type": "markdown",
   "metadata": {},
   "source": [
    "Доля клиентов из Москвы составляет почти 20%. В дф тарифа Смарт - 17%, Ультра - 23,5% - в Москве чаще выбирают дорогой тариф."
   ]
  },
  {
   "cell_type": "markdown",
   "metadata": {},
   "source": [
    "## Вывод"
   ]
  },
  {
   "cell_type": "markdown",
   "metadata": {},
   "source": [
    "Мы обработали пять датафреймов, исправили типы данных, ввели новые столбцы, необходимые для расчётов. <br>\n",
    "Посчитали для каждого пользователя по месяцам: количество минут разговора, количество отправленных сообщений, объем израсходованного трафика - и далее выручку. Далее построили таблицы и гистограммы, на основе которых сделали заключения. <br>\n",
    "\n",
    "Почти 70% абонентов используют тариф Смарт, 30% - Ультра. Большую долю дохода приносит тариф Смарт: клиенты с этим тарифом генерируют в два раза больше трафика, на 40% - совершают больше звонков и отправляют больше смс. <br>\n",
    "Общая выручка за год - 4,7 млн руб.; по тарифу Смарт - 2,74 млн руб.; по тарифу Ультра - 1,96 млн руб. <br>\n",
    "Средний платеж в месяц тарифа Смарт на 60% меньше (1234 руб.) чем у тарифа Ультра (2061 руб.).  \n",
    "\n",
    "-------------------------\n",
    "\n",
    "Большинство пользователей тарифа Смарт платят только абонентскую плату в 550 рублей. Также видно, что пользователи этого тарифа часто покупают дополнительные опции. <br> \n",
    "В основном люди разговаривают 250-550 минут в месяц. Среднее 423 мин - большинство абонентов проговаривает именно столько минут в месяц, что входит в пакет, но значение стремится к лимиту в 500 минут. Часто берут дополнительный пакет. <br>\n",
    "Клиенты с тарифом Смарт обычно расходуют от 13 до 20 гб. В среднем 16 гб - этот объем больше трафика в 15 гб, включенного в абонплату. Им приходится покупать дополнительные 1-2 гб. <br>\n",
    "Абоненты отправляют мало смс - от 10 до 50 смс, в среднем 28.  <br> В итоге можно сказать, что тариф Смарт несбалансирован - абоненты часто прибегают к дополнительным пакетам - средний платеж в два раза больше абонплаты и составляет 1000-1200 руб.\n",
    "\n",
    "-------------------------\n",
    "\n",
    "Большинство пользователей тарифа Ультра платят только абонентскую плату в 1950 рублей и очень мало берут сверх тарифа. <br>\n",
    "В среднем разговаривают 526 минут, от 300 до 750 мин, чего им с лихвой хватает: ведь в тариф заложены целых 3000 минут.  <br>\n",
    "Средний пользователь тарифа Ультра расходует 19 гб, от 11 до 28 гб. В тариф включены 30 гб, значит, в большинстве своем клиентам хватает гб. <br> Абоненты отправляют мало смс - от 1 до 75 смс, в среднем 38.  <br>\n",
    "Клиенты с тарифом Ультра обычно не истрачивают включенных в тариф минут и трафика. Можно сказать, что они сильно переплачивают за возможность не переживать о лимитах.\n",
    "\n",
    "-------------------------\n",
    "\n",
    "Гипотезы сформированы и проверены. Нашли, что пользователи тарифа Ультра приносят больше денег. Это логично хотя бы потому, что их абонплата в 3,5 раза больше, чем плата за тариф Смарт. Также обнаружили неочевидную вещь: средняя выручка пользователей из Москвы не отличается от выручки пользователей из других регионов.\n",
    "\n",
    "-------------------------\n",
    "В конце хотим посоветовать оператору внедрить третий тариф - Смарт Плюс - в него за 950-1050 рублей в месяц могли бы быть включены 700-750 минут и 20-25 гб трафика. Ведь средний чек и так составляет около тысячи рублей. Или переименовать Смарт в Стандарт, а ввести обновленный Смарт."
   ]
  },
  {
   "cell_type": "code",
   "execution_count": null,
   "metadata": {},
   "outputs": [],
   "source": []
  }
 ],
 "metadata": {
  "ExecuteTimeLog": [
   {
    "duration": 214,
    "start_time": "2021-07-20T15:32:54.673Z"
   }
  ],
  "kernelspec": {
   "display_name": "Python 3",
   "language": "python",
   "name": "python3"
  },
  "language_info": {
   "codemirror_mode": {
    "name": "ipython",
    "version": 3
   },
   "file_extension": ".py",
   "mimetype": "text/x-python",
   "name": "python",
   "nbconvert_exporter": "python",
   "pygments_lexer": "ipython3",
   "version": "3.7.8"
  },
  "toc": {
   "base_numbering": 1,
   "nav_menu": {},
   "number_sections": true,
   "sideBar": true,
   "skip_h1_title": true,
   "title_cell": "Table of Contents",
   "title_sidebar": "Contents",
   "toc_cell": false,
   "toc_position": {
    "height": "calc(100% - 180px)",
    "left": "10px",
    "top": "150px",
    "width": "195.75px"
   },
   "toc_section_display": true,
   "toc_window_display": true
  }
 },
 "nbformat": 4,
 "nbformat_minor": 2
}
